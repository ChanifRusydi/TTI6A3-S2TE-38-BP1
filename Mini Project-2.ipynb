{
 "cells": [
  {
   "cell_type": "code",
   "execution_count": null,
   "metadata": {},
   "outputs": [],
   "source": [
    "!nvidia-smi"
   ]
  },
  {
   "cell_type": "code",
   "execution_count": 2,
   "metadata": {},
   "outputs": [],
   "source": [
    "import os\n",
    "import torch\n",
    "import torch.backends.mps as mps\n",
    "from torchvision import datasets, transforms\n"
   ]
  },
  {
   "cell_type": "code",
   "execution_count": 3,
   "metadata": {},
   "outputs": [],
   "source": [
    "if mps.is_available():\n",
    "    device = torch.device(\"mps\")\n",
    "elif torch.cuda.is_available():\n",
    "    device = torch.device(\"cuda\")\n",
    "else:\n",
    "    device = torch.device(\"cpu\")"
   ]
  },
  {
   "cell_type": "code",
   "execution_count": 4,
   "metadata": {},
   "outputs": [],
   "source": [
    "transform = transforms.Compose(\n",
    "    [transforms.ToTensor(),\n",
    "     transforms.Normalize((0.5,), (0.5,))\n",
    "        ])\n"
   ]
  },
  {
   "cell_type": "code",
   "execution_count": 18,
   "metadata": {},
   "outputs": [],
   "source": [
    "download_state = True if not os.path.exists('./data/MNIST') else False\n",
    "trainset = datasets.MNIST(root='./data', train=True, download=download_state, transform=transform)\n",
    "trainloader = torch.utils.data.DataLoader(trainset, batch_size=32, shuffle=True)\n",
    "test_set = datasets.MNIST(root='./data', train=False, download=download_state, transform=transform)\n",
    "testloader = torch.utils.data.DataLoader(test_set, batch_size=32, shuffle=False)"
   ]
  },
  {
   "cell_type": "code",
   "execution_count": 19,
   "metadata": {},
   "outputs": [],
   "source": [
    "torch.backends.cudnn.enabled = True"
   ]
  },
  {
   "cell_type": "code",
   "execution_count": 33,
   "metadata": {},
   "outputs": [
    {
     "data": {
      "text/plain": [
       "CNN_model(\n",
       "  (conv1): Conv2d(1, 10, kernel_size=(5, 5), stride=(1, 1))\n",
       "  (conv2): Conv2d(10, 20, kernel_size=(5, 5), stride=(1, 1))\n",
       "  (conv2_drop): Dropout2d(p=0.25, inplace=False)\n",
       "  (fc1): Linear(in_features=320, out_features=50, bias=True)\n",
       "  (fc2): Linear(in_features=50, out_features=10, bias=True)\n",
       ")"
      ]
     },
     "execution_count": 33,
     "metadata": {},
     "output_type": "execute_result"
    }
   ],
   "source": [
    "from torch import nn\n",
    "from torch.nn import functional as F\n",
    "class CNN_model(nn.Module):\n",
    "    def __init__(self):\n",
    "        super(CNN_model, self).__init__()\n",
    "        self.conv1 = nn.Conv2d(1, 10, kernel_size=5)\n",
    "        self.conv2 = nn.Conv2d(10, 20, kernel_size=5)\n",
    "        self.conv2_drop = nn.Dropout2d(p=0.25)\n",
    "        self.fc1 = nn.Linear(320, 50)\n",
    "        self.fc2 = nn.Linear(50, 10)\n",
    "\n",
    "    def forward(self, x):\n",
    "        x = F.relu(F.max_pool2d(self.conv1(x), 2))\n",
    "        x = F.relu(F.max_pool2d(self.conv2_drop(self.conv2(x)), 2))\n",
    "        x = x.view(-1, 320)\n",
    "        x = F.relu(self.fc1(x))\n",
    "        x = F.dropout(x, training=self.training)\n",
    "        x = self.fc2(x)\n",
    "        return F.log_softmax(x)\n",
    "\n",
    "model = CNN_model().to(device)\n",
    "criterion = torch.nn.CrossEntropyLoss()\n",
    "optimizer = torch.optim.SGD(model.parameters(), lr=0.001, momentum=0.9)\n",
    "model"
   ]
  },
  {
   "cell_type": "code",
   "execution_count": 37,
   "metadata": {},
   "outputs": [
    {
     "name": "stderr",
     "output_type": "stream",
     "text": [
      "C:\\Users\\User\\AppData\\Local\\Temp\\ipykernel_12808\\1075259720.py:19: UserWarning: Implicit dimension choice for log_softmax has been deprecated. Change the call to include dim=X as an argument.\n",
      "  return F.log_softmax(x)\n"
     ]
    },
    {
     "name": "stdout",
     "output_type": "stream",
     "text": [
      "epoch : 1\n",
      "training loss: 0.2589, acc 29.5392 \n",
      "validation loss: 0.2320, validation acc 29.7796 \n",
      "epoch : 2\n",
      "training loss: 0.2191, acc 29.9461 \n",
      "validation loss: 0.1829, validation acc 30.1534 \n",
      "epoch : 3\n",
      "training loss: 0.1981, acc 30.1493 \n",
      "validation loss: 0.1790, validation acc 30.2204 \n",
      "epoch : 4\n",
      "training loss: 0.1809, acc 30.2976 \n",
      "validation loss: 0.1591, validation acc 30.4058 \n",
      "epoch : 5\n",
      "training loss: 0.1700, acc 30.3909 \n",
      "validation loss: 0.1524, validation acc 30.4696 \n",
      "epoch : 6\n",
      "training loss: 0.1604, acc 30.5051 \n",
      "validation loss: 0.1404, validation acc 30.5048 \n",
      "epoch : 7\n",
      "training loss: 0.1512, acc 30.5819 \n",
      "validation loss: 0.1384, validation acc 30.6358 \n",
      "epoch : 8\n",
      "training loss: 0.1461, acc 30.6384 \n",
      "validation loss: 0.1318, validation acc 30.7157 \n",
      "epoch : 9\n",
      "training loss: 0.1414, acc 30.6773 \n",
      "validation loss: 0.1272, validation acc 30.7348 \n",
      "epoch : 10\n",
      "training loss: 0.1356, acc 30.7008 \n",
      "validation loss: 0.1314, validation acc 30.7252 \n",
      "epoch : 11\n",
      "training loss: 0.1305, acc 30.7973 \n",
      "validation loss: 0.1219, validation acc 30.7572 \n",
      "epoch : 12\n",
      "training loss: 0.1244, acc 30.8101 \n",
      "validation loss: 0.1141, validation acc 30.8850 \n",
      "epoch : 13\n",
      "training loss: 0.1221, acc 30.8453 \n",
      "validation loss: 0.1208, validation acc 30.7987 \n",
      "epoch : 14\n",
      "training loss: 0.1182, acc 30.8683 \n",
      "validation loss: 0.1157, validation acc 30.8019 \n",
      "epoch : 15\n",
      "training loss: 0.1176, acc 30.8645 \n",
      "validation loss: 0.1136, validation acc 30.8562 \n"
     ]
    }
   ],
   "source": [
    "epochs = 15\n",
    "running_loss_history = []\n",
    "running_corrects_history = []\n",
    "val_running_loss_history = []\n",
    "val_running_corrects_history = []\n",
    "\n",
    "for e in range(epochs):\n",
    "  \n",
    "  running_loss = 0.0\n",
    "  running_corrects = 0.0\n",
    "  val_running_loss = 0.0\n",
    "  val_running_corrects = 0.0\n",
    "  \n",
    "  for inputs, labels in trainloader: # As our train_loader is batch size of 100 and had input images and corresponding labels\n",
    "    inputs = inputs.to(device)  # Put our inputs and labels in the device as our model is also in the device\n",
    "    labels = labels.to(device)\n",
    "    outputs = model(inputs)   # giving input to our model to get corresponding output\n",
    "    loss = criterion(outputs, labels) # comparing out model's output to original labels\n",
    "    \n",
    "    optimizer.zero_grad()  ##sets the initial gradient to zero\n",
    "    loss.backward()  ## The whole calculated loss is then back propogated to the model\n",
    "    optimizer.step()  ## Then the weights are updated by doing their derivative w.r.t the Loss\n",
    "    \n",
    "    _, preds = torch.max(outputs, 1) # Then we select the max value of raw output and consider it as our prediction. We select it from 10 o/ps\n",
    "    running_loss += loss.item()  # total loss of 1 epoch\n",
    "    running_corrects += torch.sum(preds == labels.data) #total accuracy of 1 epoch\n",
    "\n",
    "  else:\n",
    "    with torch.no_grad(): # This we done to set no gradient as we do not need it for val as our model is already trained.\n",
    "      for val_inputs, val_labels in testloader:\n",
    "        val_inputs = val_inputs.to(device)  # Put our val_inputs and labels in the device as our model is also in the device\n",
    "        val_labels = val_labels.to(device)\n",
    "        val_outputs = model(val_inputs)\n",
    "        val_loss = criterion(val_outputs, val_labels)\n",
    "        \n",
    "        _, val_preds = torch.max(val_outputs, 1)\n",
    "        val_running_loss += val_loss.item()\n",
    "        val_running_corrects += torch.sum(val_preds == val_labels.data)\n",
    "      \n",
    "    epoch_loss = running_loss/len(trainloader)\n",
    "    epoch_acc = running_corrects.float()/ len(trainloader)\n",
    "    running_loss_history.append(epoch_loss)\n",
    "    running_corrects_history.append(epoch_acc)\n",
    "    \n",
    "    val_epoch_loss = val_running_loss/len(testloader)\n",
    "    val_epoch_acc = val_running_corrects.float()/ len(testloader)\n",
    "    val_running_loss_history.append(val_epoch_loss)\n",
    "    val_running_corrects_history.append(val_epoch_acc)\n",
    "    print('epoch :', (e+1))\n",
    "    print('training loss: {:.4f}, acc {:.4f} '.format(epoch_loss, epoch_acc.item()))\n",
    "    print('validation loss: {:.4f}, validation acc {:.4f} '.format(val_epoch_loss, val_epoch_acc.item()))"
   ]
  },
  {
   "cell_type": "code",
   "execution_count": 45,
   "metadata": {},
   "outputs": [
    {
     "name": "stdout",
     "output_type": "stream",
     "text": [
      "[0.2589147186934948, 0.21909055761744578, 0.1981377192556858, 0.18089402463535467, 0.170021446151038, 0.160351133381327, 0.15122147481689852, 0.14614352780183157, 0.14138950791433452, 0.1355874586785833, 0.13049602460811535, 0.12439396414545675, 0.12210823264991244, 0.11823889732944469, 0.11763371532633901]\n"
     ]
    }
   ],
   "source": [
    "print(running_loss_history)"
   ]
  },
  {
   "cell_type": "code",
   "execution_count": 40,
   "metadata": {},
   "outputs": [
    {
     "data": {
      "text/plain": [
       "<matplotlib.legend.Legend at 0x260b54997f0>"
      ]
     },
     "execution_count": 40,
     "metadata": {},
     "output_type": "execute_result"
    },
    {
     "data": {
      "image/png": "[encoded data removed]",
      "text/plain": [
       "<Figure size 640x480 with 1 Axes>"
      ]
     },
     "metadata": {},
     "output_type": "display_data"
    }
   ],
   "source": [
    "import matplotlib.pyplot as plt\n",
    "plt.plot(running_loss_history, label='training loss')\n",
    "plt.plot(val_running_loss_history, label='validation loss')\n",
    "plt.legend()"
   ]
  },
  {
   "cell_type": "code",
   "execution_count": 44,
   "metadata": {},
   "outputs": [
    {
     "name": "stdout",
     "output_type": "stream",
     "text": [
      "[tensor(29.5392, device='cuda:0'), tensor(29.9461, device='cuda:0'), tensor(30.1493, device='cuda:0'), tensor(30.2976, device='cuda:0'), tensor(30.3909, device='cuda:0'), tensor(30.5051, device='cuda:0'), tensor(30.5819, device='cuda:0'), tensor(30.6384, device='cuda:0'), tensor(30.6773, device='cuda:0'), tensor(30.7008, device='cuda:0'), tensor(30.7973, device='cuda:0'), tensor(30.8101, device='cuda:0'), tensor(30.8453, device='cuda:0'), tensor(30.8683, device='cuda:0'), tensor(30.8645, device='cuda:0')]\n"
     ]
    }
   ],
   "source": [
    "print(running_corrects_history)"
   ]
  },
  {
   "cell_type": "code",
   "execution_count": null,
   "metadata": {},
   "outputs": [],
   "source": [
    "plt.plot(running_corrects_history.cpu().numpy(), label='training accuracy')\n"
   ]
  },
  {
   "cell_type": "code",
   "execution_count": 2,
   "metadata": {},
   "outputs": [],
   "source": [
    "import tensorflow as tf\n",
    "import numpy as np\n",
    "from tensorflow import keras\n",
    "from tensorflow.keras import layers\n",
    "from tensorflow.keras.models import Sequential"
   ]
  },
  {
   "cell_type": "code",
   "execution_count": 4,
   "metadata": {},
   "outputs": [],
   "source": [
    "mnist = tf.keras.datasets.mnist\n",
    "tf_mnist_train_set, tf_mnist_test_set = mnist.load_data()"
   ]
  },
  {
   "cell_type": "code",
   "execution_count": 5,
   "metadata": {},
   "outputs": [],
   "source": [
    "tf_train_images, tf_train_labels = tf_mnist_train_set\n",
    "tf_test_images, tf_test_labels = tf_mnist_test_set\n",
    "tf_train_images = tf_train_images / 255.0\n",
    "tf_test_images = tf_test_images / 255.0"
   ]
  },
  {
   "cell_type": "code",
   "execution_count": 6,
   "metadata": {},
   "outputs": [],
   "source": [
    "tf_model = Sequential([\n",
    "    layers.Flatten(input_shape=(28, 28)),\n",
    "    layers.Dense(128, activation='relu'),\n",
    "    layers.Dropout(0.2),\n",
    "    layers.Dense(10)\n",
    "])\n"
   ]
  },
  {
   "cell_type": "code",
   "execution_count": 7,
   "metadata": {},
   "outputs": [
    {
     "name": "stdout",
     "output_type": "stream",
     "text": [
      "Epoch 1/10\n",
      "1875/1875 [==============================] - 3s 1ms/step - loss: 0.2916 - accuracy: 0.9147\n",
      "Epoch 2/10\n",
      "1875/1875 [==============================] - 2s 1ms/step - loss: 0.1418 - accuracy: 0.9576\n",
      "Epoch 3/10\n",
      "1875/1875 [==============================] - 2s 1ms/step - loss: 0.1076 - accuracy: 0.9675\n",
      "Epoch 4/10\n",
      "1875/1875 [==============================] - 2s 1ms/step - loss: 0.0887 - accuracy: 0.9728\n",
      "Epoch 5/10\n",
      "1875/1875 [==============================] - 2s 1ms/step - loss: 0.0731 - accuracy: 0.9767\n",
      "Epoch 6/10\n",
      "1875/1875 [==============================] - 2s 1ms/step - loss: 0.0636 - accuracy: 0.9795\n",
      "Epoch 7/10\n",
      "1875/1875 [==============================] - 2s 1ms/step - loss: 0.0585 - accuracy: 0.9817\n",
      "Epoch 8/10\n",
      "1875/1875 [==============================] - 2s 1ms/step - loss: 0.0509 - accuracy: 0.9836\n",
      "Epoch 9/10\n",
      "1875/1875 [==============================] - 2s 1ms/step - loss: 0.0467 - accuracy: 0.9849\n",
      "Epoch 10/10\n",
      "1875/1875 [==============================] - 2s 1ms/step - loss: 0.0442 - accuracy: 0.9855\n"
     ]
    },
    {
     "data": {
      "text/plain": [
       "<keras.callbacks.History at 0x1bf50d80fd0>"
      ]
     },
     "execution_count": 7,
     "metadata": {},
     "output_type": "execute_result"
    }
   ],
   "source": [
    "tf_model.compile(optimizer='adam', loss=tf.keras.losses.SparseCategoricalCrossentropy(from_logits=True), metrics=['accuracy'])\n",
    "tf_model.fit(tf_train_images, tf_train_labels, epochs=10)"
   ]
  },
  {
   "cell_type": "code",
   "execution_count": 8,
   "metadata": {},
   "outputs": [
    {
     "name": "stdout",
     "output_type": "stream",
     "text": [
      "313/313 - 0s - loss: 0.0677 - accuracy: 0.9803 - 380ms/epoch - 1ms/step\n",
      "\n",
      "Test accuracy: 0.9803000092506409\n",
      "\n",
      "Test loss: 0.06771095097064972\n"
     ]
    }
   ],
   "source": [
    "test_loss, test_acc = tf_model.evaluate(tf_test_images,  tf_test_labels, verbose=2)\n",
    "print('\\nTest accuracy:', test_acc)\n",
    "print('\\nTest loss:', test_loss)"
   ]
  },
  {
   "cell_type": "code",
   "execution_count": 9,
   "metadata": {},
   "outputs": [],
   "source": [
    "tf_model.save('mnist_model.h5')"
   ]
  }
 ],
 "metadata": {
  "kernelspec": {
   "display_name": "base",
   "language": "python",
   "name": "python3"
  },
  "language_info": {
   "codemirror_mode": {
    "name": "ipython",
    "version": 3
   },
   "file_extension": ".py",
   "mimetype": "text/x-python",
   "name": "python",
   "nbconvert_exporter": "python",
   "pygments_lexer": "ipython3",
   "version": "3.9.12"
  }
 },
 "nbformat": 4,
 "nbformat_minor": 2
}
