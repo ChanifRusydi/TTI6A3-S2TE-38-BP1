{
 "cells": [
  {
   "cell_type": "code",
   "execution_count": 7,
   "metadata": {},
   "outputs": [
    {
     "data": {
      "text/plain": [
       "['pomegranate_diseased',\n",
       " 'pongamia_pinnata_diseased',\n",
       " 'pongamia_pinnata_healthy',\n",
       " 'pomegranate_healthy']"
      ]
     },
     "execution_count": 7,
     "metadata": {},
     "output_type": "execute_result"
    }
   ],
   "source": [
    "import os\n",
    "class_folder =[ name for name in os.listdir('data/Leaf') if os.path.isdir(os.path.join('data/Leaf', name)) ]\n",
    "class_folder"
   ]
  },
  {
   "cell_type": "code",
   "execution_count": 13,
   "metadata": {},
   "outputs": [
    {
     "name": "stdout",
     "output_type": "stream",
     "text": [
      "pomegranate_diseased 272\n",
      "{7, 8, 14, 15, 19, 22, 27, 28, 29, 36, 38, 39, 40, 44, 45, 46, 48, 49, 50, 52, 53, 54, 55, 57, 59, 63, 64, 67, 68, 72, 73, 75, 78, 82, 83, 87, 94, 95, 96, 99, 101, 103, 104, 105, 107, 110, 111, 112, 114, 116, 119, 125, 127, 130, 132, 134, 140, 143, 145, 147, 150, 151, 153, 159, 167, 169, 170, 173, 177, 179, 181, 183, 187, 188, 191, 194, 196, 200, 201, 203, 205, 208, 213, 215, 218, 219, 220, 221, 225, 228, 230, 245, 246, 248, 250, 254, 258, 261, 267, 268, 272}\n",
      "101\n",
      "pongamia_pinnata_diseased 276\n",
      "{0, 1, 2, 3, 8, 9, 12, 14, 18, 19, 26, 30, 31, 33, 40, 45, 46, 48, 51, 58, 62, 64, 68, 71, 77, 81, 83, 84, 86, 91, 93, 94, 95, 98, 100, 103, 109, 111, 112, 114, 116, 119, 120, 122, 123, 124, 129, 130, 132, 134, 136, 139, 140, 141, 142, 143, 148, 150, 154, 155, 158, 162, 163, 166, 168, 170, 172, 174, 175, 180, 181, 183, 184, 187, 190, 191, 192, 195, 197, 198, 199, 208, 210, 211, 214, 220, 225, 235, 236, 241, 249, 254, 257, 258, 259, 260, 261, 263, 264, 270, 271}\n",
      "101\n",
      "pongamia_pinnata_healthy 323\n",
      "{1, 5, 7, 10, 13, 15, 21, 22, 24, 32, 42, 48, 60, 64, 66, 69, 75, 76, 83, 86, 87, 88, 91, 94, 95, 98, 101, 105, 107, 109, 111, 120, 124, 125, 133, 134, 135, 139, 141, 142, 143, 145, 151, 160, 163, 164, 169, 172, 173, 177, 178, 179, 187, 188, 192, 194, 195, 197, 199, 202, 203, 209, 217, 218, 220, 221, 223, 224, 227, 228, 230, 232, 235, 236, 238, 243, 244, 245, 256, 257, 260, 261, 263, 272, 277, 280, 281, 284, 288, 289, 291, 292, 293, 294, 296, 301, 302, 303, 310, 315, 322}\n",
      "101\n",
      "pomegranate_healthy 287\n",
      "{2, 3, 5, 6, 8, 11, 15, 16, 21, 26, 31, 33, 34, 35, 37, 39, 41, 44, 46, 47, 49, 52, 55, 56, 59, 60, 61, 63, 65, 66, 67, 68, 76, 80, 81, 83, 85, 90, 92, 94, 95, 96, 97, 101, 107, 113, 117, 119, 120, 121, 126, 131, 132, 139, 143, 144, 146, 150, 152, 153, 154, 157, 162, 163, 168, 169, 174, 177, 182, 188, 191, 197, 199, 200, 201, 203, 204, 208, 216, 217, 228, 230, 233, 235, 240, 241, 243, 254, 255, 257, 258, 259, 261, 262, 264, 265, 268, 269, 276, 281, 283}\n",
      "101\n"
     ]
    }
   ],
   "source": [
    "import random\n",
    "image_in_folder = []\n",
    "selected_images = set()\n",
    "for folder in class_folder:\n",
    "    image_in_folder = os.listdir('data/Leaf/'+folder)\n",
    "    image_count = len(image_in_folder)\n",
    "    print(folder, image_count)\n",
    "    if image_count < 100:\n",
    "        print('Less than 100 images in folder', folder)\n",
    "    else:\n",
    "        while(len(selected_images) < 100):\n",
    "            selected_images.add(random.randint(0, image_count))\n",
    "        print(selected_images)\n",
    "        print(len(selected_images))\n",
    "        selected_images.clear()\n",
    "        # # copy the selected images to another folder\n",
    "        # for i in selected_images:\n",
    "        #     print(image_in_folder[i])\n",
    "        #     source = 'data/Leaf/'+folder+'/'+image_in_folder[i]\n",
    "        #     destination = 'data/Leaf_100/'+folder+'/'+image_in_folder[i]\n",
    "        #     os.system(f'cp \"{source}\" \"{destination}\"')"
   ]
  }
 ],
 "metadata": {
  "kernelspec": {
   "display_name": "base",
   "language": "python",
   "name": "python3"
  },
  "language_info": {
   "codemirror_mode": {
    "name": "ipython",
    "version": 3
   },
   "file_extension": ".py",
   "mimetype": "text/x-python",
   "name": "python",
   "nbconvert_exporter": "python",
   "pygments_lexer": "ipython3",
   "version": "3.9.16"
  }
 },
 "nbformat": 4,
 "nbformat_minor": 2
}
