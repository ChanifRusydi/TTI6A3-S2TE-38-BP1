{
 "cells": [
  {
   "cell_type": "markdown",
   "metadata": {},
   "source": [
    "In this notebook, would have 6 scenarios to solve the problem. Generally differentiate by the use of the data\\\n",
    "1. Combining all the A1, A2, A3 into one dataframe and combining all the B1, B2, B3, B4, B5,B7 into another dataframe.\n",
    "2. Combining all the A1, A2, A3 and B1, B2, B3, B4, B5,B7 into one dataframe.\\\n",
    "Each of the above data scenario would have 3 scenarios to train\n",
    "   1. Using 10-fold cross validation\n",
    "   2. Using 75% train and 25% test split\n",
    "   3. Using 50% train and 25% validation and 25% test split"
   ]
  },
  {
   "cell_type": "markdown",
   "metadata": {},
   "source": [
    "# Data Loading and Preprocessing"
   ]
  },
  {
   "cell_type": "code",
   "execution_count": 1,
   "metadata": {},
   "outputs": [],
   "source": [
    "import pandas as pd"
   ]
  },
  {
   "cell_type": "code",
   "execution_count": 2,
   "metadata": {},
   "outputs": [],
   "source": [
    "A1 = pd.read_excel('data/CPA1.xlsx')\n",
    "A2 = pd.read_excel('data/CPA2.xlsx')\n",
    "A3 = pd.read_excel('data/CPA3.xlsx')"
   ]
  },
  {
   "cell_type": "code",
   "execution_count": 3,
   "metadata": {},
   "outputs": [
    {
     "data": {
      "text/html": [
       "<div>\n",
       "<style scoped>\n",
       "    .dataframe tbody tr th:only-of-type {\n",
       "        vertical-align: middle;\n",
       "    }\n",
       "\n",
       "    .dataframe tbody tr th {\n",
       "        vertical-align: top;\n",
       "    }\n",
       "\n",
       "    .dataframe thead th {\n",
       "        text-align: right;\n",
       "    }\n",
       "</style>\n",
       "<table border=\"1\" class=\"dataframe\">\n",
       "  <thead>\n",
       "    <tr style=\"text-align: right;\">\n",
       "      <th></th>\n",
       "      <th>powLv1</th>\n",
       "      <th>powLv2</th>\n",
       "      <th>powLv3</th>\n",
       "      <th>powLv4</th>\n",
       "      <th>powLv5</th>\n",
       "      <th>kelas</th>\n",
       "    </tr>\n",
       "  </thead>\n",
       "  <tbody>\n",
       "    <tr>\n",
       "      <th>0</th>\n",
       "      <td>0.446692</td>\n",
       "      <td>0.220117</td>\n",
       "      <td>0.144672</td>\n",
       "      <td>0.106003</td>\n",
       "      <td>0.082516</td>\n",
       "      <td>A</td>\n",
       "    </tr>\n",
       "    <tr>\n",
       "      <th>1</th>\n",
       "      <td>0.442455</td>\n",
       "      <td>0.219658</td>\n",
       "      <td>0.145039</td>\n",
       "      <td>0.107494</td>\n",
       "      <td>0.085354</td>\n",
       "      <td>A</td>\n",
       "    </tr>\n",
       "    <tr>\n",
       "      <th>2</th>\n",
       "      <td>0.446993</td>\n",
       "      <td>0.220535</td>\n",
       "      <td>0.144443</td>\n",
       "      <td>0.105565</td>\n",
       "      <td>0.082465</td>\n",
       "      <td>A</td>\n",
       "    </tr>\n",
       "    <tr>\n",
       "      <th>3</th>\n",
       "      <td>0.457090</td>\n",
       "      <td>0.221898</td>\n",
       "      <td>0.141954</td>\n",
       "      <td>0.101666</td>\n",
       "      <td>0.077392</td>\n",
       "      <td>A</td>\n",
       "    </tr>\n",
       "    <tr>\n",
       "      <th>4</th>\n",
       "      <td>0.447407</td>\n",
       "      <td>0.220674</td>\n",
       "      <td>0.143812</td>\n",
       "      <td>0.105975</td>\n",
       "      <td>0.082134</td>\n",
       "      <td>A</td>\n",
       "    </tr>\n",
       "  </tbody>\n",
       "</table>\n",
       "</div>"
      ],
      "text/plain": [
       "     powLv1    powLv2    powLv3    powLv4    powLv5 kelas\n",
       "0  0.446692  0.220117  0.144672  0.106003  0.082516     A\n",
       "1  0.442455  0.219658  0.145039  0.107494  0.085354     A\n",
       "2  0.446993  0.220535  0.144443  0.105565  0.082465     A\n",
       "3  0.457090  0.221898  0.141954  0.101666  0.077392     A\n",
       "4  0.447407  0.220674  0.143812  0.105975  0.082134     A"
      ]
     },
     "execution_count": 3,
     "metadata": {},
     "output_type": "execute_result"
    }
   ],
   "source": [
    "A1.head()"
   ]
  },
  {
   "cell_type": "code",
   "execution_count": 4,
   "metadata": {},
   "outputs": [
    {
     "data": {
      "text/html": [
       "<div>\n",
       "<style scoped>\n",
       "    .dataframe tbody tr th:only-of-type {\n",
       "        vertical-align: middle;\n",
       "    }\n",
       "\n",
       "    .dataframe tbody tr th {\n",
       "        vertical-align: top;\n",
       "    }\n",
       "\n",
       "    .dataframe thead th {\n",
       "        text-align: right;\n",
       "    }\n",
       "</style>\n",
       "<table border=\"1\" class=\"dataframe\">\n",
       "  <thead>\n",
       "    <tr style=\"text-align: right;\">\n",
       "      <th></th>\n",
       "      <th>powLv1</th>\n",
       "      <th>powLv2</th>\n",
       "      <th>powLv3</th>\n",
       "      <th>powLv4</th>\n",
       "      <th>powLv5</th>\n",
       "      <th>kelas</th>\n",
       "    </tr>\n",
       "  </thead>\n",
       "  <tbody>\n",
       "    <tr>\n",
       "      <th>0</th>\n",
       "      <td>0.448457</td>\n",
       "      <td>0.220860</td>\n",
       "      <td>0.143938</td>\n",
       "      <td>0.104903</td>\n",
       "      <td>0.081841</td>\n",
       "      <td>B</td>\n",
       "    </tr>\n",
       "    <tr>\n",
       "      <th>1</th>\n",
       "      <td>0.448288</td>\n",
       "      <td>0.221315</td>\n",
       "      <td>0.144335</td>\n",
       "      <td>0.104964</td>\n",
       "      <td>0.081099</td>\n",
       "      <td>B</td>\n",
       "    </tr>\n",
       "    <tr>\n",
       "      <th>2</th>\n",
       "      <td>0.448916</td>\n",
       "      <td>0.221049</td>\n",
       "      <td>0.143741</td>\n",
       "      <td>0.105198</td>\n",
       "      <td>0.081096</td>\n",
       "      <td>B</td>\n",
       "    </tr>\n",
       "    <tr>\n",
       "      <th>3</th>\n",
       "      <td>0.449600</td>\n",
       "      <td>0.221141</td>\n",
       "      <td>0.144107</td>\n",
       "      <td>0.104930</td>\n",
       "      <td>0.080222</td>\n",
       "      <td>B</td>\n",
       "    </tr>\n",
       "    <tr>\n",
       "      <th>4</th>\n",
       "      <td>0.451886</td>\n",
       "      <td>0.221594</td>\n",
       "      <td>0.143987</td>\n",
       "      <td>0.103718</td>\n",
       "      <td>0.078816</td>\n",
       "      <td>B</td>\n",
       "    </tr>\n",
       "  </tbody>\n",
       "</table>\n",
       "</div>"
      ],
      "text/plain": [
       "     powLv1    powLv2    powLv3    powLv4    powLv5 kelas\n",
       "0  0.448457  0.220860  0.143938  0.104903  0.081841     B\n",
       "1  0.448288  0.221315  0.144335  0.104964  0.081099     B\n",
       "2  0.448916  0.221049  0.143741  0.105198  0.081096     B\n",
       "3  0.449600  0.221141  0.144107  0.104930  0.080222     B\n",
       "4  0.451886  0.221594  0.143987  0.103718  0.078816     B"
      ]
     },
     "execution_count": 4,
     "metadata": {},
     "output_type": "execute_result"
    }
   ],
   "source": [
    "A2.head()"
   ]
  },
  {
   "cell_type": "code",
   "execution_count": 5,
   "metadata": {},
   "outputs": [
    {
     "data": {
      "text/html": [
       "<div>\n",
       "<style scoped>\n",
       "    .dataframe tbody tr th:only-of-type {\n",
       "        vertical-align: middle;\n",
       "    }\n",
       "\n",
       "    .dataframe tbody tr th {\n",
       "        vertical-align: top;\n",
       "    }\n",
       "\n",
       "    .dataframe thead th {\n",
       "        text-align: right;\n",
       "    }\n",
       "</style>\n",
       "<table border=\"1\" class=\"dataframe\">\n",
       "  <thead>\n",
       "    <tr style=\"text-align: right;\">\n",
       "      <th></th>\n",
       "      <th>powLv1</th>\n",
       "      <th>powLv2</th>\n",
       "      <th>powLv3</th>\n",
       "      <th>powLv4</th>\n",
       "      <th>powLv5</th>\n",
       "      <th>kelas</th>\n",
       "    </tr>\n",
       "  </thead>\n",
       "  <tbody>\n",
       "    <tr>\n",
       "      <th>0</th>\n",
       "      <td>0.446692</td>\n",
       "      <td>0.220117</td>\n",
       "      <td>0.144672</td>\n",
       "      <td>0.106003</td>\n",
       "      <td>0.082516</td>\n",
       "      <td>A</td>\n",
       "    </tr>\n",
       "    <tr>\n",
       "      <th>1</th>\n",
       "      <td>0.442455</td>\n",
       "      <td>0.219658</td>\n",
       "      <td>0.145039</td>\n",
       "      <td>0.107494</td>\n",
       "      <td>0.085354</td>\n",
       "      <td>A</td>\n",
       "    </tr>\n",
       "    <tr>\n",
       "      <th>2</th>\n",
       "      <td>0.446993</td>\n",
       "      <td>0.220535</td>\n",
       "      <td>0.144443</td>\n",
       "      <td>0.105565</td>\n",
       "      <td>0.082465</td>\n",
       "      <td>A</td>\n",
       "    </tr>\n",
       "    <tr>\n",
       "      <th>3</th>\n",
       "      <td>0.457090</td>\n",
       "      <td>0.221898</td>\n",
       "      <td>0.141954</td>\n",
       "      <td>0.101666</td>\n",
       "      <td>0.077392</td>\n",
       "      <td>A</td>\n",
       "    </tr>\n",
       "    <tr>\n",
       "      <th>4</th>\n",
       "      <td>0.447407</td>\n",
       "      <td>0.220674</td>\n",
       "      <td>0.143812</td>\n",
       "      <td>0.105975</td>\n",
       "      <td>0.082134</td>\n",
       "      <td>A</td>\n",
       "    </tr>\n",
       "  </tbody>\n",
       "</table>\n",
       "</div>"
      ],
      "text/plain": [
       "     powLv1    powLv2    powLv3    powLv4    powLv5 kelas\n",
       "0  0.446692  0.220117  0.144672  0.106003  0.082516     A\n",
       "1  0.442455  0.219658  0.145039  0.107494  0.085354     A\n",
       "2  0.446993  0.220535  0.144443  0.105565  0.082465     A\n",
       "3  0.457090  0.221898  0.141954  0.101666  0.077392     A\n",
       "4  0.447407  0.220674  0.143812  0.105975  0.082134     A"
      ]
     },
     "execution_count": 5,
     "metadata": {},
     "output_type": "execute_result"
    }
   ],
   "source": [
    "A3.head()"
   ]
  },
  {
   "cell_type": "code",
   "execution_count": 6,
   "metadata": {},
   "outputs": [
    {
     "name": "stdout",
     "output_type": "stream",
     "text": [
      "kelas\n",
      "A    100\n",
      "E    100\n",
      "Name: count, dtype: int64\n",
      "kelas\n",
      "B    100\n",
      "E    100\n",
      "Name: count, dtype: int64\n",
      "kelas\n",
      "A    200\n",
      "E    100\n",
      "Name: count, dtype: int64\n"
     ]
    }
   ],
   "source": [
    "#count the number of class in the file\n",
    "A1_counts = A1['kelas'].value_counts()\n",
    "A2_counts = A2['kelas'].value_counts()\n",
    "A3_counts = A3['kelas'].value_counts()\n",
    "print(A1_counts)\n",
    "print(A2_counts)\n",
    "print(A3_counts)"
   ]
  },
  {
   "cell_type": "code",
   "execution_count": 7,
   "metadata": {},
   "outputs": [],
   "source": [
    "B1 = pd.read_excel('data/CPB1.xlsx')\n",
    "B2 = pd.read_excel('data/CPB2.xlsx')\n",
    "B3 = pd.read_excel('data/CPB3.xlsx')\n",
    "B4 = pd.read_excel('data/CPB4.xlsx')\n",
    "B5 = pd.read_excel('data/CPB5.xlsx')\n",
    "B6 = pd.read_excel('data/CPB6.xlsx')\n",
    "B7 = pd.read_excel('data/CPB7.xlsx')"
   ]
  },
  {
   "cell_type": "code",
   "execution_count": 8,
   "metadata": {},
   "outputs": [
    {
     "data": {
      "text/html": [
       "<div>\n",
       "<style scoped>\n",
       "    .dataframe tbody tr th:only-of-type {\n",
       "        vertical-align: middle;\n",
       "    }\n",
       "\n",
       "    .dataframe tbody tr th {\n",
       "        vertical-align: top;\n",
       "    }\n",
       "\n",
       "    .dataframe thead th {\n",
       "        text-align: right;\n",
       "    }\n",
       "</style>\n",
       "<table border=\"1\" class=\"dataframe\">\n",
       "  <thead>\n",
       "    <tr style=\"text-align: right;\">\n",
       "      <th></th>\n",
       "      <th>powLv1</th>\n",
       "      <th>powLv2</th>\n",
       "      <th>powLv3</th>\n",
       "      <th>powLv4</th>\n",
       "      <th>powLv5</th>\n",
       "      <th>kelas</th>\n",
       "    </tr>\n",
       "  </thead>\n",
       "  <tbody>\n",
       "    <tr>\n",
       "      <th>0</th>\n",
       "      <td>0.446692</td>\n",
       "      <td>0.220117</td>\n",
       "      <td>0.144672</td>\n",
       "      <td>0.106003</td>\n",
       "      <td>0.082516</td>\n",
       "      <td>A</td>\n",
       "    </tr>\n",
       "    <tr>\n",
       "      <th>1</th>\n",
       "      <td>0.442455</td>\n",
       "      <td>0.219658</td>\n",
       "      <td>0.145039</td>\n",
       "      <td>0.107494</td>\n",
       "      <td>0.085354</td>\n",
       "      <td>A</td>\n",
       "    </tr>\n",
       "    <tr>\n",
       "      <th>2</th>\n",
       "      <td>0.446993</td>\n",
       "      <td>0.220535</td>\n",
       "      <td>0.144443</td>\n",
       "      <td>0.105565</td>\n",
       "      <td>0.082465</td>\n",
       "      <td>A</td>\n",
       "    </tr>\n",
       "    <tr>\n",
       "      <th>3</th>\n",
       "      <td>0.457090</td>\n",
       "      <td>0.221898</td>\n",
       "      <td>0.141954</td>\n",
       "      <td>0.101666</td>\n",
       "      <td>0.077392</td>\n",
       "      <td>A</td>\n",
       "    </tr>\n",
       "    <tr>\n",
       "      <th>4</th>\n",
       "      <td>0.447407</td>\n",
       "      <td>0.220674</td>\n",
       "      <td>0.143812</td>\n",
       "      <td>0.105975</td>\n",
       "      <td>0.082134</td>\n",
       "      <td>A</td>\n",
       "    </tr>\n",
       "  </tbody>\n",
       "</table>\n",
       "</div>"
      ],
      "text/plain": [
       "     powLv1    powLv2    powLv3    powLv4    powLv5 kelas\n",
       "0  0.446692  0.220117  0.144672  0.106003  0.082516     A\n",
       "1  0.442455  0.219658  0.145039  0.107494  0.085354     A\n",
       "2  0.446993  0.220535  0.144443  0.105565  0.082465     A\n",
       "3  0.457090  0.221898  0.141954  0.101666  0.077392     A\n",
       "4  0.447407  0.220674  0.143812  0.105975  0.082134     A"
      ]
     },
     "execution_count": 8,
     "metadata": {},
     "output_type": "execute_result"
    }
   ],
   "source": [
    "B1.head()"
   ]
  },
  {
   "cell_type": "code",
   "execution_count": 9,
   "metadata": {},
   "outputs": [
    {
     "data": {
      "text/html": [
       "<div>\n",
       "<style scoped>\n",
       "    .dataframe tbody tr th:only-of-type {\n",
       "        vertical-align: middle;\n",
       "    }\n",
       "\n",
       "    .dataframe tbody tr th {\n",
       "        vertical-align: top;\n",
       "    }\n",
       "\n",
       "    .dataframe thead th {\n",
       "        text-align: right;\n",
       "    }\n",
       "</style>\n",
       "<table border=\"1\" class=\"dataframe\">\n",
       "  <thead>\n",
       "    <tr style=\"text-align: right;\">\n",
       "      <th></th>\n",
       "      <th>powLv1</th>\n",
       "      <th>powLv2</th>\n",
       "      <th>powLv3</th>\n",
       "      <th>powLv4</th>\n",
       "      <th>powLv5</th>\n",
       "      <th>kelas</th>\n",
       "    </tr>\n",
       "  </thead>\n",
       "  <tbody>\n",
       "    <tr>\n",
       "      <th>0</th>\n",
       "      <td>0.446692</td>\n",
       "      <td>0.220117</td>\n",
       "      <td>0.144672</td>\n",
       "      <td>0.106003</td>\n",
       "      <td>0.082516</td>\n",
       "      <td>A</td>\n",
       "    </tr>\n",
       "    <tr>\n",
       "      <th>1</th>\n",
       "      <td>0.442455</td>\n",
       "      <td>0.219658</td>\n",
       "      <td>0.145039</td>\n",
       "      <td>0.107494</td>\n",
       "      <td>0.085354</td>\n",
       "      <td>A</td>\n",
       "    </tr>\n",
       "    <tr>\n",
       "      <th>2</th>\n",
       "      <td>0.446993</td>\n",
       "      <td>0.220535</td>\n",
       "      <td>0.144443</td>\n",
       "      <td>0.105565</td>\n",
       "      <td>0.082465</td>\n",
       "      <td>A</td>\n",
       "    </tr>\n",
       "    <tr>\n",
       "      <th>3</th>\n",
       "      <td>0.457090</td>\n",
       "      <td>0.221898</td>\n",
       "      <td>0.141954</td>\n",
       "      <td>0.101666</td>\n",
       "      <td>0.077392</td>\n",
       "      <td>A</td>\n",
       "    </tr>\n",
       "    <tr>\n",
       "      <th>4</th>\n",
       "      <td>0.447407</td>\n",
       "      <td>0.220674</td>\n",
       "      <td>0.143812</td>\n",
       "      <td>0.105975</td>\n",
       "      <td>0.082134</td>\n",
       "      <td>A</td>\n",
       "    </tr>\n",
       "  </tbody>\n",
       "</table>\n",
       "</div>"
      ],
      "text/plain": [
       "     powLv1    powLv2    powLv3    powLv4    powLv5 kelas\n",
       "0  0.446692  0.220117  0.144672  0.106003  0.082516     A\n",
       "1  0.442455  0.219658  0.145039  0.107494  0.085354     A\n",
       "2  0.446993  0.220535  0.144443  0.105565  0.082465     A\n",
       "3  0.457090  0.221898  0.141954  0.101666  0.077392     A\n",
       "4  0.447407  0.220674  0.143812  0.105975  0.082134     A"
      ]
     },
     "execution_count": 9,
     "metadata": {},
     "output_type": "execute_result"
    }
   ],
   "source": [
    "B2.head()"
   ]
  },
  {
   "cell_type": "code",
   "execution_count": 10,
   "metadata": {},
   "outputs": [
    {
     "name": "stdout",
     "output_type": "stream",
     "text": [
      "kelas\n",
      "A    100\n",
      "C    100\n",
      "Name: count, dtype: int64\n",
      "kelas\n",
      "A    100\n",
      "D    100\n",
      "Name: count, dtype: int64\n",
      "kelas\n",
      "B    100\n",
      "C    100\n",
      "Name: count, dtype: int64\n",
      "kelas\n",
      "B    100\n",
      "D    100\n",
      "Name: count, dtype: int64\n",
      "kelas\n",
      "A    200\n",
      "C    100\n",
      "Name: count, dtype: int64\n",
      "kelas\n",
      "A    200\n",
      "D    100\n",
      "Name: count, dtype: int64\n",
      "kelas\n",
      "A    200\n",
      "C    200\n",
      "Name: count, dtype: int64\n"
     ]
    }
   ],
   "source": [
    "B1_counts = B1['kelas'].value_counts()\n",
    "B2_counts = B2['kelas'].value_counts()\n",
    "B3_counts = B3['kelas'].value_counts()\n",
    "B4_counts = B4['kelas'].value_counts()\n",
    "B5_counts = B5['kelas'].value_counts()\n",
    "B6_counts = B6['kelas'].value_counts()\n",
    "B7_counts = B7['kelas'].value_counts()\n",
    "print(B1_counts)\n",
    "print(B2_counts)\n",
    "print(B3_counts)\n",
    "print(B4_counts)\n",
    "print(B5_counts)\n",
    "print(B6_counts)\n",
    "print(B7_counts)"
   ]
  },
  {
   "cell_type": "code",
   "execution_count": 11,
   "metadata": {},
   "outputs": [
    {
     "data": {
      "text/plain": [
       "100"
      ]
     },
     "execution_count": 11,
     "metadata": {},
     "output_type": "execute_result"
    }
   ],
   "source": [
    "B1_counts.iloc[0]"
   ]
  },
  {
   "cell_type": "code",
   "execution_count": 12,
   "metadata": {},
   "outputs": [
    {
     "name": "stdout",
     "output_type": "stream",
     "text": [
      "B1 file have 100 data labeled as A class and 100 data labeled as C class\n",
      "B2 file have 100 data labeled as A class and 100 data labeled as D class\n",
      "B3 file have 100 data labeled as B class and 100 data labeled as C class\n",
      "B4 file have 100 data labeled as B class and 100 data labeled as D class\n",
      "B5 file have 200 data labeled as A class and 100 data labeled as C class\n",
      "B6 file have 200 data labeled as A class and 100 data labeled as D class\n",
      "B7 file have 200 data labeled as A class and 200 data labeled as C class\n"
     ]
    }
   ],
   "source": [
    "# write down the value counts as string with this format\n",
    "# BX file have BX_counts.iloc[0] data labeled as BX_counts.index[0] and  BX_counts.iloc[1] data labeled as BX_counts.index[1], and so on\n",
    "# for example: B1 file have 100 data labeled as A class and 100 data labeled as C class\n",
    "# you should write it as \"B1 file have 100 data labeled as A class and 100 data labeled as C class\"\n",
    "for i in range(1, 8):\n",
    "    B_counts = eval(f'B{i}_counts')\n",
    "    B_counts_str = f'B{i}_counts_str'\n",
    "    exec(f'{B_counts_str} = f\"B{i} file have {B_counts.iloc[0]} data labeled as {B_counts.index[0]} class and {B_counts.iloc[1]} data labeled as {B_counts.index[1]} class\"')\n",
    "    print(eval(B_counts_str))"
   ]
  },
  {
   "cell_type": "code",
   "execution_count": 13,
   "metadata": {},
   "outputs": [],
   "source": [
    "from sklearn.metrics import confusion_matrix, accuracy_score\n",
    "def count_metric(y_true, y_pred):\n",
    "    tp, fp = confusion_matrix(y_true, y_pred).ravel()\n",
    "    accuracy = accuracy_score(y_true, y_pred)\n",
    "    \n",
    "    # manually count sensitivity, specificity, and f1-score\n",
    "    sensitivity = tp / (tp + fp)\n",
    "    specificity = 1 - sensitivity\n",
    "    f1_score = 2 * (sensitivity * specificity) / (sensitivity + specificity)\n",
    "    return confusion, accuracy, sensitivity, specificity, f1_score"
   ]
  },
  {
   "cell_type": "markdown",
   "metadata": {},
   "source": [
    "# A Dataframe and B Dataframe Scenario"
   ]
  },
  {
   "cell_type": "code",
   "execution_count": 14,
   "metadata": {},
   "outputs": [],
   "source": [
    "# concatenate the data from all the files\n",
    "A = pd.concat([A1, A2, A3])\n",
    "B = pd.concat([B1, B2, B3, B4, B5, B6, B7])"
   ]
  },
  {
   "cell_type": "code",
   "execution_count": 15,
   "metadata": {},
   "outputs": [
    {
     "name": "stdout",
     "output_type": "stream",
     "text": [
      "kelas\n",
      "A    300\n",
      "E    300\n",
      "B    100\n",
      "Name: count, dtype: int64\n",
      "kelas\n",
      "A    800\n",
      "C    500\n",
      "D    300\n",
      "B    200\n",
      "Name: count, dtype: int64\n"
     ]
    }
   ],
   "source": [
    "# Coba dengan hanya data A dan B\n",
    "A_value_counts = A['kelas'].value_counts()\n",
    "B_value_counts = B['kelas'].value_counts()\n",
    "print(A_value_counts)\n",
    "print(B_value_counts)"
   ]
  },
  {
   "cell_type": "markdown",
   "metadata": {},
   "source": [
    "## 10-Fold Cross Validation"
   ]
  },
  {
   "cell_type": "code",
   "execution_count": 16,
   "metadata": {},
   "outputs": [
    {
     "ename": "NameError",
     "evalue": "name 'KFold' is not defined",
     "output_type": "error",
     "traceback": [
      "\u001b[0;31m---------------------------------------------------------------------------\u001b[0m",
      "\u001b[0;31mNameError\u001b[0m                                 Traceback (most recent call last)",
      "Cell \u001b[0;32mIn[16], line 2\u001b[0m\n\u001b[1;32m      1\u001b[0m \u001b[38;5;66;03m# Define KFold object\u001b[39;00m\n\u001b[0;32m----> 2\u001b[0m kfold \u001b[38;5;241m=\u001b[39m \u001b[43mKFold\u001b[49m(n_splits\u001b[38;5;241m=\u001b[39m\u001b[38;5;241m10\u001b[39m, shuffle\u001b[38;5;241m=\u001b[39m\u001b[38;5;28;01mTrue\u001b[39;00m, random_state\u001b[38;5;241m=\u001b[39m\u001b[38;5;241m42\u001b[39m)\n\u001b[1;32m      4\u001b[0m \u001b[38;5;66;03m# Define metrics function\u001b[39;00m\n\u001b[1;32m      5\u001b[0m \u001b[38;5;28;01mdef\u001b[39;00m \u001b[38;5;21mevaluate_model\u001b[39m(model, X_train, X_test, y_train, y_test):\n",
      "\u001b[0;31mNameError\u001b[0m: name 'KFold' is not defined"
     ]
    }
   ],
   "source": [
    "# Define KFold object\n",
    "kfold = KFold(n_splits=10, shuffle=True, random_state=42)\n",
    "\n",
    "# Define metrics function\n",
    "def evaluate_model(model, X_train, X_test, y_train, y_test):\n",
    "    model.fit(X_train, y_train)\n",
    "    y_pred = model.predict(X_test)\n",
    "\n",
    "    accuracy = accuracy_score(y_test, y_pred)\n",
    "    sensitivity = recall_score(y_test, y_pred, average=\"weighted\")  # Macro-average for imbalanced data\n",
    "    specificity = 1 - recall_score(y_test, y_pred, average=\"weighted\", pos_label=\"not_selected\")  # Macro-average for imbalanced data\n",
    "    f1 = f1_score(y_test, y_pred, average=\"weighted\")  # Macro-average for imbalanced data\n",
    "\n",
    "    print(f\"Metrics:\")\n",
    "    print(f\"\\tAccuracy: {accuracy:.4f}\")\n",
    "    print(f\"\\tSensitivity: {sensitivity:.4f}\")\n",
    "    print(f\"\\tSpecificity: {specificity:.4f}\")\n",
    "    print(f\"\\tF1-Score: {f1:.4f}\")\n",
    "\n",
    "# K-Nearest Neighbors (K-NN) Classification\n",
    "print(\"**K-Nearest Neighbors (K-NN):**\")\n",
    "for train_index, test_index in kfold.split(X):\n",
    "    X_train, X_test = X[train_index], X[test_index]\n",
    "    y_train, y_test = y[train_index], y_test[test_index]\n",
    "\n",
    "    # Train-test split within fold (optional, for consistency with SVM)\n",
    "    X_train, X_val, y_train, y_val = train_test_split(X_train, y_train, test_size=0.25, random_state=42)\n",
    "\n",
    "    knn = KNeighborsClassifier(n_neighbors=5)  # Adjust n_neighbors as needed\n",
    "    evaluate_model(knn, X_train, X_val, y_train, y_val)\n",
    "\n",
    "# SVM Classification\n",
    "print(\"**Support Vector Machine (SVM):**\")\n",
    "for train_index, test_index in kfold.split(X):\n",
    "    X_train, X_test = X[train_index], X[test_index]\n",
    "    y_train, y_test = y[train_index], y_test[test_index]\n",
    "\n",
    "    # Train-test split within fold (optional)\n",
    "    X_train, X_val, y_train, y_val = train_test_split(X_train, y_train, test_size=0.25, random_state=42)\n",
    "\n",
    "    svm = SVC(kernel='linear')  # Adjust kernel and other parameters as needed\n",
    "    evaluate_model(svm, X_train, X_val, y_train, y_val)"
   ]
  },
  {
   "cell_type": "code",
   "execution_count": null,
   "metadata": {},
   "outputs": [
    {
     "name": "stdout",
     "output_type": "stream",
     "text": [
      "kelas\n",
      "A    100\n",
      "B    100\n",
      "E    100\n",
      "Name: count, dtype: int64\n",
      "kelas\n",
      "A    100\n",
      "B    100\n",
      "C    100\n",
      "D    100\n",
      "Name: count, dtype: int64\n"
     ]
    }
   ],
   "source": [
    "A_used = A.groupby('kelas').apply(lambda x: x.sample(n=100)).reset_index(drop=True)\n",
    "A_used_value_counts = A_used['kelas'].value_counts()\n",
    "print(A_used_value_counts)\n",
    "B_used = B.groupby('kelas').apply(lambda x: x.sample(n=100)).reset_index(drop=True)\n",
    "B_used_value_counts = B_used['kelas'].value_counts()\n",
    "print(B_used_value_counts)"
   ]
  },
  {
   "cell_type": "code",
   "execution_count": null,
   "metadata": {},
   "outputs": [],
   "source": [
    "# convert kelas from 'A', 'B', 'C', 'D', 'E' to 0, 1, 2, 3, 4\n",
    "A_target = A_target.apply(lambda x: ord(x) - ord('A'))\n",
    "B_target = B_target.apply(lambda x: ord(x) - ord('A'))"
   ]
  },
  {
   "cell_type": "code",
   "execution_count": null,
   "metadata": {},
   "outputs": [],
   "source": [
    "from sklearn.model_selection import LeaveOneOut\n",
    "from sklearn.preprocessing import StandardScaler\n",
    "\n",
    "scaler = StandardScaler()\n",
    "ten_fold_cv = LeaveOneOut()\n",
    "from sklearn.neighbors import KNeighborsClassifier\n",
    "KNN_model_A = KNeighborsClassifier(n_neighbors=3)\n",
    "KNN_model_B = KNeighborsClassifier(n_neighbors=4)\n",
    "from sklearn.svm import SVC\n",
    "SVM_model_A = SVC(kernel='sigmoid')\n",
    "SVM_model_B = SVC(kernel='sigmoid')"
   ]
  },
  {
   "cell_type": "code",
   "execution_count": null,
   "metadata": {},
   "outputs": [],
   "source": [
    "for train_index, test_index in ten_fold_cv.split(A_feature):\n",
    "    A_train_feature, A_test_feature = A_feature.iloc[train_index], A_feature.iloc[test_index]\n",
    "    A_train_target, A_test_target = A_target.iloc[train_index], A_target.iloc[test_index]\n",
    "    B_train_feature, B_test_feature = B_feature.iloc[train_index], B_feature.iloc[test_index]\n",
    "    B_train_target, B_test_target = B_target.iloc[train_index], B_target.iloc[test_index]\n",
    "\n",
    "    A_train_feature_scaled = scaler.fit_transform(A_train_feature)\n",
    "    A_test_feature_scaled = scaler.transform(A_test_feature)\n",
    "    B_train_feature_scaled = scaler.fit_transform(B_train_feature)\n",
    "    B_test_feature_scaled = scaler.transform(B_test_feature)\n",
    "\n",
    "    KNN_model_A.fit(A_train_feature_scaled, A_train_target)\n",
    "    KNN_prediction_A = KNN_model_A.predict(A_test_feature_scaled)\n",
    "    SVM_model_A.fit(A_train_feature_scaled, A_train_target)\n",
    "    SVM_prediction_A = SVM_model_A.predict(A_test_feature_scaled)\n",
    "\n",
    "    KNN_model_B.fit(B_train_feature_scaled, B_train_target)\n",
    "    KNN_prediction_B = KNN_model_B.predict(B_test_feature_scaled)\n",
    "    SVM_model_B.fit(B_train_feature_scaled, B_train_target)\n",
    "    SVM_prediction_B = SVM_model_B.predict(B_test_feature_scaled)\n",
    "\n",
    "    \n",
    "    KNN_A_metric = count_metric(A_test_target, KNN_prediction_A)\n",
    "    SVM_A_metric = count_metric(A_test_target, SVM_prediction_A)\n",
    "    KNN_B_metric = count_metric(B_test_target, KNN_prediction_B)\n",
    "    SVM_B_metric = count_metric(B_test_target, SVM_prediction_B)\n",
    "\n",
    "    print(\"KNN A:\", KNN_A_metric)\n",
    "    print(\"SVM A:\", SVM_A_metric)\n",
    "    print(\"KNN B:\", KNN_B_metric)\n",
    "    print(\"SVM B:\", SVM_B_metric)"
   ]
  },
  {
   "cell_type": "markdown",
   "metadata": {},
   "source": [
    "## 75% Train and 25% Test Split"
   ]
  },
  {
   "cell_type": "code",
   "execution_count": null,
   "metadata": {},
   "outputs": [],
   "source": [
    "from sklearn.model_selection import train_test_split"
   ]
  },
  {
   "cell_type": "code",
   "execution_count": null,
   "metadata": {},
   "outputs": [],
   "source": [
    "X_A_75_25 = A.drop(columns='kelas', axis=1)\n",
    "Y_A_75_25 = A['kelas']\n",
    "X_train_75_25, X_test_75_25, Y_train_75_25, Y_test_75_25 = train_test_split(X_A_75_25, Y_A_75_25, test_size=0.25, random_state=42)"
   ]
  },
  {
   "cell_type": "code",
   "execution_count": null,
   "metadata": {},
   "outputs": [],
   "source": [
    "from sklearn.preprocessing import StandardScaler\n",
    "scaler = StandardScaler()\n",
    "X_train_scaled = scaler.fit_transform(X_train_75_25)\n",
    "X_test_scaled = scaler.transform(X_test_75_25)"
   ]
  },
  {
   "cell_type": "code",
   "execution_count": null,
   "metadata": {},
   "outputs": [],
   "source": [
    "from sklearn.neighbors import KNeighborsClassifier\n",
    "KNN_model_75_25 = KNeighborsClassifier(n_neighbors=3)\n",
    "KNN_model_75_25.fit(X_train_scaled, Y_train_75_25)\n",
    "KNN_prediction_75_25 = KNN_model_75_25.predict(X_test_scaled)"
   ]
  },
  {
   "cell_type": "code",
   "execution_count": null,
   "metadata": {},
   "outputs": [],
   "source": [
    "from sklearn.svm import SVC\n",
    "SVM_model_75_25 = SVC(kernel='sigmoid')\n",
    "SVM_model_75_25.fit(X_train_scaled, Y_train_75_25)\n",
    "SVM_prediction_75_25 = SVM_model_75_25.predict(X_test_scaled)"
   ]
  },
  {
   "cell_type": "code",
   "execution_count": null,
   "metadata": {},
   "outputs": [
    {
     "name": "stdout",
     "output_type": "stream",
     "text": [
      "[[183  37   0   0   0]\n",
      " [ 43   3   0   0   0]\n",
      " [ 10   5  75  17   3]\n",
      " [  8   1  18  34   6]\n",
      " [ 21   4   1   1  30]]\n",
      "0.65\n",
      "[[150   0  29  10  31]\n",
      " [ 34   0   6   0   6]\n",
      " [  5   0  73  28   4]\n",
      " [  7   0  38  18   4]\n",
      " [ 40   0  12   0   5]]\n",
      "0.492\n"
     ]
    }
   ],
   "source": [
    "from sklearn.metrics import confusion_matrix, accuracy_score\n",
    "KNN_confusion_75_25= confusion_matrix(Y_test_75_25, KNN_prediction_75_25)\n",
    "KNN_accuracy_75_25 = accuracy_score(Y_test_75_25, KNN_prediction_75_25)\n",
    "SVM_confusion_75_25 = confusion_matrix(Y_test_75_25, SVM_prediction_75_25)\n",
    "SVM_accuracy_75_25 = accuracy_score(Y_test_75_25, SVM_prediction_75_25)\n",
    "print(KNN_confusion_75_25)\n",
    "print(KNN_accuracy_75_25)\n",
    "print(SVM_confusion_75_25)\n",
    "print(SVM_accuracy_75_25)"
   ]
  },
  {
   "cell_type": "markdown",
   "metadata": {},
   "source": [
    "### B Dataframe"
   ]
  },
  {
   "cell_type": "code",
   "execution_count": null,
   "metadata": {},
   "outputs": [],
   "source": [
    "X_B_75_25 = B.drop(columns='kelas', axis=1)\n",
    "Y_B_75_25 = B['kelas']\n",
    "X_B_train_75_25, X_B_test_75_25, Y_B_train_75_25, Y_B_test_75_25 = train_test_split(X_B_75_25, Y_B_75_25, test_size=0.25, random_state=42)"
   ]
  },
  {
   "cell_type": "code",
   "execution_count": null,
   "metadata": {},
   "outputs": [],
   "source": []
  },
  {
   "cell_type": "code",
   "execution_count": null,
   "metadata": {},
   "outputs": [],
   "source": [
    "A_feature = A.drop('kelas', axis=1)\n",
    "A_target = A['kelas']\n",
    "B_feature = B.drop('kelas', axis=1)\n",
    "B_target = B['kelas']"
   ]
  },
  {
   "cell_type": "code",
   "execution_count": null,
   "metadata": {},
   "outputs": [],
   "source": [
    "A_train, A_test, A_target_train, A_target_test = train_test_split(A_feature, A_target, test_size=0.2, random_state=0)\n",
    "B_train, B_test, B_target_train, B_target_test = train_test_split(B_feature, B_target, test_size=0.2, random_state=0)"
   ]
  },
  {
   "cell_type": "code",
   "execution_count": null,
   "metadata": {},
   "outputs": [],
   "source": [
    "# coba tanpa Scaler\n",
    "KNN_model_A = KNeighborsClassifier(n_neighbors=3)\n",
    "KNN_model_A.fit(A_train, A_target_train)\n",
    "KNN_prediction_A = KNN_model_A.predict(A_test)"
   ]
  },
  {
   "cell_type": "code",
   "execution_count": null,
   "metadata": {},
   "outputs": [
    {
     "name": "stdout",
     "output_type": "stream",
     "text": [
      "[46 13  7 13  0  6  4  0 51]\n",
      "0.6928571428571428\n"
     ]
    }
   ],
   "source": [
    "KNN_confusion_A = confusion_matrix(A_target_test, KNN_prediction_A).ravel()\n",
    "KNN_accuracy_A = accuracy_score(A_target_test, KNN_prediction_A)\n",
    "print(KNN_confusion_A)\n",
    "print(KNN_accuracy_A)"
   ]
  },
  {
   "cell_type": "code",
   "execution_count": null,
   "metadata": {},
   "outputs": [],
   "source": [
    "KNN_model_B = KNeighborsClassifier(n_neighbors=4)\n",
    "KNN_model_B.fit(B_train, B_target_train)\n",
    "KNN_prediction_B = KNN_model_B.predict(B_test)"
   ]
  },
  {
   "cell_type": "code",
   "execution_count": null,
   "metadata": {},
   "outputs": [
    {
     "name": "stdout",
     "output_type": "stream",
     "text": [
      "[152   4   3   0  38   1   1   0   6   0  83  10   2   0  32  28]\n",
      "0.7333333333333333\n"
     ]
    }
   ],
   "source": [
    "KNN_confusion_B = confusion_matrix(B_target_test, KNN_prediction_B).ravel()\n",
    "KNN_accuracy_B = accuracy_score(B_target_test, KNN_prediction_B)\n",
    "print(KNN_confusion_B)\n",
    "print(KNN_accuracy_B)"
   ]
  },
  {
   "cell_type": "markdown",
   "metadata": {},
   "source": [
    "## 50% Train 25% Valid Split 25% Test Split"
   ]
  },
  {
   "cell_type": "code",
   "execution_count": null,
   "metadata": {},
   "outputs": [],
   "source": [
    "train_ratio = 0.5\n",
    "validation_ratio = 0.25\n",
    "test_ratio = 0.25"
   ]
  },
  {
   "cell_type": "code",
   "execution_count": null,
   "metadata": {},
   "outputs": [],
   "source": [
    "from sklearn.model_selection import train_test_split\n",
    "X_remaining, X_test_50_25_25, Y_remaining, Y_test_50_25_25 = train_test_split(X, Y, test_size=test_ratio, random_state=0)"
   ]
  },
  {
   "cell_type": "code",
   "execution_count": null,
   "metadata": {},
   "outputs": [],
   "source": [
    "ratio_remaining = 1 - test_ratio\n",
    "ratio_validation_adjusted = validation_ratio / ratio_remaining"
   ]
  },
  {
   "cell_type": "code",
   "execution_count": null,
   "metadata": {},
   "outputs": [],
   "source": [
    "from sklearn.model_selection import train_test_split\n",
    "X_train_50_25_25, X_val, Y_train_50_25_25, Y_val = train_test_split(X_remaining, Y_remaining, test_size=ratio_validation_adjusted, random_state=0)"
   ]
  },
  {
   "cell_type": "code",
   "execution_count": null,
   "metadata": {},
   "outputs": [],
   "source": [
    "from sklearn.preprocessing import StandardScaler\n",
    "scaler = StandardScaler()\n",
    "X_train_scaled = scaler.fit_transform(X_train_50_25_25)\n",
    "X_test_scaled = scaler.transform(X_test_50_25_25)"
   ]
  },
  {
   "cell_type": "code",
   "execution_count": null,
   "metadata": {},
   "outputs": [],
   "source": []
  },
  {
   "cell_type": "markdown",
   "metadata": {},
   "source": [
    "# Combined all data into one dataframe Scenario"
   ]
  },
  {
   "cell_type": "code",
   "execution_count": null,
   "metadata": {},
   "outputs": [],
   "source": [
    "combined = pd.concat([A, B])\n",
    "combined.describe()"
   ]
  },
  {
   "cell_type": "code",
   "execution_count": null,
   "metadata": {},
   "outputs": [],
   "source": [
    "# make X as the feature and Y as the target\n",
    "X = combined.drop('kelas', axis=1)\n",
    "Y = combined['kelas']"
   ]
  },
  {
   "cell_type": "code",
   "execution_count": null,
   "metadata": {},
   "outputs": [
    {
     "data": {
      "text/plain": [
       "kelas\n",
       "A    1100\n",
       "C     500\n",
       "E     300\n",
       "B     300\n",
       "D     300\n",
       "Name: count, dtype: int64"
      ]
     },
     "execution_count": 6,
     "metadata": {},
     "output_type": "execute_result"
    }
   ],
   "source": [
    "combined_value_counts = combined['kelas'].value_counts()\n",
    "combined_value_counts"
   ]
  },
  {
   "cell_type": "markdown",
   "metadata": {},
   "source": [
    "# Each file would have their own model training and evaluation"
   ]
  },
  {
   "cell_type": "code",
   "execution_count": 2,
   "metadata": {},
   "outputs": [],
   "source": [
    "import pandas as pd\n",
    "def load_data(file_path):\n",
    "    data = pd.read_excel(file_path)\n",
    "    return data"
   ]
  },
  {
   "cell_type": "code",
   "execution_count": 3,
   "metadata": {},
   "outputs": [],
   "source": [
    "def label_convert(data):\n",
    "    data['kelas'] = data['kelas'].replace({'A': 1, 'B': 2, 'C': 3, 'D': 4, 'E': 5})\n",
    "    return data"
   ]
  },
  {
   "cell_type": "code",
   "execution_count": 4,
   "metadata": {},
   "outputs": [],
   "source": [
    "from sklearn.model_selection import train_test_split\n",
    "def seventy_five_twenty_five_split(data):\n",
    "    X = data.drop('kelas', axis=1)\n",
    "    Y = data['kelas']\n",
    "    X_train, X_test, Y_train, Y_test = train_test_split(X, Y, test_size=0.25, random_state=42)\n",
    "    return X_train, X_test, Y_train, Y_test\n",
    "\n",
    "def fifty_twenty_five_twenty_five_split(data):\n",
    "    X = data.drop('kelas', axis=1)\n",
    "    Y = data['kelas']\n",
    "    test_ratio = 0.25\n",
    "    validation_ratio = 0.25\n",
    "    \n",
    "    X_remaining, X_test, Y_remaining, Y_test = train_test_split(X, Y, test_size=0.25, random_state=0)\n",
    "    ratio_remaining = 1 - test_ratio\n",
    "    \n",
    "    ratio_validation_adjusted = validation_ratio / ratio_remaining\n",
    "    X_train, X_val, Y_train, Y_val = train_test_split(X_remaining, Y_remaining, test_size=ratio_validation_adjusted, random_state=0)\n",
    "    return X_train, X_val, X_test, Y_train, Y_val, Y_test"
   ]
  },
  {
   "cell_type": "code",
   "execution_count": 5,
   "metadata": {},
   "outputs": [],
   "source": [
    "from sklearn.svm import SVC\n",
    "def SVM_model(kernel_type='linear'):\n",
    "    model = SVC(kernel=kernel_type)\n",
    "    return model"
   ]
  },
  {
   "cell_type": "code",
   "execution_count": 6,
   "metadata": {},
   "outputs": [],
   "source": [
    "from sklearn.neighbors import KNeighborsClassifier\n",
    "def KNN_model(n_neighbors=2):\n",
    "    model = KNeighborsClassifier(n_neighbors=n_neighbors)\n",
    "    return model"
   ]
  },
  {
   "cell_type": "code",
   "execution_count": 7,
   "metadata": {},
   "outputs": [],
   "source": [
    "from sklearn.metrics import confusion_matrix, accuracy_score\n",
    "def count_metric(y_true, y_pred) -> dict:\n",
    "    print(confusion_matrix(y_true, y_pred).ravel())\n",
    "    cm_result = confusion_matrix(y_true, y_pred).ravel()\n",
    "    accuracy = accuracy_score(y_true, y_pred)\n",
    "    #if any of the value of tn or fp or fn or tp is 0, replace with 0.1\n",
    "    tn, fp, fn, tp = [i if i != 0 else 0.1 for i in cm_result]\n",
    "    \n",
    "    # manually count sensitivity, specificity, and f1-score\n",
    "    # limit calculation result to 3 digit after comma\n",
    "    sensitivity:float = round(tp / (tp + fp), ndigits=3)\n",
    "    specificity:float = round(1 - sensitivity, ndigits=3)\n",
    "    f1_score:float = round(2 * (tp / (tp + fp) * tp / (tp + fn)) / ((tp / (tp + fp)) + (tp / (tp + fn))), ndigits=3)\n",
    "    \n",
    "\n",
    "    metric = {\n",
    "        'accuracy': accuracy,\n",
    "        'sensitivity': sensitivity,\n",
    "        'specificity': specificity,\n",
    "        'f1_score': f1_score\n",
    "    }\n",
    "    return metric"
   ]
  },
  {
   "cell_type": "code",
   "execution_count": 8,
   "metadata": {},
   "outputs": [],
   "source": [
    "# count average for 10 Fold metric\n",
    "def count_average(metric_input:list) -> dict:\n",
    "    accuracy_list = []\n",
    "    sensitivity_list = []\n",
    "    specificity_list = []\n",
    "    f1_score_list = []\n",
    "    for i in range(len(metric_input)):\n",
    "        accuracy_list.append(metric_input[i]['accuracy'])\n",
    "        sensitivity_list.append(metric_input[i]['sensitivity'])\n",
    "        specificity_list.append(metric_input[i]['specificity'])\n",
    "        f1_score_list.append(metric_input[i]['f1_score'])\n",
    "    average_metric = {\n",
    "        'accuracy': sum(accuracy_list) / len(accuracy_list),\n",
    "        'sensitivity': sum(sensitivity_list) / len(sensitivity_list),\n",
    "        'specificity': sum(specificity_list) / len(specificity_list),\n",
    "        'f1_score': sum(f1_score_list) / len(f1_score_list)\n",
    "    }\n",
    "    # rounding the metric into 3 digit behind comma\n",
    "    for key, value in average_metric.items():\n",
    "        average_metric[key] = round(value, ndigits=3)\n",
    "    \n",
    "    return average_metric"
   ]
  },
  {
   "cell_type": "code",
   "execution_count": 9,
   "metadata": {},
   "outputs": [],
   "source": [
    "all_metric_data = dict()\n",
    "def add_metric_data(file, model_type, data_split, metric):\n",
    "    file['model_type']"
   ]
  },
  {
   "cell_type": "code",
   "execution_count": 10,
   "metadata": {},
   "outputs": [],
   "source": [
    "all_metric_data = dict()\n",
    "def add_metric_data(file:str, data_split:str, model_type:str, metric : dict):\n",
    "    \"\"\"\n",
    "    Add metric data to the all_metric_data dictionary.\n",
    "\n",
    "    Parameters:\n",
    "    file (str): The file name.\n",
    "    data_split (str): The data split (e.g., train, test, validation).\n",
    "    model_type (str): The type of model.\n",
    "    metric (float): The metric value.\n",
    "    Example :\n",
    "    add_metric_data('A2', '75_25', 'SVM',{\n",
    "                    'accuracy': 0.47,\n",
    "                    'sensitivity': 0.47,\n",
    "                    'specificity': 0.55,\n",
    "                    'f1_score': 0.5\n",
    "                }\n",
    "            )\n",
    "    Returns:\n",
    "    None\n",
    "    \"\"\"\n",
    "    if file not in all_metric_data:\n",
    "        all_metric_data[file] = dict()\n",
    "    if data_split not in all_metric_data[file]:\n",
    "        all_metric_data[file][data_split] = dict()\n",
    "    all_metric_data[file][data_split][model_type] = metric"
   ]
  },
  {
   "cell_type": "code",
   "execution_count": 11,
   "metadata": {},
   "outputs": [],
   "source": [
    "#export as json\n",
    "import json\n",
    "def export_to_json():\n",
    "    with open('metric_result.json', 'w') as f:\n",
    "        json.dump(all_metric_data, f, indent=2)"
   ]
  },
  {
   "cell_type": "markdown",
   "metadata": {},
   "source": [
    "## A1"
   ]
  },
  {
   "cell_type": "code",
   "execution_count": 12,
   "metadata": {},
   "outputs": [],
   "source": [
    "A1 = load_data('data/CPA1.xlsx')"
   ]
  },
  {
   "cell_type": "markdown",
   "metadata": {},
   "source": [
    "#### A1 10-Fold Cross Validation"
   ]
  },
  {
   "cell_type": "code",
   "execution_count": 13,
   "metadata": {},
   "outputs": [],
   "source": [
    "A1_ten_fold_data = label_convert(A1)"
   ]
  },
  {
   "cell_type": "code",
   "execution_count": 14,
   "metadata": {},
   "outputs": [
    {
     "name": "stdout",
     "output_type": "stream",
     "text": [
      "[ 0 10  0 10]\n",
      "[10  0  1  9]\n",
      "[ 0 11  0  9]\n",
      "[11  0  3  6]\n",
      "[1 9 1 9]\n",
      "[10  0  5  5]\n",
      "[ 9  0 11  0]\n",
      "[9 0 4 7]\n",
      "[ 0 11  0  9]\n",
      "[11  0  3  6]\n",
      "[ 9  0 11  0]\n",
      "[ 9  0 10  1]\n",
      "[4 6 1 9]\n",
      "[10  0  5  5]\n",
      "[ 0 12  0  8]\n",
      "[12  0  6  2]\n",
      "[ 9  0 11  0]\n",
      "[9 0 4 7]\n",
      "[ 9  0 11  0]\n",
      "[9 0 4 7]\n",
      "0 {'accuracy': 0.5, 'sensitivity': 0.5, 'specificity': 0.5, 'f1_score': 0.664}\n",
      "1 {'accuracy': 0.45, 'sensitivity': 0.45, 'specificity': 0.55, 'f1_score': 0.619}\n",
      "2 {'accuracy': 0.5, 'sensitivity': 0.5, 'specificity': 0.5, 'f1_score': 0.643}\n",
      "3 {'accuracy': 0.45, 'sensitivity': 0.5, 'specificity': 0.5, 'f1_score': 0.018}\n",
      "4 {'accuracy': 0.45, 'sensitivity': 0.45, 'specificity': 0.55, 'f1_score': 0.619}\n",
      "5 {'accuracy': 0.45, 'sensitivity': 0.5, 'specificity': 0.5, 'f1_score': 0.018}\n",
      "6 {'accuracy': 0.65, 'sensitivity': 0.6, 'specificity': 0.4, 'f1_score': 0.72}\n",
      "7 {'accuracy': 0.4, 'sensitivity': 0.4, 'specificity': 0.6, 'f1_score': 0.569}\n",
      "8 {'accuracy': 0.45, 'sensitivity': 0.5, 'specificity': 0.5, 'f1_score': 0.018}\n",
      "9 {'accuracy': 0.45, 'sensitivity': 0.5, 'specificity': 0.5, 'f1_score': 0.018}\n",
      "\n",
      "\n",
      "0 {'accuracy': 0.95, 'sensitivity': 0.989, 'specificity': 0.011, 'f1_score': 0.942}\n",
      "1 {'accuracy': 0.85, 'sensitivity': 0.984, 'specificity': 0.016, 'f1_score': 0.795}\n",
      "2 {'accuracy': 0.75, 'sensitivity': 0.98, 'specificity': 0.02, 'f1_score': 0.662}\n",
      "3 {'accuracy': 0.8, 'sensitivity': 0.986, 'specificity': 0.014, 'f1_score': 0.773}\n",
      "4 {'accuracy': 0.85, 'sensitivity': 0.984, 'specificity': 0.016, 'f1_score': 0.795}\n",
      "5 {'accuracy': 0.5, 'sensitivity': 0.909, 'specificity': 0.091, 'f1_score': 0.165}\n",
      "6 {'accuracy': 0.75, 'sensitivity': 0.98, 'specificity': 0.02, 'f1_score': 0.662}\n",
      "7 {'accuracy': 0.7, 'sensitivity': 0.952, 'specificity': 0.048, 'f1_score': 0.396}\n",
      "8 {'accuracy': 0.8, 'sensitivity': 0.986, 'specificity': 0.014, 'f1_score': 0.773}\n",
      "9 {'accuracy': 0.8, 'sensitivity': 0.986, 'specificity': 0.014, 'f1_score': 0.773}\n",
      "\n",
      "\n"
     ]
    }
   ],
   "source": [
    "X_A1_ten_fold = A1_ten_fold_data.drop('kelas', axis=1)\n",
    "Y_A1_ten_fold = A1_ten_fold_data['kelas']\n",
    "\n",
    "A1_ten_fold_cv_SVM = SVM_model()\n",
    "A1_ten_fold_cv_KNN = KNN_model()\n",
    "\n",
    "from sklearn.model_selection import KFold\n",
    "A1_ten_fold = KFold(n_splits=10, shuffle=True, random_state=42)\n",
    "A1_tenfold_SVM_metric = []\n",
    "A1_tenfold_KNN_metric = []\n",
    "\n",
    "for A1_train_index, A_test_index in A1_ten_fold.split(X_A1_ten_fold):\n",
    "    A1_X_train, A1_X_test = X_A1_ten_fold.iloc[A1_train_index], X_A1_ten_fold.iloc[A_test_index]\n",
    "    A1_Y_train, A1_Y_test = Y_A1_ten_fold.iloc[A1_train_index], Y_A1_ten_fold.iloc[A_test_index]\n",
    "\n",
    "    A1_ten_fold_cv_SVM.fit(A1_X_train, A1_Y_train)\n",
    "    A1_ten_fold_cv_KNN.fit(A1_X_test, A1_Y_test)\n",
    "\n",
    "    A1_SVM_prediction = A1_ten_fold_cv_SVM.predict(A1_X_test)\n",
    "    A1_KNN_prediction = A1_ten_fold_cv_KNN.predict(A1_X_test)\n",
    "\n",
    "    A1_ten_fold_cv_SVM_metric = count_metric(A1_Y_test, A1_SVM_prediction)\n",
    "    A1_ten_fold_cv_KNN_metric = count_metric(A1_Y_test, A1_KNN_prediction)\n",
    "\n",
    "    A1_tenfold_SVM_metric.append(A1_ten_fold_cv_SVM_metric)\n",
    "    A1_tenfold_KNN_metric.append(A1_ten_fold_cv_KNN_metric)\n",
    "\n",
    "[print(i,score) for i,score in enumerate(A1_tenfold_SVM_metric)]\n",
    "print('\\n')\n",
    "[print(i,score) for i,score in enumerate(A1_tenfold_KNN_metric)]\n",
    "print('\\n')\n",
    "# print(A1_tenfold_KNN_metric)"
   ]
  },
  {
   "cell_type": "code",
   "execution_count": 15,
   "metadata": {},
   "outputs": [],
   "source": [
    "A1_SVM_Metric_Average = count_average(A1_tenfold_SVM_metric)\n",
    "A1_KNN_Metric_Average = count_average(A1_tenfold_KNN_metric)\n",
    "add_metric_data('A1', '10_fold', 'SVM', A1_SVM_Metric_Average)\n",
    "add_metric_data('A1', '10_fold', 'KNN', A1_KNN_Metric_Average)"
   ]
  },
  {
   "cell_type": "markdown",
   "metadata": {},
   "source": [
    "#### A1 75% Train and 25% Test Split"
   ]
  },
  {
   "cell_type": "code",
   "execution_count": 16,
   "metadata": {},
   "outputs": [],
   "source": [
    "X_A1_75_25, X_A1_test_75_25, Y_A1_75_25, Y_A1_test_75_25 = seventy_five_twenty_five_split(A1)\n",
    "A1_SVM_75_25 = SVM_model()\n",
    "A1_KNN_75_25 = KNN_model()"
   ]
  },
  {
   "cell_type": "code",
   "execution_count": 17,
   "metadata": {},
   "outputs": [],
   "source": [
    "A1_SVM_75_25.fit(X_A1_75_25, Y_A1_75_25)\n",
    "A1_KNN_75_25.fit(X_A1_75_25, Y_A1_75_25)\n",
    "A1_SVM_75_25_prediction = A1_SVM_75_25.predict(X_A1_test_75_25)\n",
    "A1_KNN_75_25_prediction = A1_KNN_75_25.predict(X_A1_test_75_25)"
   ]
  },
  {
   "cell_type": "code",
   "execution_count": 18,
   "metadata": {},
   "outputs": [
    {
     "name": "stdout",
     "output_type": "stream",
     "text": [
      "[ 0 27  0 23]\n",
      "[23  4  9 14]\n"
     ]
    }
   ],
   "source": [
    "A1_SVM_75_25_metric = count_metric(Y_A1_test_75_25, A1_SVM_75_25_prediction)\n",
    "A1_KNN_75_25_metric = count_metric(Y_A1_test_75_25, A1_KNN_75_25_prediction)\n",
    "add_metric_data('A1', '75_25', 'SVM', A1_SVM_75_25_metric)\n",
    "add_metric_data('A1', '75_25', 'KNN', A1_KNN_75_25_metric)"
   ]
  },
  {
   "cell_type": "markdown",
   "metadata": {},
   "source": [
    "#### A1 50% Train 25% Valid Split 25% Test Split"
   ]
  },
  {
   "cell_type": "code",
   "execution_count": 19,
   "metadata": {},
   "outputs": [],
   "source": [
    "X_A1_50_25_25, X_A1_val, X_A1_test_50_25_25, Y_A1_50_25_25, Y_A1_val, Y_A1_test_50_25_25 = fifty_twenty_five_twenty_five_split(A1)"
   ]
  },
  {
   "cell_type": "code",
   "execution_count": 20,
   "metadata": {},
   "outputs": [],
   "source": [
    "A1_SVM_50_25_25 = SVM_model()\n",
    "A1_KNN_50_25_25 = KNN_model()"
   ]
  },
  {
   "cell_type": "code",
   "execution_count": 21,
   "metadata": {},
   "outputs": [],
   "source": [
    "A1_SVM_50_25_25.fit(X_A1_50_25_25, Y_A1_50_25_25)\n",
    "A1_KNN_50_25_25.fit(X_A1_50_25_25, Y_A1_50_25_25)\n",
    "A1_SVM_50_25_25_prediction = A1_SVM_50_25_25.predict(X_A1_test_50_25_25)\n",
    "A1_KNN_50_25_25_prediction = A1_KNN_50_25_25.predict(X_A1_test_50_25_25)"
   ]
  },
  {
   "cell_type": "code",
   "execution_count": 22,
   "metadata": {},
   "outputs": [
    {
     "name": "stdout",
     "output_type": "stream",
     "text": [
      "[23  0 27  0]\n",
      "[20  3 16 11]\n"
     ]
    },
    {
     "data": {
      "text/plain": [
       "({'accuracy': 0.46, 'sensitivity': 0.5, 'specificity': 0.5, 'f1_score': 0.007},\n",
       " {'accuracy': 0.62,\n",
       "  'sensitivity': 0.786,\n",
       "  'specificity': 0.214,\n",
       "  'f1_score': 0.537})"
      ]
     },
     "execution_count": 22,
     "metadata": {},
     "output_type": "execute_result"
    }
   ],
   "source": [
    "A1_SVM_50_25_25_metric = count_metric(Y_A1_test_50_25_25, A1_SVM_50_25_25_prediction)\n",
    "A1_KNN_50_25_25_metric = count_metric(Y_A1_test_50_25_25, A1_KNN_50_25_25_prediction)\n",
    "A1_SVM_50_25_25_metric, A1_KNN_50_25_25_metric"
   ]
  },
  {
   "cell_type": "markdown",
   "metadata": {},
   "source": [
    "**_NOTE:_** For 50% Training, 25% Validation and 25% Test Split, since the metric is worse, we didnt continue for other file"
   ]
  },
  {
   "cell_type": "markdown",
   "metadata": {},
   "source": [
    "## A2"
   ]
  },
  {
   "cell_type": "code",
   "execution_count": 23,
   "metadata": {},
   "outputs": [],
   "source": [
    "A2 = load_data('data/CPA2.xlsx')"
   ]
  },
  {
   "cell_type": "markdown",
   "metadata": {},
   "source": [
    "#### A2 10-Fold Cross Validation"
   ]
  },
  {
   "cell_type": "code",
   "execution_count": 24,
   "metadata": {},
   "outputs": [],
   "source": [
    "A2_ten_fold_data = label_convert(A2)"
   ]
  },
  {
   "cell_type": "code",
   "execution_count": 25,
   "metadata": {},
   "outputs": [
    {
     "name": "stdout",
     "output_type": "stream",
     "text": [
      "[ 3  7  0 10]\n",
      "[10  0  2  8]\n",
      "[ 0 11  0  9]\n",
      "[11  0  1  8]\n",
      "[4 6 1 9]\n",
      "[10  0  2  8]\n",
      "[ 9  0 11  0]\n",
      "[9 0 3 8]\n",
      "[ 0 11  0  9]\n",
      "[11  0  4  5]\n",
      "[ 9  0 11  0]\n",
      "[9 0 2 9]\n",
      "[5 5 2 8]\n",
      "[10  0  5  5]\n",
      "[ 0 12  0  8]\n",
      "[12  0  4  4]\n",
      "[ 9  0 11  0]\n",
      "[9 0 4 7]\n",
      "[ 9  0 11  0]\n",
      "[9 0 6 5]\n",
      "0 {'accuracy': 0.65, 'sensitivity': 0.588, 'specificity': 0.412, 'f1_score': 0.738}\n",
      "1 {'accuracy': 0.45, 'sensitivity': 0.45, 'specificity': 0.55, 'f1_score': 0.619}\n",
      "2 {'accuracy': 0.65, 'sensitivity': 0.6, 'specificity': 0.4, 'f1_score': 0.72}\n",
      "3 {'accuracy': 0.45, 'sensitivity': 0.5, 'specificity': 0.5, 'f1_score': 0.018}\n",
      "4 {'accuracy': 0.45, 'sensitivity': 0.45, 'specificity': 0.55, 'f1_score': 0.619}\n",
      "5 {'accuracy': 0.45, 'sensitivity': 0.5, 'specificity': 0.5, 'f1_score': 0.018}\n",
      "6 {'accuracy': 0.65, 'sensitivity': 0.615, 'specificity': 0.385, 'f1_score': 0.696}\n",
      "7 {'accuracy': 0.4, 'sensitivity': 0.4, 'specificity': 0.6, 'f1_score': 0.569}\n",
      "8 {'accuracy': 0.45, 'sensitivity': 0.5, 'specificity': 0.5, 'f1_score': 0.018}\n",
      "9 {'accuracy': 0.45, 'sensitivity': 0.5, 'specificity': 0.5, 'f1_score': 0.018}\n",
      "\n",
      "\n",
      "0 {'accuracy': 0.9, 'sensitivity': 0.988, 'specificity': 0.012, 'f1_score': 0.884}\n",
      "1 {'accuracy': 0.95, 'sensitivity': 0.988, 'specificity': 0.012, 'f1_score': 0.936}\n",
      "2 {'accuracy': 0.9, 'sensitivity': 0.988, 'specificity': 0.012, 'f1_score': 0.884}\n",
      "3 {'accuracy': 0.85, 'sensitivity': 0.988, 'specificity': 0.012, 'f1_score': 0.838}\n",
      "4 {'accuracy': 0.8, 'sensitivity': 0.98, 'specificity': 0.02, 'f1_score': 0.709}\n",
      "5 {'accuracy': 0.9, 'sensitivity': 0.989, 'specificity': 0.011, 'f1_score': 0.896}\n",
      "6 {'accuracy': 0.75, 'sensitivity': 0.98, 'specificity': 0.02, 'f1_score': 0.662}\n",
      "7 {'accuracy': 0.8, 'sensitivity': 0.976, 'specificity': 0.024, 'f1_score': 0.661}\n",
      "8 {'accuracy': 0.8, 'sensitivity': 0.986, 'specificity': 0.014, 'f1_score': 0.773}\n",
      "9 {'accuracy': 0.7, 'sensitivity': 0.98, 'specificity': 0.02, 'f1_score': 0.621}\n",
      "\n",
      "\n"
     ]
    }
   ],
   "source": [
    "X_A2_ten_fold = A2_ten_fold_data.drop('kelas', axis=1)\n",
    "Y_A2_ten_fold = A2_ten_fold_data['kelas']\n",
    "\n",
    "A2_ten_fold_cv_SVM = SVM_model()\n",
    "A2_ten_fold_cv_KNN = KNN_model()\n",
    "\n",
    "from sklearn.model_selection import KFold\n",
    "A2_ten_fold = KFold(n_splits=10, shuffle=True, random_state=42)\n",
    "A2_tenfold_SVM_metric = []\n",
    "A2_tenfold_KNN_metric = []\n",
    "\n",
    "for A2_train_index, A_test_index in A2_ten_fold.split(X_A2_ten_fold):\n",
    "    A2_X_train, A2_X_test = X_A2_ten_fold.iloc[A2_train_index], X_A2_ten_fold.iloc[A_test_index]\n",
    "    A2_Y_train, A2_Y_test = Y_A2_ten_fold.iloc[A2_train_index], Y_A2_ten_fold.iloc[A_test_index]\n",
    "\n",
    "    A2_ten_fold_cv_SVM.fit(A2_X_train, A2_Y_train)\n",
    "    A2_ten_fold_cv_KNN.fit(A2_X_test, A2_Y_test)\n",
    "\n",
    "    A2_SVM_prediction = A2_ten_fold_cv_SVM.predict(A2_X_test)\n",
    "    A2_KNN_prediction = A2_ten_fold_cv_KNN.predict(A2_X_test)\n",
    "\n",
    "    A2_ten_fold_cv_SVM_metric = count_metric(A2_Y_test, A2_SVM_prediction)\n",
    "    A2_ten_fold_cv_KNN_metric = count_metric(A2_Y_test, A2_KNN_prediction)\n",
    "\n",
    "    A2_tenfold_SVM_metric.append(A2_ten_fold_cv_SVM_metric)\n",
    "    A2_tenfold_KNN_metric.append(A2_ten_fold_cv_KNN_metric)\n",
    "\n",
    "[print(i,score) for i,score in enumerate(A2_tenfold_SVM_metric)]\n",
    "print('\\n')\n",
    "[print(i,score) for i,score in enumerate(A2_tenfold_KNN_metric)]\n",
    "print('\\n')\n",
    "# print(A2_tenfold_KNN_metric)"
   ]
  },
  {
   "cell_type": "code",
   "execution_count": 26,
   "metadata": {},
   "outputs": [],
   "source": [
    "A2_SVM_Metric_Average = count_average(A2_tenfold_SVM_metric)\n",
    "A2_KNN_Metric_Average = count_average(A2_tenfold_KNN_metric)\n",
    "add_metric_data('A2', '10_fold', 'SVM', A2_SVM_Metric_Average)\n",
    "add_metric_data('A2', '10_fold', 'KNN', A2_KNN_Metric_Average)"
   ]
  },
  {
   "cell_type": "markdown",
   "metadata": {},
   "source": [
    "#### A2 75% Train and 25% Test Split"
   ]
  },
  {
   "cell_type": "code",
   "execution_count": 27,
   "metadata": {},
   "outputs": [],
   "source": [
    "X_A2_75_25, X_A2_test_75_25, Y_A2_75_25, Y_A2_test_75_25 = seventy_five_twenty_five_split(A2)\n",
    "A2_SVM_75_25 = SVM_model()\n",
    "A2_KNN_75_25 = KNN_model()"
   ]
  },
  {
   "cell_type": "code",
   "execution_count": 28,
   "metadata": {},
   "outputs": [],
   "source": [
    "A2_SVM_75_25.fit(X_A2_75_25, Y_A2_75_25)\n",
    "A2_KNN_75_25.fit(X_A2_75_25, Y_A2_75_25)\n",
    "A2_SVM_75_25_prediction = A2_SVM_75_25.predict(X_A2_test_75_25)\n",
    "A2_KNN_75_25_prediction = A2_KNN_75_25.predict(X_A2_test_75_25)"
   ]
  },
  {
   "cell_type": "code",
   "execution_count": 29,
   "metadata": {},
   "outputs": [
    {
     "name": "stdout",
     "output_type": "stream",
     "text": [
      "[ 0 27  0 23]\n",
      "[26  1 11 12]\n"
     ]
    }
   ],
   "source": [
    "A2_SVM_75_25_metric = count_metric(Y_A2_test_75_25, A2_SVM_75_25_prediction)\n",
    "A2_KNN_75_25_metric = count_metric(Y_A2_test_75_25, A2_KNN_75_25_prediction)\n",
    "add_metric_data('A2', '75_25', 'SVM', A2_SVM_75_25_metric)\n",
    "add_metric_data('A2', '75_25', 'KNN', A2_KNN_75_25_metric)"
   ]
  },
  {
   "cell_type": "markdown",
   "metadata": {},
   "source": [
    "## A3"
   ]
  },
  {
   "cell_type": "code",
   "execution_count": 30,
   "metadata": {},
   "outputs": [],
   "source": [
    "A3 = load_data('data/CPA3.xlsx')"
   ]
  },
  {
   "cell_type": "markdown",
   "metadata": {},
   "source": [
    "#### A3 10-Fold Cross Validation"
   ]
  },
  {
   "cell_type": "code",
   "execution_count": 31,
   "metadata": {},
   "outputs": [],
   "source": [
    "A3_ten_fold_data = label_convert(A3)"
   ]
  },
  {
   "cell_type": "code",
   "execution_count": 32,
   "metadata": {},
   "outputs": [
    {
     "name": "stdout",
     "output_type": "stream",
     "text": [
      "[16  0 14  0]\n",
      "[16  0  5  9]\n",
      "[22  0  8  0]\n",
      "[22  0  5  3]\n",
      "[25  0  5  0]\n",
      "[25  0  3  2]\n",
      "[20  0 10  0]\n",
      "[20  0  2  8]\n",
      "[24  0  6  0]\n",
      "[24  0  4  2]\n",
      "[18  0 12  0]\n",
      "[18  0  6  6]\n",
      "[16  0 14  0]\n",
      "[16  0  7  7]\n",
      "[17  0 13  0]\n",
      "[17  0  8  5]\n",
      "[20  0 10  0]\n",
      "[20  0  6  4]\n",
      "[22  0  8  0]\n",
      "[22  0  3  5]\n",
      "0 {'accuracy': 0.5333333333333333, 'sensitivity': 0.5, 'specificity': 0.5, 'f1_score': 0.014}\n",
      "1 {'accuracy': 0.7333333333333333, 'sensitivity': 0.5, 'specificity': 0.5, 'f1_score': 0.024}\n",
      "2 {'accuracy': 0.8333333333333334, 'sensitivity': 0.5, 'specificity': 0.5, 'f1_score': 0.038}\n",
      "3 {'accuracy': 0.6666666666666666, 'sensitivity': 0.5, 'specificity': 0.5, 'f1_score': 0.019}\n",
      "4 {'accuracy': 0.8, 'sensitivity': 0.5, 'specificity': 0.5, 'f1_score': 0.032}\n",
      "5 {'accuracy': 0.6, 'sensitivity': 0.5, 'specificity': 0.5, 'f1_score': 0.016}\n",
      "6 {'accuracy': 0.5333333333333333, 'sensitivity': 0.5, 'specificity': 0.5, 'f1_score': 0.014}\n",
      "7 {'accuracy': 0.5666666666666667, 'sensitivity': 0.5, 'specificity': 0.5, 'f1_score': 0.015}\n",
      "8 {'accuracy': 0.6666666666666666, 'sensitivity': 0.5, 'specificity': 0.5, 'f1_score': 0.019}\n",
      "9 {'accuracy': 0.7333333333333333, 'sensitivity': 0.5, 'specificity': 0.5, 'f1_score': 0.024}\n",
      "\n",
      "\n",
      "0 {'accuracy': 0.8333333333333334, 'sensitivity': 0.989, 'specificity': 0.011, 'f1_score': 0.779}\n",
      "1 {'accuracy': 0.8333333333333334, 'sensitivity': 0.968, 'specificity': 0.032, 'f1_score': 0.541}\n",
      "2 {'accuracy': 0.9, 'sensitivity': 0.952, 'specificity': 0.048, 'f1_score': 0.563}\n",
      "3 {'accuracy': 0.9333333333333333, 'sensitivity': 0.988, 'specificity': 0.012, 'f1_score': 0.884}\n",
      "4 {'accuracy': 0.8666666666666667, 'sensitivity': 0.952, 'specificity': 0.048, 'f1_score': 0.494}\n",
      "5 {'accuracy': 0.8, 'sensitivity': 0.984, 'specificity': 0.016, 'f1_score': 0.663}\n",
      "6 {'accuracy': 0.7666666666666667, 'sensitivity': 0.986, 'specificity': 0.014, 'f1_score': 0.664}\n",
      "7 {'accuracy': 0.7333333333333333, 'sensitivity': 0.98, 'specificity': 0.02, 'f1_score': 0.552}\n",
      "8 {'accuracy': 0.8, 'sensitivity': 0.976, 'specificity': 0.024, 'f1_score': 0.567}\n",
      "9 {'accuracy': 0.9, 'sensitivity': 0.98, 'specificity': 0.02, 'f1_score': 0.763}\n",
      "\n",
      "\n"
     ]
    }
   ],
   "source": [
    "X_A3_ten_fold = A3_ten_fold_data.drop('kelas', axis=1)\n",
    "Y_A3_ten_fold = A3_ten_fold_data['kelas']\n",
    "\n",
    "A3_ten_fold_cv_SVM = SVM_model()\n",
    "A3_ten_fold_cv_KNN = KNN_model()\n",
    "\n",
    "from sklearn.model_selection import KFold\n",
    "A3_ten_fold = KFold(n_splits=10, shuffle=True, random_state=42)\n",
    "A3_tenfold_SVM_metric = []\n",
    "A3_tenfold_KNN_metric = []\n",
    "\n",
    "for A3_train_index, A_test_index in A3_ten_fold.split(X_A3_ten_fold):\n",
    "    A3_X_train, A3_X_test = X_A3_ten_fold.iloc[A3_train_index], X_A3_ten_fold.iloc[A_test_index]\n",
    "    A3_Y_train, A3_Y_test = Y_A3_ten_fold.iloc[A3_train_index], Y_A3_ten_fold.iloc[A_test_index]\n",
    "\n",
    "    A3_ten_fold_cv_SVM.fit(A3_X_train, A3_Y_train)\n",
    "    A3_ten_fold_cv_KNN.fit(A3_X_test, A3_Y_test)\n",
    "\n",
    "    A3_SVM_prediction = A3_ten_fold_cv_SVM.predict(A3_X_test)\n",
    "    A3_KNN_prediction = A3_ten_fold_cv_KNN.predict(A3_X_test)\n",
    "\n",
    "    A3_ten_fold_cv_SVM_metric = count_metric(A3_Y_test, A3_SVM_prediction)\n",
    "    A3_ten_fold_cv_KNN_metric = count_metric(A3_Y_test, A3_KNN_prediction)\n",
    "\n",
    "    A3_tenfold_SVM_metric.append(A3_ten_fold_cv_SVM_metric)\n",
    "    A3_tenfold_KNN_metric.append(A3_ten_fold_cv_KNN_metric)\n",
    "\n",
    "[print(i,score) for i,score in enumerate(A3_tenfold_SVM_metric)]\n",
    "print('\\n')\n",
    "[print(i,score) for i,score in enumerate(A3_tenfold_KNN_metric)]\n",
    "print('\\n')\n",
    "# print(A3_tenfold_KNN_metric)"
   ]
  },
  {
   "cell_type": "code",
   "execution_count": 33,
   "metadata": {},
   "outputs": [],
   "source": [
    "A3_SVM_Metric_Average = count_average(A3_tenfold_SVM_metric)\n",
    "A3_KNN_Metric_Average = count_average(A3_tenfold_KNN_metric)\n",
    "add_metric_data('A3', '10_fold', 'SVM', A3_SVM_Metric_Average)\n",
    "add_metric_data('A3', '10_fold', 'KNN', A3_KNN_Metric_Average)"
   ]
  },
  {
   "cell_type": "markdown",
   "metadata": {},
   "source": [
    "#### A3 75% Train and 25% Test Split"
   ]
  },
  {
   "cell_type": "code",
   "execution_count": 34,
   "metadata": {},
   "outputs": [],
   "source": [
    "X_A3_75_25, X_A3_test_75_25, Y_A3_75_25, Y_A3_test_75_25 = seventy_five_twenty_five_split(A3)\n",
    "A3_SVM_75_25 = SVM_model()\n",
    "A3_KNN_75_25 = KNN_model()"
   ]
  },
  {
   "cell_type": "code",
   "execution_count": 35,
   "metadata": {},
   "outputs": [],
   "source": [
    "A3_SVM_75_25.fit(X_A3_75_25, Y_A3_75_25)\n",
    "A3_KNN_75_25.fit(X_A3_75_25, Y_A3_75_25)\n",
    "A3_SVM_75_25_prediction = A3_SVM_75_25.predict(X_A3_test_75_25)\n",
    "A3_KNN_75_25_prediction = A3_KNN_75_25.predict(X_A3_test_75_25)"
   ]
  },
  {
   "cell_type": "code",
   "execution_count": 36,
   "metadata": {},
   "outputs": [
    {
     "name": "stdout",
     "output_type": "stream",
     "text": [
      "[50  0 25  0]\n",
      "[46  4 15 10]\n"
     ]
    }
   ],
   "source": [
    "A3_SVM_75_25_metric = count_metric(Y_A3_test_75_25, A3_SVM_75_25_prediction)\n",
    "A3_KNN_75_25_metric = count_metric(Y_A3_test_75_25, A3_KNN_75_25_prediction)\n",
    "add_metric_data('A3', '75_25', 'SVM', A3_SVM_75_25_metric)\n",
    "add_metric_data('A3', '75_25', 'KNN', A3_KNN_75_25_metric)"
   ]
  },
  {
   "cell_type": "markdown",
   "metadata": {},
   "source": [
    "## B1"
   ]
  },
  {
   "cell_type": "code",
   "execution_count": 38,
   "metadata": {},
   "outputs": [],
   "source": [
    "B1 = load_data('data/CPB1.xlsx')"
   ]
  },
  {
   "cell_type": "markdown",
   "metadata": {},
   "source": [
    "#### B1 10-Fold Cross Validation"
   ]
  },
  {
   "cell_type": "code",
   "execution_count": 39,
   "metadata": {},
   "outputs": [],
   "source": [
    "B1_ten_fold_data = label_convert(B1)"
   ]
  },
  {
   "cell_type": "code",
   "execution_count": 40,
   "metadata": {},
   "outputs": [
    {
     "name": "stdout",
     "output_type": "stream",
     "text": [
      "[ 1  9  0 10]\n",
      "[10  0  1  9]\n",
      "[ 0 11  0  9]\n",
      "[11  0  3  6]\n",
      "[ 4  6  0 10]\n",
      "[10  0  2  8]\n",
      "[ 9  0 11  0]\n",
      "[ 9  0  1 10]\n",
      "[ 0 11  0  9]\n",
      "[11  0  5  4]\n",
      "[ 9  0 11  0]\n",
      "[ 9  0  0 11]\n",
      "[6 4 1 9]\n",
      "[10  0  4  6]\n",
      "[ 0 12  0  8]\n",
      "[12  0  1  7]\n",
      "[ 9  0 11  0]\n",
      "[9 0 3 8]\n",
      "[ 9  0 11  0]\n",
      "[9 0 2 9]\n",
      "0 {'accuracy': 0.55, 'sensitivity': 0.526, 'specificity': 0.474, 'f1_score': 0.687}\n",
      "1 {'accuracy': 0.45, 'sensitivity': 0.45, 'specificity': 0.55, 'f1_score': 0.619}\n",
      "2 {'accuracy': 0.7, 'sensitivity': 0.625, 'specificity': 0.375, 'f1_score': 0.766}\n",
      "3 {'accuracy': 0.45, 'sensitivity': 0.5, 'specificity': 0.5, 'f1_score': 0.018}\n",
      "4 {'accuracy': 0.45, 'sensitivity': 0.45, 'specificity': 0.55, 'f1_score': 0.619}\n",
      "5 {'accuracy': 0.45, 'sensitivity': 0.5, 'specificity': 0.5, 'f1_score': 0.018}\n",
      "6 {'accuracy': 0.75, 'sensitivity': 0.692, 'specificity': 0.308, 'f1_score': 0.783}\n",
      "7 {'accuracy': 0.4, 'sensitivity': 0.4, 'specificity': 0.6, 'f1_score': 0.569}\n",
      "8 {'accuracy': 0.45, 'sensitivity': 0.5, 'specificity': 0.5, 'f1_score': 0.018}\n",
      "9 {'accuracy': 0.45, 'sensitivity': 0.5, 'specificity': 0.5, 'f1_score': 0.018}\n",
      "\n",
      "\n",
      "0 {'accuracy': 0.95, 'sensitivity': 0.989, 'specificity': 0.011, 'f1_score': 0.942}\n",
      "1 {'accuracy': 0.85, 'sensitivity': 0.984, 'specificity': 0.016, 'f1_score': 0.795}\n",
      "2 {'accuracy': 0.9, 'sensitivity': 0.988, 'specificity': 0.012, 'f1_score': 0.884}\n",
      "3 {'accuracy': 0.95, 'sensitivity': 0.99, 'specificity': 0.01, 'f1_score': 0.948}\n",
      "4 {'accuracy': 0.75, 'sensitivity': 0.976, 'specificity': 0.024, 'f1_score': 0.611}\n",
      "5 {'accuracy': 1.0, 'sensitivity': 0.991, 'specificity': 0.009, 'f1_score': 0.991}\n",
      "6 {'accuracy': 0.8, 'sensitivity': 0.984, 'specificity': 0.016, 'f1_score': 0.745}\n",
      "7 {'accuracy': 0.95, 'sensitivity': 0.986, 'specificity': 0.014, 'f1_score': 0.927}\n",
      "8 {'accuracy': 0.85, 'sensitivity': 0.988, 'specificity': 0.012, 'f1_score': 0.838}\n",
      "9 {'accuracy': 0.9, 'sensitivity': 0.989, 'specificity': 0.011, 'f1_score': 0.896}\n",
      "\n",
      "\n"
     ]
    }
   ],
   "source": [
    "X_B1_ten_fold = B1_ten_fold_data.drop('kelas', axis=1)\n",
    "Y_B1_ten_fold = B1_ten_fold_data['kelas']\n",
    "\n",
    "B1_ten_fold_cv_SVM = SVM_model()\n",
    "B1_ten_fold_cv_KNN = KNN_model()\n",
    "\n",
    "from sklearn.model_selection import KFold\n",
    "B1_ten_fold = KFold(n_splits=10, shuffle=True, random_state=42)\n",
    "B1_tenfold_SVM_metric = []\n",
    "B1_tenfold_KNN_metric = []\n",
    "\n",
    "for B1_train_index, B_test_index in B1_ten_fold.split(X_B1_ten_fold):\n",
    "    B1_X_train, B1_X_test = X_B1_ten_fold.iloc[B1_train_index], X_B1_ten_fold.iloc[B_test_index]\n",
    "    B1_Y_train, B1_Y_test = Y_B1_ten_fold.iloc[B1_train_index], Y_B1_ten_fold.iloc[B_test_index]\n",
    "\n",
    "    B1_ten_fold_cv_SVM.fit(B1_X_train, B1_Y_train)\n",
    "    B1_ten_fold_cv_KNN.fit(B1_X_test, B1_Y_test)\n",
    "\n",
    "    B1_SVM_prediction = B1_ten_fold_cv_SVM.predict(B1_X_test)\n",
    "    B1_KNN_prediction = B1_ten_fold_cv_KNN.predict(B1_X_test)\n",
    "\n",
    "    B1_ten_fold_cv_SVM_metric = count_metric(B1_Y_test, B1_SVM_prediction)\n",
    "    B1_ten_fold_cv_KNN_metric = count_metric(B1_Y_test, B1_KNN_prediction)\n",
    "\n",
    "    B1_tenfold_SVM_metric.append(B1_ten_fold_cv_SVM_metric)\n",
    "    B1_tenfold_KNN_metric.append(B1_ten_fold_cv_KNN_metric)\n",
    "\n",
    "[print(i,score) for i,score in enumerate(B1_tenfold_SVM_metric)]\n",
    "print('\\n')\n",
    "[print(i,score) for i,score in enumerate(B1_tenfold_KNN_metric)]\n",
    "print('\\n')\n",
    "# print(B1_tenfold_KNN_metric)\n"
   ]
  },
  {
   "cell_type": "code",
   "execution_count": 41,
   "metadata": {},
   "outputs": [],
   "source": [
    "B1_SVM_Metric_Average = count_average(B1_tenfold_SVM_metric)\n",
    "B1_KNN_Metric_Average = count_average(B1_tenfold_KNN_metric)\n",
    "add_metric_data('B1', '10_fold', 'SVM', B1_SVM_Metric_Average)\n",
    "add_metric_data('B1', '10_fold', 'KNN', B1_KNN_Metric_Average)"
   ]
  },
  {
   "cell_type": "markdown",
   "metadata": {},
   "source": [
    "#### B1 75% Train and 25% Test Split"
   ]
  },
  {
   "cell_type": "code",
   "execution_count": 42,
   "metadata": {},
   "outputs": [],
   "source": [
    "X_B1_75_25, X_B1_test_75_25, Y_B1_75_25, Y_B1_test_75_25 = seventy_five_twenty_five_split(B1)\n",
    "B1_SVM_75_25 = SVM_model()\n",
    "B1_KNN_75_25 = KNN_model()"
   ]
  },
  {
   "cell_type": "code",
   "execution_count": 43,
   "metadata": {},
   "outputs": [],
   "source": [
    "B1_SVM_75_25.fit(X_B1_75_25, Y_B1_75_25)\n",
    "B1_KNN_75_25.fit(X_B1_75_25, Y_B1_75_25)\n",
    "B1_SVM_75_25_prediction = B1_SVM_75_25.predict(X_B1_test_75_25)\n",
    "B1_KNN_75_25_prediction = B1_KNN_75_25.predict(X_B1_test_75_25)"
   ]
  },
  {
   "cell_type": "code",
   "execution_count": 44,
   "metadata": {},
   "outputs": [
    {
     "name": "stdout",
     "output_type": "stream",
     "text": [
      "[ 0 27  0 23]\n",
      "[24  3  7 16]\n"
     ]
    }
   ],
   "source": [
    "B1_SVM_75_25_metric = count_metric(Y_B1_test_75_25, B1_SVM_75_25_prediction)\n",
    "B1_KNN_75_25_metric = count_metric(Y_B1_test_75_25, B1_KNN_75_25_prediction)\n",
    "add_metric_data('B1', '75_25', 'SVM', B1_SVM_75_25_metric)\n",
    "add_metric_data('B1', '75_25', 'KNN', B1_KNN_75_25_metric)"
   ]
  },
  {
   "cell_type": "markdown",
   "metadata": {},
   "source": [
    "## B2"
   ]
  },
  {
   "cell_type": "code",
   "execution_count": 45,
   "metadata": {},
   "outputs": [],
   "source": [
    "B2 = load_data('data/CPB2.xlsx')"
   ]
  },
  {
   "cell_type": "markdown",
   "metadata": {},
   "source": [
    "#### B2 10-Fold Cross Validation"
   ]
  },
  {
   "cell_type": "code",
   "execution_count": 46,
   "metadata": {},
   "outputs": [],
   "source": [
    "B2_ten_fold_data = label_convert(B2)"
   ]
  },
  {
   "cell_type": "code",
   "execution_count": 47,
   "metadata": {},
   "outputs": [
    {
     "name": "stdout",
     "output_type": "stream",
     "text": [
      "[ 1  9  0 10]\n",
      "[10  0  3  7]\n",
      "[ 0 11  0  9]\n",
      "[11  0  3  6]\n",
      "[ 4  6  0 10]\n",
      "[10  0  2  8]\n",
      "[ 9  0 11  0]\n",
      "[ 9  0  1 10]\n",
      "[ 0 11  0  9]\n",
      "[11  0  5  4]\n",
      "[ 9  0 11  0]\n",
      "[ 9  0  0 11]\n",
      "[ 5  5  0 10]\n",
      "[10  0  1  9]\n",
      "[ 0 12  0  8]\n",
      "[12  0  3  5]\n",
      "[ 9  0 11  0]\n",
      "[9 0 2 9]\n",
      "[ 9  0 11  0]\n",
      "[9 0 3 8]\n",
      "0 {'accuracy': 0.55, 'sensitivity': 0.526, 'specificity': 0.474, 'f1_score': 0.687}\n",
      "1 {'accuracy': 0.45, 'sensitivity': 0.45, 'specificity': 0.55, 'f1_score': 0.619}\n",
      "2 {'accuracy': 0.7, 'sensitivity': 0.625, 'specificity': 0.375, 'f1_score': 0.766}\n",
      "3 {'accuracy': 0.45, 'sensitivity': 0.5, 'specificity': 0.5, 'f1_score': 0.018}\n",
      "4 {'accuracy': 0.45, 'sensitivity': 0.45, 'specificity': 0.55, 'f1_score': 0.619}\n",
      "5 {'accuracy': 0.45, 'sensitivity': 0.5, 'specificity': 0.5, 'f1_score': 0.018}\n",
      "6 {'accuracy': 0.75, 'sensitivity': 0.667, 'specificity': 0.333, 'f1_score': 0.797}\n",
      "7 {'accuracy': 0.4, 'sensitivity': 0.4, 'specificity': 0.6, 'f1_score': 0.569}\n",
      "8 {'accuracy': 0.45, 'sensitivity': 0.5, 'specificity': 0.5, 'f1_score': 0.018}\n",
      "9 {'accuracy': 0.45, 'sensitivity': 0.5, 'specificity': 0.5, 'f1_score': 0.018}\n",
      "\n",
      "\n",
      "0 {'accuracy': 0.85, 'sensitivity': 0.986, 'specificity': 0.014, 'f1_score': 0.819}\n",
      "1 {'accuracy': 0.85, 'sensitivity': 0.984, 'specificity': 0.016, 'f1_score': 0.795}\n",
      "2 {'accuracy': 0.9, 'sensitivity': 0.988, 'specificity': 0.012, 'f1_score': 0.884}\n",
      "3 {'accuracy': 0.95, 'sensitivity': 0.99, 'specificity': 0.01, 'f1_score': 0.948}\n",
      "4 {'accuracy': 0.75, 'sensitivity': 0.976, 'specificity': 0.024, 'f1_score': 0.611}\n",
      "5 {'accuracy': 1.0, 'sensitivity': 0.991, 'specificity': 0.009, 'f1_score': 0.991}\n",
      "6 {'accuracy': 0.95, 'sensitivity': 0.989, 'specificity': 0.011, 'f1_score': 0.942}\n",
      "7 {'accuracy': 0.85, 'sensitivity': 0.98, 'specificity': 0.02, 'f1_score': 0.763}\n",
      "8 {'accuracy': 0.9, 'sensitivity': 0.989, 'specificity': 0.011, 'f1_score': 0.896}\n",
      "9 {'accuracy': 0.85, 'sensitivity': 0.988, 'specificity': 0.012, 'f1_score': 0.838}\n",
      "\n",
      "\n"
     ]
    }
   ],
   "source": [
    "X_B2_ten_fold = B2_ten_fold_data.drop('kelas', axis=1)\n",
    "Y_B2_ten_fold = B2_ten_fold_data['kelas']\n",
    "\n",
    "B2_ten_fold_cv_SVM = SVM_model()\n",
    "B2_ten_fold_cv_KNN = KNN_model()\n",
    "\n",
    "from sklearn.model_selection import KFold\n",
    "B2_ten_fold = KFold(n_splits=10, shuffle=True, random_state=42)\n",
    "B2_tenfold_SVM_metric = []\n",
    "B2_tenfold_KNN_metric = []\n",
    "\n",
    "for B2_train_index, B_test_index in B2_ten_fold.split(X_B2_ten_fold):\n",
    "    B2_X_train, B2_X_test = X_B2_ten_fold.iloc[B2_train_index], X_B2_ten_fold.iloc[B_test_index]\n",
    "    B2_Y_train, B2_Y_test = Y_B2_ten_fold.iloc[B2_train_index], Y_B2_ten_fold.iloc[B_test_index]\n",
    "\n",
    "    B2_ten_fold_cv_SVM.fit(B2_X_train, B2_Y_train)\n",
    "    B2_ten_fold_cv_KNN.fit(B2_X_test, B2_Y_test)\n",
    "\n",
    "    B2_SVM_prediction = B2_ten_fold_cv_SVM.predict(B2_X_test)\n",
    "    B2_KNN_prediction = B2_ten_fold_cv_KNN.predict(B2_X_test)\n",
    "\n",
    "    B2_ten_fold_cv_SVM_metric = count_metric(B2_Y_test, B2_SVM_prediction)\n",
    "    B2_ten_fold_cv_KNN_metric = count_metric(B2_Y_test, B2_KNN_prediction)\n",
    "\n",
    "    B2_tenfold_SVM_metric.append(B2_ten_fold_cv_SVM_metric)\n",
    "    B2_tenfold_KNN_metric.append(B2_ten_fold_cv_KNN_metric)\n",
    "\n",
    "[print(i,score) for i,score in enumerate(B2_tenfold_SVM_metric)]\n",
    "print('\\n')\n",
    "[print(i,score) for i,score in enumerate(B2_tenfold_KNN_metric)]\n",
    "print('\\n')\n",
    "# print(B2_tenfold_KNN_metric)"
   ]
  },
  {
   "cell_type": "code",
   "execution_count": 48,
   "metadata": {},
   "outputs": [],
   "source": [
    "B2_SVM_Metric_Average = count_average(B1_tenfold_SVM_metric)\n",
    "B2_KNN_Metric_Average = count_average(B1_tenfold_KNN_metric)\n",
    "add_metric_data('B2', '10_fold', 'SVM', B2_SVM_Metric_Average)\n",
    "add_metric_data('B2', '10_fold', 'KNN', B2_KNN_Metric_Average)"
   ]
  },
  {
   "cell_type": "markdown",
   "metadata": {},
   "source": [
    "#### B2 75% Train and 25% Test Split"
   ]
  },
  {
   "cell_type": "code",
   "execution_count": 49,
   "metadata": {},
   "outputs": [],
   "source": [
    "X_B2_75_25, X_B2_test_75_25, Y_B2_75_25, Y_B2_test_75_25 = seventy_five_twenty_five_split(B2)\n",
    "B2_SVM_75_25 = SVM_model()\n",
    "B2_KNN_75_25 = KNN_model()"
   ]
  },
  {
   "cell_type": "code",
   "execution_count": 50,
   "metadata": {},
   "outputs": [],
   "source": [
    "B2_SVM_75_25.fit(X_B2_75_25, Y_B2_75_25)\n",
    "B2_KNN_75_25.fit(X_B2_75_25, Y_B2_75_25)\n",
    "B2_SVM_75_25_prediction = B2_SVM_75_25.predict(X_B2_test_75_25)\n",
    "B2_KNN_75_25_prediction = B2_KNN_75_25.predict(X_B2_test_75_25)"
   ]
  },
  {
   "cell_type": "code",
   "execution_count": 51,
   "metadata": {},
   "outputs": [
    {
     "name": "stdout",
     "output_type": "stream",
     "text": [
      "[ 0 27  0 23]\n",
      "[23  4  7 16]\n"
     ]
    }
   ],
   "source": [
    "B2_SVM_75_25_metric = count_metric(Y_B2_test_75_25, B2_SVM_75_25_prediction)\n",
    "B2_KNN_75_25_metric = count_metric(Y_B2_test_75_25, B2_KNN_75_25_prediction)\n",
    "add_metric_data('B2', '75_25', 'SVM', B2_SVM_75_25_metric)\n",
    "add_metric_data('B2', '75_25', 'KNN', B2_KNN_75_25_metric)"
   ]
  },
  {
   "cell_type": "markdown",
   "metadata": {},
   "source": [
    "## B3"
   ]
  },
  {
   "cell_type": "code",
   "execution_count": 52,
   "metadata": {},
   "outputs": [],
   "source": [
    "B3 = load_data('data/CPB3.xlsx')"
   ]
  },
  {
   "cell_type": "markdown",
   "metadata": {},
   "source": [
    "#### B3 10-Fold Cross Validation"
   ]
  },
  {
   "cell_type": "code",
   "execution_count": 53,
   "metadata": {},
   "outputs": [],
   "source": [
    "B3_ten_fold_data = label_convert(B3)"
   ]
  },
  {
   "cell_type": "code",
   "execution_count": 54,
   "metadata": {},
   "outputs": [
    {
     "name": "stdout",
     "output_type": "stream",
     "text": [
      "[ 4  6  0 10]\n",
      "[10  0  2  8]\n",
      "[ 0 11  0  9]\n",
      "[11  0  1  8]\n",
      "[ 7  3  0 10]\n",
      "[10  0  1  9]\n",
      "[ 9  0 11  0]\n",
      "[9 0 4 7]\n",
      "[ 0 11  0  9]\n",
      "[11  0  2  7]\n",
      "[ 9  0 11  0]\n",
      "[ 9  0  0 11]\n",
      "[7 3 1 9]\n",
      "[10  0  5  5]\n",
      "[ 0 12  0  8]\n",
      "[12  0  0  8]\n",
      "[ 9  0 11  0]\n",
      "[9 0 2 9]\n",
      "[ 9  0 11  0]\n",
      "[9 0 2 9]\n",
      "0 {'accuracy': 0.7, 'sensitivity': 0.625, 'specificity': 0.375, 'f1_score': 0.766}\n",
      "1 {'accuracy': 0.45, 'sensitivity': 0.45, 'specificity': 0.55, 'f1_score': 0.619}\n",
      "2 {'accuracy': 0.85, 'sensitivity': 0.769, 'specificity': 0.231, 'f1_score': 0.866}\n",
      "3 {'accuracy': 0.45, 'sensitivity': 0.5, 'specificity': 0.5, 'f1_score': 0.018}\n",
      "4 {'accuracy': 0.45, 'sensitivity': 0.45, 'specificity': 0.55, 'f1_score': 0.619}\n",
      "5 {'accuracy': 0.45, 'sensitivity': 0.5, 'specificity': 0.5, 'f1_score': 0.018}\n",
      "6 {'accuracy': 0.8, 'sensitivity': 0.75, 'specificity': 0.25, 'f1_score': 0.818}\n",
      "7 {'accuracy': 0.4, 'sensitivity': 0.4, 'specificity': 0.6, 'f1_score': 0.569}\n",
      "8 {'accuracy': 0.45, 'sensitivity': 0.5, 'specificity': 0.5, 'f1_score': 0.018}\n",
      "9 {'accuracy': 0.45, 'sensitivity': 0.5, 'specificity': 0.5, 'f1_score': 0.018}\n",
      "\n",
      "\n",
      "0 {'accuracy': 0.9, 'sensitivity': 0.988, 'specificity': 0.012, 'f1_score': 0.884}\n",
      "1 {'accuracy': 0.95, 'sensitivity': 0.988, 'specificity': 0.012, 'f1_score': 0.936}\n",
      "2 {'accuracy': 0.95, 'sensitivity': 0.989, 'specificity': 0.011, 'f1_score': 0.942}\n",
      "3 {'accuracy': 0.8, 'sensitivity': 0.986, 'specificity': 0.014, 'f1_score': 0.773}\n",
      "4 {'accuracy': 0.9, 'sensitivity': 0.986, 'specificity': 0.014, 'f1_score': 0.87}\n",
      "5 {'accuracy': 1.0, 'sensitivity': 0.991, 'specificity': 0.009, 'f1_score': 0.991}\n",
      "6 {'accuracy': 0.75, 'sensitivity': 0.98, 'specificity': 0.02, 'f1_score': 0.662}\n",
      "7 {'accuracy': 1.0, 'sensitivity': 0.988, 'specificity': 0.012, 'f1_score': 0.988}\n",
      "8 {'accuracy': 0.9, 'sensitivity': 0.989, 'specificity': 0.011, 'f1_score': 0.896}\n",
      "9 {'accuracy': 0.9, 'sensitivity': 0.989, 'specificity': 0.011, 'f1_score': 0.896}\n",
      "\n",
      "\n"
     ]
    }
   ],
   "source": [
    "X_B3_ten_fold = B3_ten_fold_data.drop('kelas', axis=1)\n",
    "Y_B3_ten_fold = B3_ten_fold_data['kelas']\n",
    "\n",
    "B3_ten_fold_cv_SVM = SVM_model()\n",
    "B3_ten_fold_cv_KNN = KNN_model()\n",
    "\n",
    "from sklearn.model_selection import KFold\n",
    "B3_ten_fold = KFold(n_splits=10, shuffle=True, random_state=42)\n",
    "B3_tenfold_SVM_metric = []\n",
    "B3_tenfold_KNN_metric = []\n",
    "\n",
    "for B3_train_index, B_test_index in B3_ten_fold.split(X_B3_ten_fold):\n",
    "    B3_X_train, B3_X_test = X_B3_ten_fold.iloc[B3_train_index], X_B3_ten_fold.iloc[B_test_index]\n",
    "    B3_Y_train, B3_Y_test = Y_B3_ten_fold.iloc[B3_train_index], Y_B3_ten_fold.iloc[B_test_index]\n",
    "\n",
    "    B3_ten_fold_cv_SVM.fit(B3_X_train, B3_Y_train)\n",
    "    B3_ten_fold_cv_KNN.fit(B3_X_test, B3_Y_test)\n",
    "\n",
    "    B3_SVM_prediction = B3_ten_fold_cv_SVM.predict(B3_X_test)\n",
    "    B3_KNN_prediction = B3_ten_fold_cv_KNN.predict(B3_X_test)\n",
    "\n",
    "    B3_ten_fold_cv_SVM_metric = count_metric(B3_Y_test, B3_SVM_prediction)\n",
    "    B3_ten_fold_cv_KNN_metric = count_metric(B3_Y_test, B3_KNN_prediction)\n",
    "\n",
    "    B3_tenfold_SVM_metric.append(B3_ten_fold_cv_SVM_metric)\n",
    "    B3_tenfold_KNN_metric.append(B3_ten_fold_cv_KNN_metric)\n",
    "\n",
    "[print(i,score) for i,score in enumerate(B3_tenfold_SVM_metric)]\n",
    "print('\\n')\n",
    "[print(i,score) for i,score in enumerate(B3_tenfold_KNN_metric)]\n",
    "print('\\n')\n",
    "# print(B3_tenfold_KNN_metric)\n"
   ]
  },
  {
   "cell_type": "code",
   "execution_count": 55,
   "metadata": {},
   "outputs": [],
   "source": [
    "B3_SVM_Metric_Average = count_average(B3_tenfold_SVM_metric)\n",
    "B3_KNN_Metric_Average = count_average(B3_tenfold_KNN_metric)\n",
    "add_metric_data('B3', '10_fold', 'SVM', B3_SVM_Metric_Average)\n",
    "add_metric_data('B3', '10_fold', 'KNN', B3_KNN_Metric_Average)"
   ]
  },
  {
   "cell_type": "markdown",
   "metadata": {},
   "source": [
    "#### B3 75% Train and 25% Test Split"
   ]
  },
  {
   "cell_type": "code",
   "execution_count": 56,
   "metadata": {},
   "outputs": [],
   "source": [
    "X_B3_75_25, X_B3_test_75_25, Y_B3_75_25, Y_B3_test_75_25 = seventy_five_twenty_five_split(B3)\n",
    "B3_SVM_75_25 = SVM_model()\n",
    "B3_KNN_75_25 = KNN_model()"
   ]
  },
  {
   "cell_type": "code",
   "execution_count": 57,
   "metadata": {},
   "outputs": [],
   "source": [
    "B3_SVM_75_25.fit(X_B3_75_25, Y_B3_75_25)\n",
    "B3_KNN_75_25.fit(X_B3_75_25, Y_B3_75_25)\n",
    "B3_SVM_75_25_prediction = B3_SVM_75_25.predict(X_B3_test_75_25)\n",
    "B3_KNN_75_25_prediction = B3_KNN_75_25.predict(X_B3_test_75_25)"
   ]
  },
  {
   "cell_type": "code",
   "execution_count": 58,
   "metadata": {},
   "outputs": [
    {
     "name": "stdout",
     "output_type": "stream",
     "text": [
      "[ 0 27  0 23]\n",
      "[24  3  8 15]\n"
     ]
    }
   ],
   "source": [
    "B3_SVM_75_25_metric = count_metric(Y_B3_test_75_25, B3_SVM_75_25_prediction)\n",
    "B3_KNN_75_25_metric = count_metric(Y_B3_test_75_25, B3_KNN_75_25_prediction)\n",
    "add_metric_data('B3', '75_25', 'SVM', B3_SVM_75_25_metric)\n",
    "add_metric_data('B3', '75_25', 'KNN', B3_KNN_75_25_metric)"
   ]
  },
  {
   "cell_type": "markdown",
   "metadata": {},
   "source": [
    "## B4"
   ]
  },
  {
   "cell_type": "code",
   "execution_count": 59,
   "metadata": {},
   "outputs": [],
   "source": [
    "B4 = load_data('data/CPB4.xlsx')"
   ]
  },
  {
   "cell_type": "markdown",
   "metadata": {},
   "source": [
    "#### B4 10-Fold Cross Validation"
   ]
  },
  {
   "cell_type": "code",
   "execution_count": 60,
   "metadata": {},
   "outputs": [],
   "source": [
    "B4_ten_fold_data = label_convert(B4)"
   ]
  },
  {
   "cell_type": "code",
   "execution_count": 61,
   "metadata": {},
   "outputs": [
    {
     "name": "stdout",
     "output_type": "stream",
     "text": [
      "[ 4  6  0 10]\n",
      "[10  0  4  6]\n",
      "[ 0 11  0  9]\n",
      "[11  0  1  8]\n",
      "[ 7  3  0 10]\n",
      "[10  0  1  9]\n",
      "[ 9  0 11  0]\n",
      "[9 0 2 9]\n",
      "[ 0 11  0  9]\n",
      "[11  0  3  6]\n",
      "[ 9  0 11  0]\n",
      "[ 9  0  0 11]\n",
      "[ 6  4  0 10]\n",
      "[10  0  0 10]\n",
      "[ 0 12  0  8]\n",
      "[12  0  1  7]\n",
      "[ 9  0 11  0]\n",
      "[9 0 2 9]\n",
      "[ 9  0 11  0]\n",
      "[9 0 2 9]\n",
      "0 {'accuracy': 0.7, 'sensitivity': 0.625, 'specificity': 0.375, 'f1_score': 0.766}\n",
      "1 {'accuracy': 0.45, 'sensitivity': 0.45, 'specificity': 0.55, 'f1_score': 0.619}\n",
      "2 {'accuracy': 0.85, 'sensitivity': 0.769, 'specificity': 0.231, 'f1_score': 0.866}\n",
      "3 {'accuracy': 0.45, 'sensitivity': 0.5, 'specificity': 0.5, 'f1_score': 0.018}\n",
      "4 {'accuracy': 0.45, 'sensitivity': 0.45, 'specificity': 0.55, 'f1_score': 0.619}\n",
      "5 {'accuracy': 0.45, 'sensitivity': 0.5, 'specificity': 0.5, 'f1_score': 0.018}\n",
      "6 {'accuracy': 0.8, 'sensitivity': 0.714, 'specificity': 0.286, 'f1_score': 0.83}\n",
      "7 {'accuracy': 0.4, 'sensitivity': 0.4, 'specificity': 0.6, 'f1_score': 0.569}\n",
      "8 {'accuracy': 0.45, 'sensitivity': 0.5, 'specificity': 0.5, 'f1_score': 0.018}\n",
      "9 {'accuracy': 0.45, 'sensitivity': 0.5, 'specificity': 0.5, 'f1_score': 0.018}\n",
      "\n",
      "\n",
      "0 {'accuracy': 0.8, 'sensitivity': 0.984, 'specificity': 0.016, 'f1_score': 0.745}\n",
      "1 {'accuracy': 0.95, 'sensitivity': 0.988, 'specificity': 0.012, 'f1_score': 0.936}\n",
      "2 {'accuracy': 0.95, 'sensitivity': 0.989, 'specificity': 0.011, 'f1_score': 0.942}\n",
      "3 {'accuracy': 0.9, 'sensitivity': 0.989, 'specificity': 0.011, 'f1_score': 0.896}\n",
      "4 {'accuracy': 0.85, 'sensitivity': 0.984, 'specificity': 0.016, 'f1_score': 0.795}\n",
      "5 {'accuracy': 1.0, 'sensitivity': 0.991, 'specificity': 0.009, 'f1_score': 0.991}\n",
      "6 {'accuracy': 1.0, 'sensitivity': 0.99, 'specificity': 0.01, 'f1_score': 0.99}\n",
      "7 {'accuracy': 0.95, 'sensitivity': 0.986, 'specificity': 0.014, 'f1_score': 0.927}\n",
      "8 {'accuracy': 0.9, 'sensitivity': 0.989, 'specificity': 0.011, 'f1_score': 0.896}\n",
      "9 {'accuracy': 0.9, 'sensitivity': 0.989, 'specificity': 0.011, 'f1_score': 0.896}\n",
      "\n",
      "\n"
     ]
    }
   ],
   "source": [
    "X_B4_ten_fold = B4_ten_fold_data.drop('kelas', axis=1)\n",
    "Y_B4_ten_fold = B4_ten_fold_data['kelas']\n",
    "\n",
    "B4_ten_fold_cv_SVM = SVM_model()\n",
    "B4_ten_fold_cv_KNN = KNN_model()\n",
    "\n",
    "from sklearn.model_selection import KFold\n",
    "B4_ten_fold = KFold(n_splits=10, shuffle=True, random_state=42)\n",
    "B4_tenfold_SVM_metric = []\n",
    "B4_tenfold_KNN_metric = []\n",
    "\n",
    "for B4_train_index, B_test_index in B4_ten_fold.split(X_B4_ten_fold):\n",
    "    B4_X_train, B4_X_test = X_B4_ten_fold.iloc[B4_train_index], X_B4_ten_fold.iloc[B_test_index]\n",
    "    B4_Y_train, B4_Y_test = Y_B4_ten_fold.iloc[B4_train_index], Y_B4_ten_fold.iloc[B_test_index]\n",
    "\n",
    "    B4_ten_fold_cv_SVM.fit(B4_X_train, B4_Y_train)\n",
    "    B4_ten_fold_cv_KNN.fit(B4_X_test, B4_Y_test)\n",
    "\n",
    "    B4_SVM_prediction = B4_ten_fold_cv_SVM.predict(B4_X_test)\n",
    "    B4_KNN_prediction = B4_ten_fold_cv_KNN.predict(B4_X_test)\n",
    "\n",
    "    B4_ten_fold_cv_SVM_metric = count_metric(B4_Y_test, B4_SVM_prediction)\n",
    "    B4_ten_fold_cv_KNN_metric = count_metric(B4_Y_test, B4_KNN_prediction)\n",
    "\n",
    "    B4_tenfold_SVM_metric.append(B4_ten_fold_cv_SVM_metric)\n",
    "    B4_tenfold_KNN_metric.append(B4_ten_fold_cv_KNN_metric)\n",
    "\n",
    "[print(i,score) for i,score in enumerate(B4_tenfold_SVM_metric)]\n",
    "print('\\n')\n",
    "[print(i,score) for i,score in enumerate(B4_tenfold_KNN_metric)]\n",
    "print('\\n')\n",
    "# print(B4_tenfold_KNN_metric)\n"
   ]
  },
  {
   "cell_type": "code",
   "execution_count": 62,
   "metadata": {},
   "outputs": [],
   "source": [
    "B4_SVM_Metric_Average = count_average(B4_tenfold_SVM_metric)\n",
    "B4_KNN_Metric_Average = count_average(B4_tenfold_KNN_metric)\n",
    "add_metric_data('B4', '10_fold', 'SVM', B4_SVM_Metric_Average)\n",
    "add_metric_data('B4', '10_fold', 'KNN', B4_KNN_Metric_Average)"
   ]
  },
  {
   "cell_type": "markdown",
   "metadata": {},
   "source": [
    "#### B4 75% Train and 25% Test Split"
   ]
  },
  {
   "cell_type": "code",
   "execution_count": 63,
   "metadata": {},
   "outputs": [],
   "source": [
    "X_B4_75_25, X_B4_test_75_25, Y_B4_75_25, Y_B4_test_75_25 = seventy_five_twenty_five_split(B4)\n",
    "B4_SVM_75_25 = SVM_model()\n",
    "B4_KNN_75_25 = KNN_model()"
   ]
  },
  {
   "cell_type": "code",
   "execution_count": 64,
   "metadata": {},
   "outputs": [],
   "source": [
    "B4_SVM_75_25.fit(X_B4_75_25, Y_B4_75_25)\n",
    "B4_KNN_75_25.fit(X_B4_75_25, Y_B4_75_25)\n",
    "B4_SVM_75_25_prediction = B4_SVM_75_25.predict(X_B4_test_75_25)\n",
    "B4_KNN_75_25_prediction = B4_KNN_75_25.predict(X_B4_test_75_25)"
   ]
  },
  {
   "cell_type": "code",
   "execution_count": 65,
   "metadata": {},
   "outputs": [
    {
     "name": "stdout",
     "output_type": "stream",
     "text": [
      "[ 0 27  0 23]\n",
      "[24  3  6 17]\n"
     ]
    }
   ],
   "source": [
    "B4_SVM_75_25_metric = count_metric(Y_B4_test_75_25, B4_SVM_75_25_prediction)\n",
    "B4_KNN_75_25_metric = count_metric(Y_B4_test_75_25, B4_KNN_75_25_prediction)\n",
    "add_metric_data('B4', '75_25', 'SVM', B4_SVM_75_25_metric)\n",
    "add_metric_data('B4', '75_25', 'KNN', B4_KNN_75_25_metric)"
   ]
  },
  {
   "cell_type": "markdown",
   "metadata": {},
   "source": [
    "## B5"
   ]
  },
  {
   "cell_type": "code",
   "execution_count": 66,
   "metadata": {},
   "outputs": [],
   "source": [
    "B5 = load_data('data/CPB5.xlsx')"
   ]
  },
  {
   "cell_type": "markdown",
   "metadata": {},
   "source": [
    "#### B5 10-Fold Cross Validation"
   ]
  },
  {
   "cell_type": "code",
   "execution_count": 67,
   "metadata": {},
   "outputs": [],
   "source": [
    "B5_ten_fold_data = label_convert(B5)"
   ]
  },
  {
   "cell_type": "code",
   "execution_count": 68,
   "metadata": {},
   "outputs": [
    {
     "name": "stdout",
     "output_type": "stream",
     "text": [
      "[16  0 14  0]\n",
      "[16  0  5  9]\n",
      "[22  0  8  0]\n",
      "[22  0  0  8]\n",
      "[25  0  5  0]\n",
      "[25  0  3  2]\n",
      "[20  0 10  0]\n",
      "[20  0  3  7]\n",
      "[24  0  6  0]\n",
      "[24  0  3  3]\n",
      "[18  0 12  0]\n",
      "[18  0  4  8]\n",
      "[16  0 14  0]\n",
      "[16  0  3 11]\n",
      "[17  0 13  0]\n",
      "[17  0  1 12]\n",
      "[20  0 10  0]\n",
      "[20  0  2  8]\n",
      "[22  0  8  0]\n",
      "[22  0  3  5]\n",
      "0 {'accuracy': 0.5333333333333333, 'sensitivity': 0.5, 'specificity': 0.5, 'f1_score': 0.014}\n",
      "1 {'accuracy': 0.7333333333333333, 'sensitivity': 0.5, 'specificity': 0.5, 'f1_score': 0.024}\n",
      "2 {'accuracy': 0.8333333333333334, 'sensitivity': 0.5, 'specificity': 0.5, 'f1_score': 0.038}\n",
      "3 {'accuracy': 0.6666666666666666, 'sensitivity': 0.5, 'specificity': 0.5, 'f1_score': 0.019}\n",
      "4 {'accuracy': 0.8, 'sensitivity': 0.5, 'specificity': 0.5, 'f1_score': 0.032}\n",
      "5 {'accuracy': 0.6, 'sensitivity': 0.5, 'specificity': 0.5, 'f1_score': 0.016}\n",
      "6 {'accuracy': 0.5333333333333333, 'sensitivity': 0.5, 'specificity': 0.5, 'f1_score': 0.014}\n",
      "7 {'accuracy': 0.5666666666666667, 'sensitivity': 0.5, 'specificity': 0.5, 'f1_score': 0.015}\n",
      "8 {'accuracy': 0.6666666666666666, 'sensitivity': 0.5, 'specificity': 0.5, 'f1_score': 0.019}\n",
      "9 {'accuracy': 0.7333333333333333, 'sensitivity': 0.5, 'specificity': 0.5, 'f1_score': 0.024}\n",
      "\n",
      "\n",
      "0 {'accuracy': 0.8333333333333334, 'sensitivity': 0.989, 'specificity': 0.011, 'f1_score': 0.779}\n",
      "1 {'accuracy': 1.0, 'sensitivity': 0.988, 'specificity': 0.012, 'f1_score': 0.988}\n",
      "2 {'accuracy': 0.9, 'sensitivity': 0.952, 'specificity': 0.048, 'f1_score': 0.563}\n",
      "3 {'accuracy': 0.9, 'sensitivity': 0.986, 'specificity': 0.014, 'f1_score': 0.819}\n",
      "4 {'accuracy': 0.9, 'sensitivity': 0.968, 'specificity': 0.032, 'f1_score': 0.659}\n",
      "5 {'accuracy': 0.8666666666666667, 'sensitivity': 0.988, 'specificity': 0.012, 'f1_score': 0.796}\n",
      "6 {'accuracy': 0.9, 'sensitivity': 0.991, 'specificity': 0.009, 'f1_score': 0.876}\n",
      "7 {'accuracy': 0.9666666666666667, 'sensitivity': 0.992, 'specificity': 0.008, 'f1_score': 0.956}\n",
      "8 {'accuracy': 0.9333333333333333, 'sensitivity': 0.988, 'specificity': 0.012, 'f1_score': 0.884}\n",
      "9 {'accuracy': 0.9, 'sensitivity': 0.98, 'specificity': 0.02, 'f1_score': 0.763}\n",
      "\n",
      "\n"
     ]
    }
   ],
   "source": [
    "X_B5_ten_fold = B5_ten_fold_data.drop('kelas', axis=1)\n",
    "Y_B5_ten_fold = B5_ten_fold_data['kelas']\n",
    "\n",
    "B5_ten_fold_cv_SVM = SVM_model()\n",
    "B5_ten_fold_cv_KNN = KNN_model()\n",
    "\n",
    "from sklearn.model_selection import KFold\n",
    "B5_ten_fold = KFold(n_splits=10, shuffle=True, random_state=42)\n",
    "B5_tenfold_SVM_metric = []\n",
    "B5_tenfold_KNN_metric = []\n",
    "\n",
    "for B5_train_index, B_test_index in B5_ten_fold.split(X_B5_ten_fold):\n",
    "    B5_X_train, B5_X_test = X_B5_ten_fold.iloc[B5_train_index], X_B5_ten_fold.iloc[B_test_index]\n",
    "    B5_Y_train, B5_Y_test = Y_B5_ten_fold.iloc[B5_train_index], Y_B5_ten_fold.iloc[B_test_index]\n",
    "\n",
    "    B5_ten_fold_cv_SVM.fit(B5_X_train, B5_Y_train)\n",
    "    B5_ten_fold_cv_KNN.fit(B5_X_test, B5_Y_test)\n",
    "\n",
    "    B5_SVM_prediction = B5_ten_fold_cv_SVM.predict(B5_X_test)\n",
    "    B5_KNN_prediction = B5_ten_fold_cv_KNN.predict(B5_X_test)\n",
    "\n",
    "    B5_ten_fold_cv_SVM_metric = count_metric(B5_Y_test, B5_SVM_prediction)\n",
    "    B5_ten_fold_cv_KNN_metric = count_metric(B5_Y_test, B5_KNN_prediction)\n",
    "\n",
    "    B5_tenfold_SVM_metric.append(B5_ten_fold_cv_SVM_metric)\n",
    "    B5_tenfold_KNN_metric.append(B5_ten_fold_cv_KNN_metric)\n",
    "\n",
    "[print(i,score) for i,score in enumerate(B5_tenfold_SVM_metric)]\n",
    "print('\\n')\n",
    "[print(i,score) for i,score in enumerate(B5_tenfold_KNN_metric)]\n",
    "print('\\n')\n",
    "# print(B5_tenfold_KNN_metric)\n"
   ]
  },
  {
   "cell_type": "code",
   "execution_count": 69,
   "metadata": {},
   "outputs": [],
   "source": [
    "B5_SVM_Metric_Average = count_average(B1_tenfold_SVM_metric)\n",
    "B5_KNN_Metric_Average = count_average(B1_tenfold_KNN_metric)\n",
    "add_metric_data('B5', '10_fold', 'SVM', B5_SVM_Metric_Average)\n",
    "add_metric_data('B5', '10_fold', 'KNN', B5_KNN_Metric_Average)"
   ]
  },
  {
   "cell_type": "markdown",
   "metadata": {},
   "source": [
    "#### B5 75% Train and 25% Test Split"
   ]
  },
  {
   "cell_type": "code",
   "execution_count": 70,
   "metadata": {},
   "outputs": [],
   "source": [
    "X_B5_75_25, X_B5_test_75_25, Y_B5_75_25, Y_B5_test_75_25 = seventy_five_twenty_five_split(B5)\n",
    "B5_SVM_75_25 = SVM_model()\n",
    "B5_KNN_75_25 = KNN_model()"
   ]
  },
  {
   "cell_type": "code",
   "execution_count": 71,
   "metadata": {},
   "outputs": [],
   "source": [
    "B5_SVM_75_25.fit(X_B5_75_25, Y_B5_75_25)\n",
    "B5_KNN_75_25.fit(X_B5_75_25, Y_B5_75_25)\n",
    "B5_SVM_75_25_prediction = B5_SVM_75_25.predict(X_B5_test_75_25)\n",
    "B5_KNN_75_25_prediction = B5_KNN_75_25.predict(X_B5_test_75_25)"
   ]
  },
  {
   "cell_type": "code",
   "execution_count": 72,
   "metadata": {},
   "outputs": [
    {
     "name": "stdout",
     "output_type": "stream",
     "text": [
      "[50  0 25  0]\n",
      "[46  4 10 15]\n"
     ]
    }
   ],
   "source": [
    "B5_SVM_75_25_metric = count_metric(Y_B5_test_75_25, B5_SVM_75_25_prediction)\n",
    "B5_KNN_75_25_metric = count_metric(Y_B5_test_75_25, B5_KNN_75_25_prediction)\n",
    "add_metric_data('B5', '75_25', 'SVM', B5_SVM_75_25_metric)\n",
    "add_metric_data('B5', '75_25', 'KNN', B5_KNN_75_25_metric)"
   ]
  },
  {
   "cell_type": "markdown",
   "metadata": {},
   "source": [
    "## B6"
   ]
  },
  {
   "cell_type": "code",
   "execution_count": 73,
   "metadata": {},
   "outputs": [],
   "source": [
    "B6 = load_data('data/CPB6.xlsx')"
   ]
  },
  {
   "cell_type": "markdown",
   "metadata": {},
   "source": [
    "#### B6 10-Fold Cross Validation"
   ]
  },
  {
   "cell_type": "code",
   "execution_count": 74,
   "metadata": {},
   "outputs": [],
   "source": [
    "B6_ten_fold_data = label_convert(B6)"
   ]
  },
  {
   "cell_type": "code",
   "execution_count": 75,
   "metadata": {},
   "outputs": [
    {
     "name": "stdout",
     "output_type": "stream",
     "text": [
      "[16  0 14  0]\n",
      "[16  0  2 12]\n",
      "[22  0  8  0]\n",
      "[22  0  1  7]\n",
      "[25  0  5  0]\n",
      "[25  0  5  0]\n",
      "[20  0 10  0]\n",
      "[20  0  3  7]\n",
      "[24  0  6  0]\n",
      "[24  0  4  2]\n",
      "[18  0 12  0]\n",
      "[18  0  3  9]\n",
      "[16  0 14  0]\n",
      "[16  0  1 13]\n",
      "[17  0 13  0]\n",
      "[17  0  1 12]\n",
      "[20  0 10  0]\n",
      "[20  0  3  7]\n",
      "[22  0  8  0]\n",
      "[22  0  6  2]\n",
      "0 {'accuracy': 0.5333333333333333, 'sensitivity': 0.5, 'specificity': 0.5, 'f1_score': 0.014}\n",
      "1 {'accuracy': 0.7333333333333333, 'sensitivity': 0.5, 'specificity': 0.5, 'f1_score': 0.024}\n",
      "2 {'accuracy': 0.8333333333333334, 'sensitivity': 0.5, 'specificity': 0.5, 'f1_score': 0.038}\n",
      "3 {'accuracy': 0.6666666666666666, 'sensitivity': 0.5, 'specificity': 0.5, 'f1_score': 0.019}\n",
      "4 {'accuracy': 0.8, 'sensitivity': 0.5, 'specificity': 0.5, 'f1_score': 0.032}\n",
      "5 {'accuracy': 0.6, 'sensitivity': 0.5, 'specificity': 0.5, 'f1_score': 0.016}\n",
      "6 {'accuracy': 0.5333333333333333, 'sensitivity': 0.5, 'specificity': 0.5, 'f1_score': 0.014}\n",
      "7 {'accuracy': 0.5666666666666667, 'sensitivity': 0.5, 'specificity': 0.5, 'f1_score': 0.015}\n",
      "8 {'accuracy': 0.6666666666666666, 'sensitivity': 0.5, 'specificity': 0.5, 'f1_score': 0.019}\n",
      "9 {'accuracy': 0.7333333333333333, 'sensitivity': 0.5, 'specificity': 0.5, 'f1_score': 0.024}\n",
      "\n",
      "\n",
      "0 {'accuracy': 0.9333333333333333, 'sensitivity': 0.992, 'specificity': 0.008, 'f1_score': 0.92}\n",
      "1 {'accuracy': 0.9666666666666667, 'sensitivity': 0.986, 'specificity': 0.014, 'f1_score': 0.927}\n",
      "2 {'accuracy': 0.8333333333333334, 'sensitivity': 0.5, 'specificity': 0.5, 'f1_score': 0.038}\n",
      "3 {'accuracy': 0.9, 'sensitivity': 0.986, 'specificity': 0.014, 'f1_score': 0.819}\n",
      "4 {'accuracy': 0.8666666666666667, 'sensitivity': 0.952, 'specificity': 0.048, 'f1_score': 0.494}\n",
      "5 {'accuracy': 0.9, 'sensitivity': 0.989, 'specificity': 0.011, 'f1_score': 0.853}\n",
      "6 {'accuracy': 0.9666666666666667, 'sensitivity': 0.992, 'specificity': 0.008, 'f1_score': 0.959}\n",
      "7 {'accuracy': 0.9666666666666667, 'sensitivity': 0.992, 'specificity': 0.008, 'f1_score': 0.956}\n",
      "8 {'accuracy': 0.9, 'sensitivity': 0.986, 'specificity': 0.014, 'f1_score': 0.819}\n",
      "9 {'accuracy': 0.8, 'sensitivity': 0.952, 'specificity': 0.048, 'f1_score': 0.396}\n",
      "\n",
      "\n"
     ]
    }
   ],
   "source": [
    "X_B6_ten_fold = B6_ten_fold_data.drop('kelas', axis=1)\n",
    "Y_B6_ten_fold = B6_ten_fold_data['kelas']\n",
    "\n",
    "B6_ten_fold_cv_SVM = SVM_model()\n",
    "B6_ten_fold_cv_KNN = KNN_model()\n",
    "\n",
    "from sklearn.model_selection import KFold\n",
    "B6_ten_fold = KFold(n_splits=10, shuffle=True, random_state=42)\n",
    "B6_tenfold_SVM_metric = []\n",
    "B6_tenfold_KNN_metric = []\n",
    "\n",
    "for B6_train_index, B_test_index in B6_ten_fold.split(X_B6_ten_fold):\n",
    "    B6_X_train, B6_X_test = X_B6_ten_fold.iloc[B6_train_index], X_B6_ten_fold.iloc[B_test_index]\n",
    "    B6_Y_train, B6_Y_test = Y_B6_ten_fold.iloc[B6_train_index], Y_B6_ten_fold.iloc[B_test_index]\n",
    "\n",
    "    B6_ten_fold_cv_SVM.fit(B6_X_train, B6_Y_train)\n",
    "    B6_ten_fold_cv_KNN.fit(B6_X_test, B6_Y_test)\n",
    "\n",
    "    B6_SVM_prediction = B6_ten_fold_cv_SVM.predict(B6_X_test)\n",
    "    B6_KNN_prediction = B6_ten_fold_cv_KNN.predict(B6_X_test)\n",
    "\n",
    "    B6_ten_fold_cv_SVM_metric = count_metric(B6_Y_test, B6_SVM_prediction)\n",
    "    B6_ten_fold_cv_KNN_metric = count_metric(B6_Y_test, B6_KNN_prediction)\n",
    "\n",
    "    B6_tenfold_SVM_metric.append(B6_ten_fold_cv_SVM_metric)\n",
    "    B6_tenfold_KNN_metric.append(B6_ten_fold_cv_KNN_metric)\n",
    "\n",
    "[print(i,score) for i,score in enumerate(B6_tenfold_SVM_metric)]\n",
    "print('\\n')\n",
    "[print(i,score) for i,score in enumerate(B6_tenfold_KNN_metric)]\n",
    "print('\\n')\n",
    "# print(B6_tenfold_KNN_metric)\n"
   ]
  },
  {
   "cell_type": "code",
   "execution_count": 76,
   "metadata": {},
   "outputs": [],
   "source": [
    "B6_SVM_Metric_Average = count_average(B6_tenfold_SVM_metric)\n",
    "B6_KNN_Metric_Average = count_average(B6_tenfold_KNN_metric)\n",
    "add_metric_data('B6', '10_fold', 'SVM', B6_SVM_Metric_Average)\n",
    "add_metric_data('B6', '10_fold', 'KNN', B6_KNN_Metric_Average)"
   ]
  },
  {
   "cell_type": "markdown",
   "metadata": {},
   "source": [
    "#### B6 75% Train and 25% Test Split"
   ]
  },
  {
   "cell_type": "code",
   "execution_count": 77,
   "metadata": {},
   "outputs": [],
   "source": [
    "X_B6_75_25, X_B6_test_75_25, Y_B6_75_25, Y_B6_test_75_25 = seventy_five_twenty_five_split(B6)\n",
    "B6_SVM_75_25 = SVM_model()\n",
    "B6_KNN_75_25 = KNN_model()"
   ]
  },
  {
   "cell_type": "code",
   "execution_count": 78,
   "metadata": {},
   "outputs": [],
   "source": [
    "B6_SVM_75_25.fit(X_B6_75_25, Y_B6_75_25)\n",
    "B6_KNN_75_25.fit(X_B6_75_25, Y_B6_75_25)\n",
    "B6_SVM_75_25_prediction = B6_SVM_75_25.predict(X_B6_test_75_25)\n",
    "B6_KNN_75_25_prediction = B6_KNN_75_25.predict(X_B6_test_75_25)"
   ]
  },
  {
   "cell_type": "code",
   "execution_count": 79,
   "metadata": {},
   "outputs": [
    {
     "name": "stdout",
     "output_type": "stream",
     "text": [
      "[50  0 25  0]\n",
      "[46  4  7 18]\n"
     ]
    }
   ],
   "source": [
    "B6_SVM_75_25_metric = count_metric(Y_B6_test_75_25, B6_SVM_75_25_prediction)\n",
    "B6_KNN_75_25_metric = count_metric(Y_B6_test_75_25, B6_KNN_75_25_prediction)\n",
    "add_metric_data('B6', '75_25', 'SVM', B6_SVM_75_25_metric)\n",
    "add_metric_data('B6', '75_25', 'KNN', B6_KNN_75_25_metric)"
   ]
  },
  {
   "cell_type": "markdown",
   "metadata": {},
   "source": [
    "## B7"
   ]
  },
  {
   "cell_type": "code",
   "execution_count": 80,
   "metadata": {},
   "outputs": [],
   "source": [
    "B7 = load_data('data/CPB7.xlsx')"
   ]
  },
  {
   "cell_type": "markdown",
   "metadata": {},
   "source": [
    "#### B7 10-Fold Cross Validation"
   ]
  },
  {
   "cell_type": "code",
   "execution_count": 81,
   "metadata": {},
   "outputs": [],
   "source": [
    "B7_ten_fold_data = label_convert(B7)"
   ]
  },
  {
   "cell_type": "code",
   "execution_count": 82,
   "metadata": {},
   "outputs": [
    {
     "name": "stdout",
     "output_type": "stream",
     "text": [
      "[ 0 21  0 19]\n",
      "[21  0  2 17]\n",
      "[ 0 23  0 17]\n",
      "[23  0  6 11]\n",
      "[18  0 22  0]\n",
      "[18  0  3 19]\n",
      "[ 0 23  0 17]\n",
      "[23  0  2 15]\n",
      "[ 0 22  0 18]\n",
      "[22  0  1 17]\n",
      "[17  0 23  0]\n",
      "[17  0  4 19]\n",
      "[ 0 21  0 19]\n",
      "[21  0  5 14]\n",
      "[18  0 22  0]\n",
      "[18  0  1 21]\n",
      "[15  0 25  0]\n",
      "[15  0  5 20]\n",
      "[ 0 22  0 18]\n",
      "[22  0  4 14]\n",
      "0 {'accuracy': 0.475, 'sensitivity': 0.475, 'specificity': 0.525, 'f1_score': 0.643}\n",
      "1 {'accuracy': 0.425, 'sensitivity': 0.425, 'specificity': 0.575, 'f1_score': 0.595}\n",
      "2 {'accuracy': 0.45, 'sensitivity': 0.5, 'specificity': 0.5, 'f1_score': 0.009}\n",
      "3 {'accuracy': 0.425, 'sensitivity': 0.425, 'specificity': 0.575, 'f1_score': 0.595}\n",
      "4 {'accuracy': 0.45, 'sensitivity': 0.45, 'specificity': 0.55, 'f1_score': 0.62}\n",
      "5 {'accuracy': 0.425, 'sensitivity': 0.5, 'specificity': 0.5, 'f1_score': 0.009}\n",
      "6 {'accuracy': 0.475, 'sensitivity': 0.475, 'specificity': 0.525, 'f1_score': 0.643}\n",
      "7 {'accuracy': 0.45, 'sensitivity': 0.5, 'specificity': 0.5, 'f1_score': 0.009}\n",
      "8 {'accuracy': 0.375, 'sensitivity': 0.5, 'specificity': 0.5, 'f1_score': 0.008}\n",
      "9 {'accuracy': 0.45, 'sensitivity': 0.45, 'specificity': 0.55, 'f1_score': 0.62}\n",
      "\n",
      "\n",
      "0 {'accuracy': 0.95, 'sensitivity': 0.994, 'specificity': 0.006, 'f1_score': 0.942}\n",
      "1 {'accuracy': 0.85, 'sensitivity': 0.991, 'specificity': 0.009, 'f1_score': 0.783}\n",
      "2 {'accuracy': 0.925, 'sensitivity': 0.995, 'specificity': 0.005, 'f1_score': 0.925}\n",
      "3 {'accuracy': 0.95, 'sensitivity': 0.993, 'specificity': 0.007, 'f1_score': 0.935}\n",
      "4 {'accuracy': 0.975, 'sensitivity': 0.994, 'specificity': 0.006, 'f1_score': 0.969}\n",
      "5 {'accuracy': 0.9, 'sensitivity': 0.995, 'specificity': 0.005, 'f1_score': 0.903}\n",
      "6 {'accuracy': 0.875, 'sensitivity': 0.993, 'specificity': 0.007, 'f1_score': 0.846}\n",
      "7 {'accuracy': 0.975, 'sensitivity': 0.995, 'specificity': 0.005, 'f1_score': 0.974}\n",
      "8 {'accuracy': 0.875, 'sensitivity': 0.995, 'specificity': 0.005, 'f1_score': 0.887}\n",
      "9 {'accuracy': 0.9, 'sensitivity': 0.993, 'specificity': 0.007, 'f1_score': 0.872}\n",
      "\n",
      "\n"
     ]
    }
   ],
   "source": [
    "X_B7_ten_fold = B7_ten_fold_data.drop('kelas', axis=1)\n",
    "Y_B7_ten_fold = B7_ten_fold_data['kelas']\n",
    "\n",
    "B7_ten_fold_cv_SVM = SVM_model()\n",
    "B7_ten_fold_cv_KNN = KNN_model()\n",
    "\n",
    "from sklearn.model_selection import KFold\n",
    "B7_ten_fold = KFold(n_splits=10, shuffle=True, random_state=42)\n",
    "B7_tenfold_SVM_metric = []\n",
    "B7_tenfold_KNN_metric = []\n",
    "\n",
    "for B7_train_index, B_test_index in B7_ten_fold.split(X_B7_ten_fold):\n",
    "    B7_X_train, B7_X_test = X_B7_ten_fold.iloc[B7_train_index], X_B7_ten_fold.iloc[B_test_index]\n",
    "    B7_Y_train, B7_Y_test = Y_B7_ten_fold.iloc[B7_train_index], Y_B7_ten_fold.iloc[B_test_index]\n",
    "\n",
    "    B7_ten_fold_cv_SVM.fit(B7_X_train, B7_Y_train)\n",
    "    B7_ten_fold_cv_KNN.fit(B7_X_test, B7_Y_test)\n",
    "\n",
    "    B7_SVM_prediction = B7_ten_fold_cv_SVM.predict(B7_X_test)\n",
    "    B7_KNN_prediction = B7_ten_fold_cv_KNN.predict(B7_X_test)\n",
    "\n",
    "    B7_ten_fold_cv_SVM_metric = count_metric(B7_Y_test, B7_SVM_prediction)\n",
    "    B7_ten_fold_cv_KNN_metric = count_metric(B7_Y_test, B7_KNN_prediction)\n",
    "\n",
    "    B7_tenfold_SVM_metric.append(B7_ten_fold_cv_SVM_metric)\n",
    "    B7_tenfold_KNN_metric.append(B7_ten_fold_cv_KNN_metric)\n",
    "\n",
    "[print(i,score) for i,score in enumerate(B7_tenfold_SVM_metric)]\n",
    "print('\\n')\n",
    "[print(i,score) for i,score in enumerate(B7_tenfold_KNN_metric)]\n",
    "print('\\n')\n",
    "# print(B7_tenfold_KNN_metric)\n"
   ]
  },
  {
   "cell_type": "code",
   "execution_count": 83,
   "metadata": {},
   "outputs": [],
   "source": [
    "B7_SVM_Metric_Average = count_average(B7_tenfold_SVM_metric)\n",
    "B7_KNN_Metric_Average = count_average(B7_tenfold_KNN_metric)\n",
    "add_metric_data('B7', '10_fold', 'SVM', B7_SVM_Metric_Average)\n",
    "add_metric_data('B7', '10_fold', 'KNN', B7_KNN_Metric_Average)"
   ]
  },
  {
   "cell_type": "markdown",
   "metadata": {},
   "source": [
    "#### B7 75% Train and 25% Test Split"
   ]
  },
  {
   "cell_type": "code",
   "execution_count": 84,
   "metadata": {},
   "outputs": [],
   "source": [
    "X_B7_75_25, X_B7_test_75_25, Y_B7_75_25, Y_B7_test_75_25 = seventy_five_twenty_five_split(B7)\n",
    "B7_SVM_75_25 = SVM_model()\n",
    "B7_KNN_75_25 = KNN_model()"
   ]
  },
  {
   "cell_type": "code",
   "execution_count": 85,
   "metadata": {},
   "outputs": [],
   "source": [
    "B7_SVM_75_25.fit(X_B7_75_25, Y_B7_75_25)\n",
    "B7_KNN_75_25.fit(X_B7_75_25, Y_B7_75_25)\n",
    "B7_SVM_75_25_prediction = B7_SVM_75_25.predict(X_B7_test_75_25)\n",
    "B7_KNN_75_25_prediction = B7_KNN_75_25.predict(X_B7_test_75_25)"
   ]
  },
  {
   "cell_type": "code",
   "execution_count": 86,
   "metadata": {},
   "outputs": [
    {
     "name": "stdout",
     "output_type": "stream",
     "text": [
      "[ 0 52  0 48]\n",
      "[46  6 13 35]\n"
     ]
    }
   ],
   "source": [
    "B7_SVM_75_25_metric = count_metric(Y_B7_test_75_25, B7_SVM_75_25_prediction)\n",
    "B7_KNN_75_25_metric = count_metric(Y_B7_test_75_25, B7_KNN_75_25_prediction)\n",
    "add_metric_data('B7', '75_25', 'SVM', B7_SVM_75_25_metric)\n",
    "add_metric_data('B7', '75_25', 'KNN', B7_KNN_75_25_metric)"
   ]
  },
  {
   "cell_type": "markdown",
   "metadata": {},
   "source": [
    "# Final analysis from all data and scenario"
   ]
  },
  {
   "cell_type": "code",
   "execution_count": 87,
   "metadata": {},
   "outputs": [],
   "source": [
    "export_to_json()"
   ]
  },
  {
   "cell_type": "code",
   "execution_count": 4,
   "metadata": {},
   "outputs": [],
   "source": [
    "import json\n",
    "\n",
    "with open('metric_result.json') as f:\n",
    "    import_metric_data = json.load(f)"
   ]
  },
  {
   "cell_type": "code",
   "execution_count": 8,
   "metadata": {},
   "outputs": [],
   "source": [
    "import matplotlib.pyplot as plt\n",
    "import numpy as np"
   ]
  },
  {
   "cell_type": "code",
   "execution_count": 5,
   "metadata": {},
   "outputs": [
    {
     "data": {
      "text/plain": [
       "dict_keys(['A1', 'A2', 'A3', 'B1', 'B2', 'B3', 'B4', 'B5', 'B6', 'B7'])"
      ]
     },
     "execution_count": 5,
     "metadata": {},
     "output_type": "execute_result"
    }
   ],
   "source": [
    "import_metric_data.keys()"
   ]
  },
  {
   "cell_type": "code",
   "execution_count": 6,
   "metadata": {},
   "outputs": [
    {
     "ename": "TypeError",
     "evalue": "dict.keys() takes no arguments (1 given)",
     "output_type": "error",
     "traceback": [
      "\u001b[0;31m---------------------------------------------------------------------------\u001b[0m",
      "\u001b[0;31mTypeError\u001b[0m                                 Traceback (most recent call last)",
      "Cell \u001b[0;32mIn[6], line 2\u001b[0m\n\u001b[1;32m      1\u001b[0m \u001b[38;5;66;03m# separate A and B\u001b[39;00m\n\u001b[0;32m----> 2\u001b[0m A_metric_data \u001b[38;5;241m=\u001b[39m \u001b[43mimport_metric_data\u001b[49m\u001b[38;5;241;43m.\u001b[39;49m\u001b[43mkeys\u001b[49m\u001b[43m(\u001b[49m\u001b[38;5;124;43m'\u001b[39;49m\u001b[38;5;124;43mA1\u001b[39;49m\u001b[38;5;124;43m'\u001b[39;49m\u001b[43m)\u001b[49m\n",
      "\u001b[0;31mTypeError\u001b[0m: dict.keys() takes no arguments (1 given)"
     ]
    }
   ],
   "source": [
    "# separate A and B\n",
    "A_metric_data = import_metrics_data"
   ]
  },
  {
   "cell_type": "code",
   "execution_count": null,
   "metadata": {},
   "outputs": [],
   "source": [
    "plt.style.use('default')\n",
    "data = [[ 0.475, 0.775,  0.46, 0.74],\n",
    "        [ 0.505, 0.835,  0.46,  0.76],\n",
    "        [ 0.667,  0.837, 0.666, 0.746],\n",
    "]\n",
    "\n",
    "columns = ('10-Fold SVM', '10-Fold KNN', '75% 25% SVM', '75% 25% KNN')\n",
    "rows = ['A1','A2','A3']\n",
    "\n",
    "\n",
    "\n",
    "# Get some pastel shades for the colors\n",
    "n_rows = len(data)\n",
    "\n",
    "index = np.arange(len(columns)) + 0.3\n",
    "bar_width = 0.4\n",
    "\n",
    "# Initialize the vertical-offset for the stacked bar chart.\n",
    "y_offset = np.zeros(len(columns))\n",
    "\n",
    "# Plot bars and create text labels for the table\n",
    "cell_text = []\n",
    "for row in range(n_rows):\n",
    "    plt.bar(index, data[row], bar_width, bottom=y_offset)\n",
    "    y_offset = y_offset + data[row]\n",
    "    cell_text.append(['%1.1f' % (x / 1000.0) for x in y_offset])\n",
    "# Reverse colors and text labels to display the last value at the top.\n",
    "cell_text.reverse()\n",
    "\n",
    "# Add a table at the bottom of the axes\n",
    "the_table = plt.table(cellText=cell_text,\n",
    "                      rowLabels=rows,\n",
    "                      colLabels=columns,\n",
    "                      loc='bottom')\n",
    "\n",
    "# Adjust layout to make room for the table:\n",
    "plt.subplots_adjust(left=0.2, bottom=0.2)\n",
    "\n",
    "plt.yticks(data)\n",
    "plt.xticks([])\n",
    "plt.title('Accuracy Score')\n",
    "\n",
    "plt.show()"
   ]
  },
  {
   "cell_type": "code",
   "execution_count": 31,
   "metadata": {},
   "outputs": [
    {
     "data": {
      "image/png": "[encoded data removed]",
      "text/plain": [
       "<Figure size 600x300 with 1 Axes>"
      ]
     },
     "metadata": {},
     "output_type": "display_data"
    }
   ],
   "source": [
    "title_text = 'A file Accuracy Metric'\n",
    "footer_text = '28 April 2024'\n",
    "fig_background_color = 'white'\n",
    "fig_border = 'steelblue'\n",
    "data =  [\n",
    "            ['10-Fold SVM', '10-Fold KNN', '75% 25% SVM', '75% 25% KNN'],\n",
    "            ['A1', 0.475, 0.775,  0.46, 0.74],\n",
    "            ['A2', 0.505, 0.835,  0.46,  0.76],\n",
    "            ['A3', 0.667,  0.837, 0.666, 0.746]\n",
    "        ]\n",
    "column_headers = data.pop(0)\n",
    "row_headers = [x.pop(0) for x in data]\n",
    "# Table data needs to be non-numeric text. Format the data\n",
    "# while I'm at it.\n",
    "cell_text = []\n",
    "for row in data:\n",
    "    cell_text.append([f'{x:1.3f}' for x in row])\n",
    "# Get some lists of color specs for row and column headers\n",
    "rcolors = plt.cm.BuPu(np.full(len(row_headers), 0.1))\n",
    "ccolors = plt.cm.BuPu(np.full(len(column_headers), 0.1))\n",
    "# Create the figure. Setting a small pad on tight_layout\n",
    "# seems to better regulate white space. Sometimes experimenting\n",
    "# with an explicit figsize here can produce better outcome.\n",
    "plt.figure(linewidth=2,\n",
    "           edgecolor=fig_border,\n",
    "           facecolor=fig_background_color,\n",
    "           tight_layout={'pad':1},\n",
    "           figsize=(6,3)\n",
    "          )\n",
    "# Add a table at the bottom of the axes\n",
    "the_table = plt.table(cellText=cell_text,\n",
    "                      rowLabels=row_headers,\n",
    "                      rowColours=rcolors,\n",
    "                      rowLoc='right',\n",
    "                      colColours=ccolors,\n",
    "                      colLabels=column_headers,\n",
    "                      loc='center')\n",
    "# Scaling is the only influence we have over top and bottom cell padding.\n",
    "# Make the rows taller (i.e., make cell y scale larger).\n",
    "the_table.scale(1, 2)\n",
    "# Hide axes\n",
    "ax = plt.gca()\n",
    "ax.get_xaxis().set_visible(False)\n",
    "ax.get_yaxis().set_visible(False)\n",
    "# Hide axes border\n",
    "plt.box(on=None)\n",
    "# Add title\n",
    "plt.suptitle(title_text)\n",
    "# Add footer\n",
    "plt.figtext(0.95, 0.05, footer_text, horizontalalignment='right', size=10, weight='light')\n",
    "# Force the figure to update, so backends center objects correctly within the figure.\n",
    "# Without plt.draw() here, the title will center on the axes and not the figure.\n",
    "plt.draw()\n",
    "# Create image. plt.savefig ignores figure edge and face colors, so map them.\n",
    "fig = plt.gcf()\n",
    "plt.savefig('Data A.png',\n",
    "            edgecolor=fig.get_edgecolor(),\n",
    "            facecolor=fig.get_facecolor(),\n",
    "            dpi=300\n",
    "            )"
   ]
  }
 ],
 "metadata": {
  "kernelspec": {
   "display_name": "Python 3",
   "language": "python",
   "name": "python3"
  },
  "language_info": {
   "codemirror_mode": {
    "name": "ipython",
    "version": 3
   },
   "file_extension": ".py",
   "mimetype": "text/x-python",
   "name": "python",
   "nbconvert_exporter": "python",
   "pygments_lexer": "ipython3",
   "version": "3.10.12"
  }
 },
 "nbformat": 4,
 "nbformat_minor": 2
}
