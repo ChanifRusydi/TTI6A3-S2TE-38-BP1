{
 "cells": [
  {
   "cell_type": "markdown",
   "metadata": {},
   "source": [
    "In this notebook, would have 6 scenarios to solve the problem. Generally differentiate by the use of the data\n",
    "1. Combining all the A1, A2, A3 into one dataframe and combining all the B1, B2, B3, B4, B5,B7 into another dataframe.\n",
    "2. Combining all the A1, A2, A3 and B1, B2, B3, B4, B5,B7 into one dataframe.\\\n",
    "Each of the above data scenario would have 3 scenarios to train\n",
    "   1. Using 10-fold cross validation\n",
    "   2. Using 75% train and 25% test split\n",
    "   3. Using 50% train and 25% validation and 25% test split\\"
   ]
  },
  {
   "cell_type": "markdown",
   "metadata": {},
   "source": [
    "# Data Loading and Preprocessing"
   ]
  },
  {
   "cell_type": "code",
   "execution_count": 1,
   "metadata": {},
   "outputs": [],
   "source": [
    "import pandas as pd"
   ]
  },
  {
   "cell_type": "code",
   "execution_count": 2,
   "metadata": {},
   "outputs": [],
   "source": [
    "A1 = pd.read_excel('data/CPA1.xlsx')\n",
    "A2 = pd.read_excel('data/CPA2.xlsx')\n",
    "A3 = pd.read_excel('data/CPA3.xlsx')"
   ]
  },
  {
   "cell_type": "code",
   "execution_count": 3,
   "metadata": {},
   "outputs": [
    {
     "data": {
      "text/html": [
       "<div>\n",
       "<style scoped>\n",
       "    .dataframe tbody tr th:only-of-type {\n",
       "        vertical-align: middle;\n",
       "    }\n",
       "\n",
       "    .dataframe tbody tr th {\n",
       "        vertical-align: top;\n",
       "    }\n",
       "\n",
       "    .dataframe thead th {\n",
       "        text-align: right;\n",
       "    }\n",
       "</style>\n",
       "<table border=\"1\" class=\"dataframe\">\n",
       "  <thead>\n",
       "    <tr style=\"text-align: right;\">\n",
       "      <th></th>\n",
       "      <th>powLv1</th>\n",
       "      <th>powLv2</th>\n",
       "      <th>powLv3</th>\n",
       "      <th>powLv4</th>\n",
       "      <th>powLv5</th>\n",
       "      <th>kelas</th>\n",
       "    </tr>\n",
       "  </thead>\n",
       "  <tbody>\n",
       "    <tr>\n",
       "      <th>0</th>\n",
       "      <td>0.446692</td>\n",
       "      <td>0.220117</td>\n",
       "      <td>0.144672</td>\n",
       "      <td>0.106003</td>\n",
       "      <td>0.082516</td>\n",
       "      <td>A</td>\n",
       "    </tr>\n",
       "    <tr>\n",
       "      <th>1</th>\n",
       "      <td>0.442455</td>\n",
       "      <td>0.219658</td>\n",
       "      <td>0.145039</td>\n",
       "      <td>0.107494</td>\n",
       "      <td>0.085354</td>\n",
       "      <td>A</td>\n",
       "    </tr>\n",
       "    <tr>\n",
       "      <th>2</th>\n",
       "      <td>0.446993</td>\n",
       "      <td>0.220535</td>\n",
       "      <td>0.144443</td>\n",
       "      <td>0.105565</td>\n",
       "      <td>0.082465</td>\n",
       "      <td>A</td>\n",
       "    </tr>\n",
       "    <tr>\n",
       "      <th>3</th>\n",
       "      <td>0.457090</td>\n",
       "      <td>0.221898</td>\n",
       "      <td>0.141954</td>\n",
       "      <td>0.101666</td>\n",
       "      <td>0.077392</td>\n",
       "      <td>A</td>\n",
       "    </tr>\n",
       "    <tr>\n",
       "      <th>4</th>\n",
       "      <td>0.447407</td>\n",
       "      <td>0.220674</td>\n",
       "      <td>0.143812</td>\n",
       "      <td>0.105975</td>\n",
       "      <td>0.082134</td>\n",
       "      <td>A</td>\n",
       "    </tr>\n",
       "  </tbody>\n",
       "</table>\n",
       "</div>"
      ],
      "text/plain": [
       "     powLv1    powLv2    powLv3    powLv4    powLv5 kelas\n",
       "0  0.446692  0.220117  0.144672  0.106003  0.082516     A\n",
       "1  0.442455  0.219658  0.145039  0.107494  0.085354     A\n",
       "2  0.446993  0.220535  0.144443  0.105565  0.082465     A\n",
       "3  0.457090  0.221898  0.141954  0.101666  0.077392     A\n",
       "4  0.447407  0.220674  0.143812  0.105975  0.082134     A"
      ]
     },
     "execution_count": 3,
     "metadata": {},
     "output_type": "execute_result"
    }
   ],
   "source": [
    "A1.head()"
   ]
  },
  {
   "cell_type": "code",
   "execution_count": 4,
   "metadata": {},
   "outputs": [
    {
     "data": {
      "text/html": [
       "<div>\n",
       "<style scoped>\n",
       "    .dataframe tbody tr th:only-of-type {\n",
       "        vertical-align: middle;\n",
       "    }\n",
       "\n",
       "    .dataframe tbody tr th {\n",
       "        vertical-align: top;\n",
       "    }\n",
       "\n",
       "    .dataframe thead th {\n",
       "        text-align: right;\n",
       "    }\n",
       "</style>\n",
       "<table border=\"1\" class=\"dataframe\">\n",
       "  <thead>\n",
       "    <tr style=\"text-align: right;\">\n",
       "      <th></th>\n",
       "      <th>powLv1</th>\n",
       "      <th>powLv2</th>\n",
       "      <th>powLv3</th>\n",
       "      <th>powLv4</th>\n",
       "      <th>powLv5</th>\n",
       "      <th>kelas</th>\n",
       "    </tr>\n",
       "  </thead>\n",
       "  <tbody>\n",
       "    <tr>\n",
       "      <th>0</th>\n",
       "      <td>0.448457</td>\n",
       "      <td>0.220860</td>\n",
       "      <td>0.143938</td>\n",
       "      <td>0.104903</td>\n",
       "      <td>0.081841</td>\n",
       "      <td>B</td>\n",
       "    </tr>\n",
       "    <tr>\n",
       "      <th>1</th>\n",
       "      <td>0.448288</td>\n",
       "      <td>0.221315</td>\n",
       "      <td>0.144335</td>\n",
       "      <td>0.104964</td>\n",
       "      <td>0.081099</td>\n",
       "      <td>B</td>\n",
       "    </tr>\n",
       "    <tr>\n",
       "      <th>2</th>\n",
       "      <td>0.448916</td>\n",
       "      <td>0.221049</td>\n",
       "      <td>0.143741</td>\n",
       "      <td>0.105198</td>\n",
       "      <td>0.081096</td>\n",
       "      <td>B</td>\n",
       "    </tr>\n",
       "    <tr>\n",
       "      <th>3</th>\n",
       "      <td>0.449600</td>\n",
       "      <td>0.221141</td>\n",
       "      <td>0.144107</td>\n",
       "      <td>0.104930</td>\n",
       "      <td>0.080222</td>\n",
       "      <td>B</td>\n",
       "    </tr>\n",
       "    <tr>\n",
       "      <th>4</th>\n",
       "      <td>0.451886</td>\n",
       "      <td>0.221594</td>\n",
       "      <td>0.143987</td>\n",
       "      <td>0.103718</td>\n",
       "      <td>0.078816</td>\n",
       "      <td>B</td>\n",
       "    </tr>\n",
       "  </tbody>\n",
       "</table>\n",
       "</div>"
      ],
      "text/plain": [
       "     powLv1    powLv2    powLv3    powLv4    powLv5 kelas\n",
       "0  0.448457  0.220860  0.143938  0.104903  0.081841     B\n",
       "1  0.448288  0.221315  0.144335  0.104964  0.081099     B\n",
       "2  0.448916  0.221049  0.143741  0.105198  0.081096     B\n",
       "3  0.449600  0.221141  0.144107  0.104930  0.080222     B\n",
       "4  0.451886  0.221594  0.143987  0.103718  0.078816     B"
      ]
     },
     "execution_count": 4,
     "metadata": {},
     "output_type": "execute_result"
    }
   ],
   "source": [
    "A2.head()"
   ]
  },
  {
   "cell_type": "code",
   "execution_count": 5,
   "metadata": {},
   "outputs": [
    {
     "data": {
      "text/html": [
       "<div>\n",
       "<style scoped>\n",
       "    .dataframe tbody tr th:only-of-type {\n",
       "        vertical-align: middle;\n",
       "    }\n",
       "\n",
       "    .dataframe tbody tr th {\n",
       "        vertical-align: top;\n",
       "    }\n",
       "\n",
       "    .dataframe thead th {\n",
       "        text-align: right;\n",
       "    }\n",
       "</style>\n",
       "<table border=\"1\" class=\"dataframe\">\n",
       "  <thead>\n",
       "    <tr style=\"text-align: right;\">\n",
       "      <th></th>\n",
       "      <th>powLv1</th>\n",
       "      <th>powLv2</th>\n",
       "      <th>powLv3</th>\n",
       "      <th>powLv4</th>\n",
       "      <th>powLv5</th>\n",
       "      <th>kelas</th>\n",
       "    </tr>\n",
       "  </thead>\n",
       "  <tbody>\n",
       "    <tr>\n",
       "      <th>0</th>\n",
       "      <td>0.446692</td>\n",
       "      <td>0.220117</td>\n",
       "      <td>0.144672</td>\n",
       "      <td>0.106003</td>\n",
       "      <td>0.082516</td>\n",
       "      <td>A</td>\n",
       "    </tr>\n",
       "    <tr>\n",
       "      <th>1</th>\n",
       "      <td>0.442455</td>\n",
       "      <td>0.219658</td>\n",
       "      <td>0.145039</td>\n",
       "      <td>0.107494</td>\n",
       "      <td>0.085354</td>\n",
       "      <td>A</td>\n",
       "    </tr>\n",
       "    <tr>\n",
       "      <th>2</th>\n",
       "      <td>0.446993</td>\n",
       "      <td>0.220535</td>\n",
       "      <td>0.144443</td>\n",
       "      <td>0.105565</td>\n",
       "      <td>0.082465</td>\n",
       "      <td>A</td>\n",
       "    </tr>\n",
       "    <tr>\n",
       "      <th>3</th>\n",
       "      <td>0.457090</td>\n",
       "      <td>0.221898</td>\n",
       "      <td>0.141954</td>\n",
       "      <td>0.101666</td>\n",
       "      <td>0.077392</td>\n",
       "      <td>A</td>\n",
       "    </tr>\n",
       "    <tr>\n",
       "      <th>4</th>\n",
       "      <td>0.447407</td>\n",
       "      <td>0.220674</td>\n",
       "      <td>0.143812</td>\n",
       "      <td>0.105975</td>\n",
       "      <td>0.082134</td>\n",
       "      <td>A</td>\n",
       "    </tr>\n",
       "  </tbody>\n",
       "</table>\n",
       "</div>"
      ],
      "text/plain": [
       "     powLv1    powLv2    powLv3    powLv4    powLv5 kelas\n",
       "0  0.446692  0.220117  0.144672  0.106003  0.082516     A\n",
       "1  0.442455  0.219658  0.145039  0.107494  0.085354     A\n",
       "2  0.446993  0.220535  0.144443  0.105565  0.082465     A\n",
       "3  0.457090  0.221898  0.141954  0.101666  0.077392     A\n",
       "4  0.447407  0.220674  0.143812  0.105975  0.082134     A"
      ]
     },
     "execution_count": 5,
     "metadata": {},
     "output_type": "execute_result"
    }
   ],
   "source": [
    "A3.head()"
   ]
  },
  {
   "cell_type": "code",
   "execution_count": 6,
   "metadata": {},
   "outputs": [
    {
     "name": "stdout",
     "output_type": "stream",
     "text": [
      "kelas\n",
      "A    100\n",
      "E    100\n",
      "Name: count, dtype: int64\n",
      "kelas\n",
      "B    100\n",
      "E    100\n",
      "Name: count, dtype: int64\n",
      "kelas\n",
      "A    200\n",
      "E    100\n",
      "Name: count, dtype: int64\n"
     ]
    }
   ],
   "source": [
    "#count the number of class in the file\n",
    "A1_counts = A1['kelas'].value_counts()\n",
    "A2_counts = A2['kelas'].value_counts()\n",
    "A3_counts = A3['kelas'].value_counts()\n",
    "print(A1_counts)\n",
    "print(A2_counts)\n",
    "print(A3_counts)"
   ]
  },
  {
   "cell_type": "code",
   "execution_count": 7,
   "metadata": {},
   "outputs": [],
   "source": [
    "B1 = pd.read_excel('data/CPB1.xlsx')\n",
    "B2 = pd.read_excel('data/CPB2.xlsx')\n",
    "B3 = pd.read_excel('data/CPB3.xlsx')\n",
    "B4 = pd.read_excel('data/CPB4.xlsx')\n",
    "B5 = pd.read_excel('data/CPB5.xlsx')\n",
    "B6 = pd.read_excel('data/CPB6.xlsx')\n",
    "B7 = pd.read_excel('data/CPB7.xlsx')"
   ]
  },
  {
   "cell_type": "code",
   "execution_count": 8,
   "metadata": {},
   "outputs": [
    {
     "data": {
      "text/html": [
       "<div>\n",
       "<style scoped>\n",
       "    .dataframe tbody tr th:only-of-type {\n",
       "        vertical-align: middle;\n",
       "    }\n",
       "\n",
       "    .dataframe tbody tr th {\n",
       "        vertical-align: top;\n",
       "    }\n",
       "\n",
       "    .dataframe thead th {\n",
       "        text-align: right;\n",
       "    }\n",
       "</style>\n",
       "<table border=\"1\" class=\"dataframe\">\n",
       "  <thead>\n",
       "    <tr style=\"text-align: right;\">\n",
       "      <th></th>\n",
       "      <th>powLv1</th>\n",
       "      <th>powLv2</th>\n",
       "      <th>powLv3</th>\n",
       "      <th>powLv4</th>\n",
       "      <th>powLv5</th>\n",
       "      <th>kelas</th>\n",
       "    </tr>\n",
       "  </thead>\n",
       "  <tbody>\n",
       "    <tr>\n",
       "      <th>0</th>\n",
       "      <td>0.446692</td>\n",
       "      <td>0.220117</td>\n",
       "      <td>0.144672</td>\n",
       "      <td>0.106003</td>\n",
       "      <td>0.082516</td>\n",
       "      <td>A</td>\n",
       "    </tr>\n",
       "    <tr>\n",
       "      <th>1</th>\n",
       "      <td>0.442455</td>\n",
       "      <td>0.219658</td>\n",
       "      <td>0.145039</td>\n",
       "      <td>0.107494</td>\n",
       "      <td>0.085354</td>\n",
       "      <td>A</td>\n",
       "    </tr>\n",
       "    <tr>\n",
       "      <th>2</th>\n",
       "      <td>0.446993</td>\n",
       "      <td>0.220535</td>\n",
       "      <td>0.144443</td>\n",
       "      <td>0.105565</td>\n",
       "      <td>0.082465</td>\n",
       "      <td>A</td>\n",
       "    </tr>\n",
       "    <tr>\n",
       "      <th>3</th>\n",
       "      <td>0.457090</td>\n",
       "      <td>0.221898</td>\n",
       "      <td>0.141954</td>\n",
       "      <td>0.101666</td>\n",
       "      <td>0.077392</td>\n",
       "      <td>A</td>\n",
       "    </tr>\n",
       "    <tr>\n",
       "      <th>4</th>\n",
       "      <td>0.447407</td>\n",
       "      <td>0.220674</td>\n",
       "      <td>0.143812</td>\n",
       "      <td>0.105975</td>\n",
       "      <td>0.082134</td>\n",
       "      <td>A</td>\n",
       "    </tr>\n",
       "  </tbody>\n",
       "</table>\n",
       "</div>"
      ],
      "text/plain": [
       "     powLv1    powLv2    powLv3    powLv4    powLv5 kelas\n",
       "0  0.446692  0.220117  0.144672  0.106003  0.082516     A\n",
       "1  0.442455  0.219658  0.145039  0.107494  0.085354     A\n",
       "2  0.446993  0.220535  0.144443  0.105565  0.082465     A\n",
       "3  0.457090  0.221898  0.141954  0.101666  0.077392     A\n",
       "4  0.447407  0.220674  0.143812  0.105975  0.082134     A"
      ]
     },
     "execution_count": 8,
     "metadata": {},
     "output_type": "execute_result"
    }
   ],
   "source": [
    "B1.head()"
   ]
  },
  {
   "cell_type": "code",
   "execution_count": 9,
   "metadata": {},
   "outputs": [
    {
     "data": {
      "text/html": [
       "<div>\n",
       "<style scoped>\n",
       "    .dataframe tbody tr th:only-of-type {\n",
       "        vertical-align: middle;\n",
       "    }\n",
       "\n",
       "    .dataframe tbody tr th {\n",
       "        vertical-align: top;\n",
       "    }\n",
       "\n",
       "    .dataframe thead th {\n",
       "        text-align: right;\n",
       "    }\n",
       "</style>\n",
       "<table border=\"1\" class=\"dataframe\">\n",
       "  <thead>\n",
       "    <tr style=\"text-align: right;\">\n",
       "      <th></th>\n",
       "      <th>powLv1</th>\n",
       "      <th>powLv2</th>\n",
       "      <th>powLv3</th>\n",
       "      <th>powLv4</th>\n",
       "      <th>powLv5</th>\n",
       "      <th>kelas</th>\n",
       "    </tr>\n",
       "  </thead>\n",
       "  <tbody>\n",
       "    <tr>\n",
       "      <th>0</th>\n",
       "      <td>0.446692</td>\n",
       "      <td>0.220117</td>\n",
       "      <td>0.144672</td>\n",
       "      <td>0.106003</td>\n",
       "      <td>0.082516</td>\n",
       "      <td>A</td>\n",
       "    </tr>\n",
       "    <tr>\n",
       "      <th>1</th>\n",
       "      <td>0.442455</td>\n",
       "      <td>0.219658</td>\n",
       "      <td>0.145039</td>\n",
       "      <td>0.107494</td>\n",
       "      <td>0.085354</td>\n",
       "      <td>A</td>\n",
       "    </tr>\n",
       "    <tr>\n",
       "      <th>2</th>\n",
       "      <td>0.446993</td>\n",
       "      <td>0.220535</td>\n",
       "      <td>0.144443</td>\n",
       "      <td>0.105565</td>\n",
       "      <td>0.082465</td>\n",
       "      <td>A</td>\n",
       "    </tr>\n",
       "    <tr>\n",
       "      <th>3</th>\n",
       "      <td>0.457090</td>\n",
       "      <td>0.221898</td>\n",
       "      <td>0.141954</td>\n",
       "      <td>0.101666</td>\n",
       "      <td>0.077392</td>\n",
       "      <td>A</td>\n",
       "    </tr>\n",
       "    <tr>\n",
       "      <th>4</th>\n",
       "      <td>0.447407</td>\n",
       "      <td>0.220674</td>\n",
       "      <td>0.143812</td>\n",
       "      <td>0.105975</td>\n",
       "      <td>0.082134</td>\n",
       "      <td>A</td>\n",
       "    </tr>\n",
       "  </tbody>\n",
       "</table>\n",
       "</div>"
      ],
      "text/plain": [
       "     powLv1    powLv2    powLv3    powLv4    powLv5 kelas\n",
       "0  0.446692  0.220117  0.144672  0.106003  0.082516     A\n",
       "1  0.442455  0.219658  0.145039  0.107494  0.085354     A\n",
       "2  0.446993  0.220535  0.144443  0.105565  0.082465     A\n",
       "3  0.457090  0.221898  0.141954  0.101666  0.077392     A\n",
       "4  0.447407  0.220674  0.143812  0.105975  0.082134     A"
      ]
     },
     "execution_count": 9,
     "metadata": {},
     "output_type": "execute_result"
    }
   ],
   "source": [
    "B2.head()"
   ]
  },
  {
   "cell_type": "code",
   "execution_count": 10,
   "metadata": {},
   "outputs": [
    {
     "name": "stdout",
     "output_type": "stream",
     "text": [
      "kelas\n",
      "A    100\n",
      "C    100\n",
      "Name: count, dtype: int64\n",
      "kelas\n",
      "A    100\n",
      "D    100\n",
      "Name: count, dtype: int64\n",
      "kelas\n",
      "B    100\n",
      "C    100\n",
      "Name: count, dtype: int64\n",
      "kelas\n",
      "B    100\n",
      "D    100\n",
      "Name: count, dtype: int64\n",
      "kelas\n",
      "A    200\n",
      "C    100\n",
      "Name: count, dtype: int64\n",
      "kelas\n",
      "A    200\n",
      "D    100\n",
      "Name: count, dtype: int64\n",
      "kelas\n",
      "A    200\n",
      "C    200\n",
      "Name: count, dtype: int64\n"
     ]
    }
   ],
   "source": [
    "B1_counts = B1['kelas'].value_counts()\n",
    "B2_counts = B2['kelas'].value_counts()\n",
    "B3_counts = B3['kelas'].value_counts()\n",
    "B4_counts = B4['kelas'].value_counts()\n",
    "B5_counts = B5['kelas'].value_counts()\n",
    "B6_counts = B6['kelas'].value_counts()\n",
    "B7_counts = B7['kelas'].value_counts()\n",
    "print(B1_counts)\n",
    "print(B2_counts)\n",
    "print(B3_counts)\n",
    "print(B4_counts)\n",
    "print(B5_counts)\n",
    "print(B6_counts)\n",
    "print(B7_counts)"
   ]
  },
  {
   "cell_type": "code",
   "execution_count": 11,
   "metadata": {},
   "outputs": [
    {
     "data": {
      "text/plain": [
       "100"
      ]
     },
     "execution_count": 11,
     "metadata": {},
     "output_type": "execute_result"
    }
   ],
   "source": [
    "B1_counts.iloc[0]"
   ]
  },
  {
   "cell_type": "code",
   "execution_count": 12,
   "metadata": {},
   "outputs": [
    {
     "name": "stdout",
     "output_type": "stream",
     "text": [
      "B1 file have 100 data labeled as A class and 100 data labeled as C class\n",
      "B2 file have 100 data labeled as A class and 100 data labeled as D class\n",
      "B3 file have 100 data labeled as B class and 100 data labeled as C class\n",
      "B4 file have 100 data labeled as B class and 100 data labeled as D class\n",
      "B5 file have 200 data labeled as A class and 100 data labeled as C class\n",
      "B6 file have 200 data labeled as A class and 100 data labeled as D class\n",
      "B7 file have 200 data labeled as A class and 200 data labeled as C class\n"
     ]
    }
   ],
   "source": [
    "# write down the value counts as string with this format\n",
    "# BX file have BX_counts.iloc[0] data labeled as BX_counts.index[0] and  BX_counts.iloc[1] data labeled as BX_counts.index[1], and so on\n",
    "# for example: B1 file have 100 data labeled as A class and 100 data labeled as C class\n",
    "# you should write it as \"B1 file have 100 data labeled as A class and 100 data labeled as C class\"\n",
    "for i in range(1, 8):\n",
    "    B_counts = eval(f'B{i}_counts')\n",
    "    B_counts_str = f'B{i}_counts_str'\n",
    "    exec(f'{B_counts_str} = f\"B{i} file have {B_counts.iloc[0]} data labeled as {B_counts.index[0]} class and {B_counts.iloc[1]} data labeled as {B_counts.index[1]} class\"')\n",
    "    print(eval(B_counts_str))"
   ]
  },
  {
   "cell_type": "markdown",
   "metadata": {},
   "source": [
    "# A Dataframe and B Dataframe Scenario"
   ]
  },
  {
   "cell_type": "code",
   "execution_count": null,
   "metadata": {},
   "outputs": [],
   "source": [
    "# Define KFold object\n",
    "kfold = KFold(n_splits=10, shuffle=True, random_state=42)\n",
    "\n",
    "# Define metrics function\n",
    "def evaluate_model(model, X_train, X_test, y_train, y_test):\n",
    "    model.fit(X_train, y_train)\n",
    "    y_pred = model.predict(X_test)\n",
    "\n",
    "    accuracy = accuracy_score(y_test, y_pred)\n",
    "    sensitivity = recall_score(y_test, y_pred, average=\"weighted\")  # Macro-average for imbalanced data\n",
    "    specificity = 1 - recall_score(y_test, y_pred, average=\"weighted\", pos_label=\"not_selected\")  # Macro-average for imbalanced data\n",
    "    f1 = f1_score(y_test, y_pred, average=\"weighted\")  # Macro-average for imbalanced data\n",
    "\n",
    "    print(f\"Metrics:\")\n",
    "    print(f\"\\tAccuracy: {accuracy:.4f}\")\n",
    "    print(f\"\\tSensitivity: {sensitivity:.4f}\")\n",
    "    print(f\"\\tSpecificity: {specificity:.4f}\")\n",
    "    print(f\"\\tF1-Score: {f1:.4f}\")\n",
    "\n",
    "# K-Nearest Neighbors (K-NN) Classification\n",
    "print(\"**K-Nearest Neighbors (K-NN):**\")\n",
    "for train_index, test_index in kfold.split(X):\n",
    "    X_train, X_test = X[train_index], X[test_index]\n",
    "    y_train, y_test = y[train_index], y_test[test_index]\n",
    "\n",
    "    # Train-test split within fold (optional, for consistency with SVM)\n",
    "    X_train, X_val, y_train, y_val = train_test_split(X_train, y_train, test_size=0.25, random_state=42)\n",
    "\n",
    "    knn = KNeighborsClassifier(n_neighbors=5)  # Adjust n_neighbors as needed\n",
    "    evaluate_model(knn, X_train, X_val, y_train, y_val)\n",
    "\n",
    "# SVM Classification\n",
    "print(\"**Support Vector Machine (SVM):**\")\n",
    "for train_index, test_index in kfold.split(X):\n",
    "    X_train, X_test = X[train_index], X[test_index]\n",
    "    y_train, y_test = y[train_index], y_test[test_index]\n",
    "\n",
    "    # Train-test split within fold (optional)\n",
    "    X_train, X_val, y_train, y_val = train_test_split(X_train, y_train, test_size=0.25, random_state=42)\n",
    "\n",
    "    svm = SVC(kernel='linear')  # Adjust kernel and other parameters as needed\n",
    "    evaluate_model(svm, X_train, X_val, y_train, y_val)"
   ]
  },
  {
   "cell_type": "code",
   "execution_count": 12,
   "metadata": {},
   "outputs": [],
   "source": [
    "# concatenate the data from all the files\n",
    "A = pd.concat([A1, A2, A3])\n",
    "B = pd.concat([B1, B2, B3, B4, B5, B6, B7])"
   ]
  },
  {
   "cell_type": "markdown",
   "metadata": {},
   "source": [
    "## 10-Fold Cross Validation"
   ]
  },
  {
   "cell_type": "markdown",
   "metadata": {},
   "source": [
    "## 75% Train and 25% Test Split"
   ]
  },
  {
   "cell_type": "code",
   "execution_count": null,
   "metadata": {},
   "outputs": [],
   "source": [
    "from sklearn.model_selection import train_test_split\n",
    "X_train, X_test, Y_train, Y_test = train_test_split(X, Y, test_size=0.25, random_state=0)"
   ]
  },
  {
   "cell_type": "code",
   "execution_count": null,
   "metadata": {},
   "outputs": [],
   "source": [
    "from sklearn.preprocessing import StandardScaler\n",
    "scaler = StandardScaler()\n",
    "X_train_scaled = scaler.fit_transform(X_train)\n",
    "X_test_scaled = scaler.transform(X_test)"
   ]
  },
  {
   "cell_type": "code",
   "execution_count": null,
   "metadata": {},
   "outputs": [],
   "source": [
    "from sklearn.neighbors import KNeighborsClassifier\n",
    "KNN_model = KNeighborsClassifier(n_neighbors=5)\n",
    "KNN_model.fit(X_train_scaled, Y_train)\n",
    "KNN_prediction = KNN_model.predict(X_test_scaled)"
   ]
  },
  {
   "cell_type": "code",
   "execution_count": null,
   "metadata": {},
   "outputs": [],
   "source": [
    "from sklearn.svm import SVC\n",
    "SVM_model = SVC(kernel='sigmoid')\n",
    "SVM_model.fit(X_train_scaled, Y_train)\n",
    "SVM_prediction = SVM_model.predict(X_test_scaled)"
   ]
  },
  {
   "cell_type": "code",
   "execution_count": null,
   "metadata": {},
   "outputs": [
    {
     "name": "stdout",
     "output_type": "stream",
     "text": [
      "[[183  37   0   0   0]\n",
      " [ 43   3   0   0   0]\n",
      " [ 10   5  75  17   3]\n",
      " [  8   1  18  34   6]\n",
      " [ 21   4   1   1  30]]\n",
      "0.65\n",
      "[[150   0  29  10  31]\n",
      " [ 34   0   6   0   6]\n",
      " [  5   0  73  28   4]\n",
      " [  7   0  38  18   4]\n",
      " [ 40   0  12   0   5]]\n",
      "0.492\n"
     ]
    }
   ],
   "source": [
    "from sklearn.metrics import confusion_matrix, accuracy_score\n",
    "KNN_confusion = confusion_matrix(Y_test, KNN_prediction)\n",
    "KNN_accuracy = accuracy_score(Y_test, KNN_prediction)\n",
    "SVM_confusion = confusion_matrix(Y_test, SVM_prediction)\n",
    "SVM_accuracy = accuracy_score(Y_test, SVM_prediction)\n",
    "print(KNN_confusion)\n",
    "print(KNN_accuracy)\n",
    "print(SVM_confusion)\n",
    "print(SVM_accuracy)"
   ]
  },
  {
   "cell_type": "code",
   "execution_count": 8,
   "metadata": {},
   "outputs": [
    {
     "name": "stdout",
     "output_type": "stream",
     "text": [
      "kelas\n",
      "A    300\n",
      "E    300\n",
      "B    100\n",
      "Name: count, dtype: int64\n",
      "kelas\n",
      "A    800\n",
      "C    500\n",
      "D    300\n",
      "B    200\n",
      "Name: count, dtype: int64\n"
     ]
    }
   ],
   "source": [
    "# Coba dengan hanya data A dan B\n",
    "A_value_counts = A['kelas'].value_counts()\n",
    "B_value_counts = B['kelas'].value_counts()\n",
    "print(A_value_counts)\n",
    "print(B_value_counts)"
   ]
  },
  {
   "cell_type": "code",
   "execution_count": 11,
   "metadata": {},
   "outputs": [
    {
     "name": "stdout",
     "output_type": "stream",
     "text": [
      "kelas\n",
      "A    100\n",
      "B    100\n",
      "E    100\n",
      "Name: count, dtype: int64\n",
      "kelas\n",
      "A    100\n",
      "B    100\n",
      "C    100\n",
      "D    100\n",
      "Name: count, dtype: int64\n"
     ]
    }
   ],
   "source": [
    "A_used = A.groupby('kelas').apply(lambda x: x.sample(n=100)).reset_index(drop=True)\n",
    "A_used_value_counts = A_used['kelas'].value_counts()\n",
    "print(A_used_value_counts)\n",
    "B_used = B.groupby('kelas').apply(lambda x: x.sample(n=100)).reset_index(drop=True)\n",
    "B_used_value_counts = B_used['kelas'].value_counts()\n",
    "print(B_used_value_counts)"
   ]
  },
  {
   "cell_type": "code",
   "execution_count": 12,
   "metadata": {},
   "outputs": [],
   "source": [
    "A_feature = A.drop('kelas', axis=1)\n",
    "A_target = A['kelas']\n",
    "B_feature = B.drop('kelas', axis=1)\n",
    "B_target = B['kelas']"
   ]
  },
  {
   "cell_type": "code",
   "execution_count": null,
   "metadata": {},
   "outputs": [],
   "source": [
    "# convert kelas from 'A', 'B', 'C', 'D', 'E' to 0, 1, 2, 3, 4\n",
    "A_target = A_target.apply(lambda x: ord(x) - ord('A'))\n",
    "B_target = B_target.apply(lambda x: ord(x) - ord('A'))"
   ]
  },
  {
   "cell_type": "code",
   "execution_count": 21,
   "metadata": {},
   "outputs": [],
   "source": [
    "from sklearn.model_selection import LeaveOneOut\n",
    "from sklearn.preprocessing import StandardScaler\n",
    "\n",
    "scaler = StandardScaler()\n",
    "ten_fold_cv = LeaveOneOut()\n",
    "from sklearn.neighbors import KNeighborsClassifier\n",
    "KNN_model_A = KNeighborsClassifier(n_neighbors=3)\n",
    "KNN_model_B = KNeighborsClassifier(n_neighbors=4)\n",
    "from sklearn.svm import SVC\n",
    "SVM_model_A = SVC(kernel='sigmoid')\n",
    "SVM_model_B = SVC(kernel='sigmoid')"
   ]
  },
  {
   "cell_type": "code",
   "execution_count": 24,
   "metadata": {},
   "outputs": [],
   "source": [
    "from sklearn.metrics import confusion_matrix, accuracy_score\n",
    "def count_metric(y_true, y_pred):\n",
    "    tp, fp = confusion_matrix(y_true, y_pred).ravel()\n",
    "    accuracy = accuracy_score(y_true, y_pred)\n",
    "    \n",
    "    # manually count sensitivity, specificity, and f1-score\n",
    "    sensitivity = confusion[0] / (confusion[0] + confusion[2])\n",
    "    specificity = confusion[1] / (confusion[1] + confusion[3])\n",
    "    f1_score = 2 * (sensitivity * specificity) / (sensitivity + specificity)\n",
    "    return confusion, accuracy, sensitivity, specificity, f1_score"
   ]
  },
  {
   "cell_type": "code",
   "execution_count": null,
   "metadata": {},
   "outputs": [],
   "source": [
    "for train_index, test_index in ten_fold_cv.split(A_feature):\n",
    "    A_train_feature, A_test_feature = A_feature.iloc[train_index], A_feature.iloc[test_index]\n",
    "    A_train_target, A_test_target = A_target.iloc[train_index], A_target.iloc[test_index]\n",
    "    B_train_feature, B_test_feature = B_feature.iloc[train_index], B_feature.iloc[test_index]\n",
    "    B_train_target, B_test_target = B_target.iloc[train_index], B_target.iloc[test_index]\n",
    "\n",
    "    A_train_feature_scaled = scaler.fit_transform(A_train_feature)\n",
    "    A_test_feature_scaled = scaler.transform(A_test_feature)\n",
    "    B_train_feature_scaled = scaler.fit_transform(B_train_feature)\n",
    "    B_test_feature_scaled = scaler.transform(B_test_feature)\n",
    "\n",
    "    KNN_model_A.fit(A_train_feature_scaled, A_train_target)\n",
    "    KNN_prediction_A = KNN_model_A.predict(A_test_feature_scaled)\n",
    "    SVM_model_A.fit(A_train_feature_scaled, A_train_target)\n",
    "    SVM_prediction_A = SVM_model_A.predict(A_test_feature_scaled)\n",
    "\n",
    "    KNN_model_B.fit(B_train_feature_scaled, B_train_target)\n",
    "    KNN_prediction_B = KNN_model_B.predict(B_test_feature_scaled)\n",
    "    SVM_model_B.fit(B_train_feature_scaled, B_train_target)\n",
    "    SVM_prediction_B = SVM_model_B.predict(B_test_feature_scaled)\n",
    "\n",
    "    \n",
    "    KNN_A_metric = count_metric(A_test_target, KNN_prediction_A)\n",
    "    SVM_A_metric = count_metric(A_test_target, SVM_prediction_A)\n",
    "    KNN_B_metric = count_metric(B_test_target, KNN_prediction_B)\n",
    "    SVM_B_metric = count_metric(B_test_target, SVM_prediction_B)\n",
    "\n",
    "    print(\"KNN A:\", KNN_A_metric)\n",
    "    print(\"SVM A:\", SVM_A_metric)\n",
    "    print(\"KNN B:\", KNN_B_metric)\n",
    "    print(\"SVM B:\", SVM_B_metric)"
   ]
  },
  {
   "cell_type": "code",
   "execution_count": null,
   "metadata": {},
   "outputs": [],
   "source": [
    "A_train, A_test, A_target_train, A_target_test = train_test_split(A_feature, A_target, test_size=0.2, random_state=0)\n",
    "B_train, B_test, B_target_train, B_target_test = train_test_split(B_feature, B_target, test_size=0.2, random_state=0)"
   ]
  },
  {
   "cell_type": "code",
   "execution_count": null,
   "metadata": {},
   "outputs": [],
   "source": [
    "# coba tanpa Scaler\n",
    "KNN_model_A = KNeighborsClassifier(n_neighbors=3)\n",
    "KNN_model_A.fit(A_train, A_target_train)\n",
    "KNN_prediction_A = KNN_model_A.predict(A_test)"
   ]
  },
  {
   "cell_type": "code",
   "execution_count": null,
   "metadata": {},
   "outputs": [
    {
     "name": "stdout",
     "output_type": "stream",
     "text": [
      "[46 13  7 13  0  6  4  0 51]\n",
      "0.6928571428571428\n"
     ]
    }
   ],
   "source": [
    "KNN_confusion_A = confusion_matrix(A_target_test, KNN_prediction_A).ravel()\n",
    "KNN_accuracy_A = accuracy_score(A_target_test, KNN_prediction_A)\n",
    "print(KNN_confusion_A)\n",
    "print(KNN_accuracy_A)"
   ]
  },
  {
   "cell_type": "code",
   "execution_count": null,
   "metadata": {},
   "outputs": [],
   "source": [
    "KNN_model_B = KNeighborsClassifier(n_neighbors=4)\n",
    "KNN_model_B.fit(B_train, B_target_train)\n",
    "KNN_prediction_B = KNN_model_B.predict(B_test)"
   ]
  },
  {
   "cell_type": "code",
   "execution_count": null,
   "metadata": {},
   "outputs": [
    {
     "name": "stdout",
     "output_type": "stream",
     "text": [
      "[152   4   3   0  38   1   1   0   6   0  83  10   2   0  32  28]\n",
      "0.7333333333333333\n"
     ]
    }
   ],
   "source": [
    "KNN_confusion_B = confusion_matrix(B_target_test, KNN_prediction_B).ravel()\n",
    "KNN_accuracy_B = accuracy_score(B_target_test, KNN_prediction_B)\n",
    "print(KNN_confusion_B)\n",
    "print(KNN_accuracy_B)"
   ]
  },
  {
   "cell_type": "markdown",
   "metadata": {},
   "source": [
    "# Combined all data into one dataframe Scenario"
   ]
  },
  {
   "cell_type": "code",
   "execution_count": null,
   "metadata": {},
   "outputs": [],
   "source": [
    "combined = pd.concat([A, B])\n",
    "combined.describe()"
   ]
  },
  {
   "cell_type": "code",
   "execution_count": null,
   "metadata": {},
   "outputs": [],
   "source": [
    "# make X as the feature and Y as the target\n",
    "X = combined.drop('kelas', axis=1)\n",
    "Y = combined['kelas']"
   ]
  },
  {
   "cell_type": "code",
   "execution_count": 6,
   "metadata": {},
   "outputs": [
    {
     "data": {
      "text/plain": [
       "kelas\n",
       "A    1100\n",
       "C     500\n",
       "E     300\n",
       "B     300\n",
       "D     300\n",
       "Name: count, dtype: int64"
      ]
     },
     "execution_count": 6,
     "metadata": {},
     "output_type": "execute_result"
    }
   ],
   "source": [
    "combined_value_counts = combined['kelas'].value_counts()\n",
    "combined_value_counts"
   ]
  }
 ],
 "metadata": {
  "kernelspec": {
   "display_name": "Python 3",
   "language": "python",
   "name": "python3"
  },
  "language_info": {
   "codemirror_mode": {
    "name": "ipython",
    "version": 3
   },
   "file_extension": ".py",
   "mimetype": "text/x-python",
   "name": "python",
   "nbconvert_exporter": "python",
   "pygments_lexer": "ipython3",
   "version": "3.10.12"
  }
 },
 "nbformat": 4,
 "nbformat_minor": 2
}
