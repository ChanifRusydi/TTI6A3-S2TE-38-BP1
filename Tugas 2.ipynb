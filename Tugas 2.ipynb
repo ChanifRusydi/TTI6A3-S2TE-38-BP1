{
 "cells": [
  {
   "cell_type": "code",
   "execution_count": 3,
   "metadata": {},
   "outputs": [],
   "source": [
    "import pandas as pd\n",
    "import numpy as np"
   ]
  },
  {
   "cell_type": "code",
   "execution_count": 4,
   "metadata": {},
   "outputs": [],
   "source": [
    "data = pd.read_csv('data0-SZL.csv', header=None)"
   ]
  },
  {
   "cell_type": "code",
   "execution_count": 5,
   "metadata": {},
   "outputs": [
    {
     "data": {
      "text/plain": [
       "0      968.528056\n",
       "1      960.033056\n",
       "2      967.599167\n",
       "3      962.972778\n",
       "4      970.030833\n",
       "          ...    \n",
       "155    973.942778\n",
       "156    976.740833\n",
       "157    992.410833\n",
       "158    991.068333\n",
       "159    977.987500\n",
       "Length: 160, dtype: float64"
      ]
     },
     "execution_count": 5,
     "metadata": {},
     "output_type": "execute_result"
    }
   ],
   "source": [
    "average = data.mean()\n",
    "average"
   ]
  },
  {
   "cell_type": "code",
   "execution_count": 6,
   "metadata": {},
   "outputs": [
    {
     "data": {
      "text/plain": [
       "0      38.083525\n",
       "1      35.913069\n",
       "2      39.108105\n",
       "3      39.202920\n",
       "4      38.266935\n",
       "         ...    \n",
       "155    72.619977\n",
       "156    65.493207\n",
       "157    45.921461\n",
       "158    91.300747\n",
       "159    94.742045\n",
       "Length: 160, dtype: float64"
      ]
     },
     "execution_count": 6,
     "metadata": {},
     "output_type": "execute_result"
    }
   ],
   "source": [
    "standard_deviation = data.std()\n",
    "standard_deviation"
   ]
  },
  {
   "cell_type": "code",
   "execution_count": 7,
   "metadata": {},
   "outputs": [
    {
     "data": {
      "text/plain": [
       "0      4.540939\n",
       "1      4.658811\n",
       "2      4.216445\n",
       "3      4.390423\n",
       "4      4.596874\n",
       "         ...   \n",
       "155    1.187207\n",
       "156    1.692602\n",
       "157    1.388108\n",
       "158    2.181591\n",
       "159    2.465590\n",
       "Length: 160, dtype: float64"
      ]
     },
     "execution_count": 7,
     "metadata": {},
     "output_type": "execute_result"
    }
   ],
   "source": [
    "skew = data.skew()\n",
    "skew"
   ]
  },
  {
   "cell_type": "code",
   "execution_count": 8,
   "metadata": {},
   "outputs": [
    {
     "data": {
      "text/plain": [
       "0      964.0\n",
       "1      956.0\n",
       "2      962.0\n",
       "3      958.0\n",
       "4      964.0\n",
       "       ...  \n",
       "155    965.0\n",
       "156    966.0\n",
       "157    984.0\n",
       "158    985.0\n",
       "159    962.0\n",
       "Length: 160, dtype: float64"
      ]
     },
     "execution_count": 8,
     "metadata": {},
     "output_type": "execute_result"
    }
   ],
   "source": [
    "median = data.median()\n",
    "median"
   ]
  },
  {
   "cell_type": "code",
   "execution_count": 9,
   "metadata": {},
   "outputs": [
    {
     "data": {
      "text/plain": [
       "0      906\n",
       "1      901\n",
       "2      901\n",
       "3      904\n",
       "4      908\n",
       "      ... \n",
       "155    708\n",
       "156    743\n",
       "157    830\n",
       "158    760\n",
       "159    798\n",
       "Length: 160, dtype: int64"
      ]
     },
     "execution_count": 9,
     "metadata": {},
     "output_type": "execute_result"
    }
   ],
   "source": [
    "column_min = data.min()\n",
    "column_min"
   ]
  },
  {
   "cell_type": "code",
   "execution_count": 10,
   "metadata": {},
   "outputs": [
    {
     "data": {
      "text/plain": [
       "0      1260\n",
       "1      1235\n",
       "2      1248\n",
       "3      1243\n",
       "4      1286\n",
       "       ... \n",
       "155    1390\n",
       "156    1336\n",
       "157    1219\n",
       "158    1513\n",
       "159    1481\n",
       "Length: 160, dtype: int64"
      ]
     },
     "execution_count": 10,
     "metadata": {},
     "output_type": "execute_result"
    }
   ],
   "source": [
    "column_max = data.max()\n",
    "column_max"
   ]
  },
  {
   "cell_type": "code",
   "execution_count": null,
   "metadata": {},
   "outputs": [],
   "source": []
  }
 ],
 "metadata": {
  "kernelspec": {
   "display_name": "Python 3",
   "language": "python",
   "name": "python3"
  },
  "language_info": {
   "codemirror_mode": {
    "name": "ipython",
    "version": 3
   },
   "file_extension": ".py",
   "mimetype": "text/x-python",
   "name": "python",
   "nbconvert_exporter": "python",
   "pygments_lexer": "ipython3",
   "version": "3.10.12"
  }
 },
 "nbformat": 4,
 "nbformat_minor": 2
}
